{
 "cells": [
  {
   "cell_type": "markdown",
   "metadata": {},
   "source": [
    "# Data Cleaning"
   ]
  },
  {
   "cell_type": "code",
   "execution_count": 48,
   "metadata": {},
   "outputs": [],
   "source": [
    "import pandas as pd\n",
    "from nltk import RegexpTokenizer, PorterStemmer"
   ]
  },
  {
   "cell_type": "markdown",
   "metadata": {},
   "source": [
    "### Data Dictionary\n",
    "\n",
    "|Key|Value Type|Value Description|\n",
    "|---|---|---|\n",
    "|danceability|float|Danceability describes how suitable a track is for dancing based on a combination of musical elements including tempo, rhythm stability, beat strength, and overall regularity. A value of 0.0 is least danceable and 1.0 is most danceable.|\n",
    "|energy|float|Energy is a measure from 0.0 to 1.0 and represents a perceptual measure of intensity and activity. Typically, energetic tracks feel fast, loud, and noisy. For example, death metal has high energy, while a Bach prelude scores low on the scale. Perceptual features contributing to this attribute include dynamic range, perceived loudness, timbre, onset rate, and general entropy.|\n",
    "|key|int|The estimated overall key of the track. Integers map to pitches using standard Pitch Class notation. E.g. 0 = C, 1 = C♯/D♭, 2 = D, and so on. If no key was detected, the value is -1.|\n",
    "|loudness|float|The overall loudness of a track in decibels (dB). Loudness values are averaged across the entire track and are useful for comparing relative loudness of tracks. Loudness is the quality of a sound that is the primary psychological correlate of physical strength (amplitude). Values typically range between -60 and 0 db.|\n",
    "|mode|int|Mode indicates the modality (major or minor) of a track, the type of scale from which its melodic content is derived. Major is represented by 1 and minor is 0.|\n",
    "|speechiness|float|Speechiness detects the presence of spoken words in a track. The more exclusively speech-like the recording (e.g. talk show, audio book, poetry), the closer to 1.0 the attribute value. Values above 0.66 describe tracks that are probably made entirely of spoken words. Values between 0.33 and 0.66 describe tracks that may contain both music and speech, either in sections or layered, including such cases as rap music. Values below 0.33 most likely represent music and other non-speech-like tracks.|\n",
    "|acousticness|float|A confidence measure from 0.0 to 1.0 of whether the track is acoustic. 1.0 represents high confidence the track is acoustic.|\n",
    "|instrumentalness|float|Predicts whether a track contains no vocals. “Ooh” and “aah” sounds are treated as instrumental in this context. Rap or spoken word tracks are clearly “vocal”. The closer the instrumentalness value is to 1.0, the greater likelihood the track contains no vocal content. Values above 0.5 are intended to represent instrumental tracks, but confidence is higher as the value approaches 1.0.|\n",
    "|liveness|float|Detects the presence of an audience in the recording. Higher liveness values represent an increased probability that the track was performed live. A value above 0.8 provides strong likelihood that the track is live.|\n",
    "|valence|float|A measure from 0.0 to 1.0 describing the musical positiveness conveyed by a track. Tracks with high valence sound more positive (e.g. happy, cheerful, euphoric), while tracks with low valence sound more negative (e.g. sad, depressed, angry).|\n",
    "|tempo|float|The overall estimated tempo of a track in beats per minute (BPM).|\n",
    "|duration_sec|float|The duration of the track in seconds.|\n",
    "|time_signature|int|An estimated overall time signature of a track. The time signature (meter) is a notational convention to specify how many beats are in each bar (or measure).|"
   ]
  },
  {
   "cell_type": "markdown",
   "metadata": {},
   "source": [
    "### Dropped Columns\n",
    "\n",
    "|Key|Value Type|Value Description|\n",
    "|---|---|---|\n",
    "|Unnamed: 0|int|Index from csv|\n",
    "|type|string|The object type: “audio_features”|\n",
    "|id|string|The Spotify ID for the track.|\n",
    "|uri|string|The Spotify URI for the track.|\n",
    "|track_href|string|A link to the Web API endpoint providing full details of the track.|\n",
    "|analysis_url|string|An HTTP URL to access the full audio analysis of this track. An access token is required to access this data.|\n",
    "|duration_ms|int|The duration of the track in milliseconds."
   ]
  },
  {
   "cell_type": "markdown",
   "metadata": {},
   "source": [
    "### Clean and Merge Audio Feature DataFrames"
   ]
  },
  {
   "cell_type": "code",
   "execution_count": 3,
   "metadata": {},
   "outputs": [],
   "source": [
    "# Create a function to clean, manipulate, and concatenate dataframes\n",
    "# The inputs are 2 dataframes \n",
    "def clean_master(df1, df2):\n",
    "    \n",
    "    # Concatenate dataframes\n",
    "    master_df = pd.concat([df1, df2])\n",
    "    \n",
    "    # Drop columns that will not be used for analysis\n",
    "    master_df.drop(['Unnamed: 0', 'type', 'id', 'uri', 'track_href', 'analysis_url'], axis=1, inplace=True)\n",
    "    \n",
    "    # Create a new column with 'duration_ms' (milliseconds) column values converted to seconds\n",
    "    master_df['duration_sec'] = master_df['duration_ms'].map(lambda x: x/1000)\n",
    "    \n",
    "    # Drop 'duration_ms' column\n",
    "    master_df.drop('duration_ms', axis=1, inplace=True)\n",
    "    \n",
    "    # Drop all duplicates\n",
    "    master_df.drop_duplicates(inplace=True)\n",
    "    return master_df"
   ]
  },
  {
   "cell_type": "markdown",
   "metadata": {},
   "source": [
    "### 2018 audio features"
   ]
  },
  {
   "cell_type": "code",
   "execution_count": 4,
   "metadata": {},
   "outputs": [],
   "source": [
    "bb_18_ft = pd.read_csv('./data/2018_billboard_features')"
   ]
  },
  {
   "cell_type": "code",
   "execution_count": 5,
   "metadata": {},
   "outputs": [],
   "source": [
    "sf_18_ft = pd.read_csv('./data/2018_songfacts_features')"
   ]
  },
  {
   "cell_type": "code",
   "execution_count": 6,
   "metadata": {},
   "outputs": [],
   "source": [
    "# Run function on 2018 billboard and songfacts audio features\n",
    "master_18_ft = clean_master(bb_18_ft, sf_18_ft)"
   ]
  },
  {
   "cell_type": "code",
   "execution_count": 8,
   "metadata": {},
   "outputs": [
    {
     "data": {
      "text/plain": [
       "(1395, 13)"
      ]
     },
     "execution_count": 8,
     "metadata": {},
     "output_type": "execute_result"
    }
   ],
   "source": [
    "master_18_ft.shape"
   ]
  },
  {
   "cell_type": "code",
   "execution_count": 9,
   "metadata": {},
   "outputs": [
    {
     "data": {
      "text/html": [
       "<div>\n",
       "<style scoped>\n",
       "    .dataframe tbody tr th:only-of-type {\n",
       "        vertical-align: middle;\n",
       "    }\n",
       "\n",
       "    .dataframe tbody tr th {\n",
       "        vertical-align: top;\n",
       "    }\n",
       "\n",
       "    .dataframe thead th {\n",
       "        text-align: right;\n",
       "    }\n",
       "</style>\n",
       "<table border=\"1\" class=\"dataframe\">\n",
       "  <thead>\n",
       "    <tr style=\"text-align: right;\">\n",
       "      <th></th>\n",
       "      <th>danceability</th>\n",
       "      <th>energy</th>\n",
       "      <th>key</th>\n",
       "      <th>loudness</th>\n",
       "      <th>mode</th>\n",
       "      <th>speechiness</th>\n",
       "      <th>acousticness</th>\n",
       "      <th>instrumentalness</th>\n",
       "      <th>liveness</th>\n",
       "      <th>valence</th>\n",
       "      <th>tempo</th>\n",
       "      <th>time_signature</th>\n",
       "      <th>duration_sec</th>\n",
       "    </tr>\n",
       "  </thead>\n",
       "  <tbody>\n",
       "    <tr>\n",
       "      <th>0</th>\n",
       "      <td>0.754</td>\n",
       "      <td>0.449</td>\n",
       "      <td>7</td>\n",
       "      <td>-9.211</td>\n",
       "      <td>1</td>\n",
       "      <td>0.1090</td>\n",
       "      <td>0.0332</td>\n",
       "      <td>0.000083</td>\n",
       "      <td>0.552</td>\n",
       "      <td>0.357</td>\n",
       "      <td>77.169</td>\n",
       "      <td>4</td>\n",
       "      <td>198.973</td>\n",
       "    </tr>\n",
       "    <tr>\n",
       "      <th>1</th>\n",
       "      <td>0.599</td>\n",
       "      <td>0.448</td>\n",
       "      <td>8</td>\n",
       "      <td>-6.312</td>\n",
       "      <td>1</td>\n",
       "      <td>0.0232</td>\n",
       "      <td>0.1630</td>\n",
       "      <td>0.000000</td>\n",
       "      <td>0.106</td>\n",
       "      <td>0.168</td>\n",
       "      <td>95.050</td>\n",
       "      <td>3</td>\n",
       "      <td>263.400</td>\n",
       "    </tr>\n",
       "    <tr>\n",
       "      <th>2</th>\n",
       "      <td>0.643</td>\n",
       "      <td>0.783</td>\n",
       "      <td>10</td>\n",
       "      <td>-6.458</td>\n",
       "      <td>1</td>\n",
       "      <td>0.0856</td>\n",
       "      <td>0.0470</td>\n",
       "      <td>0.000000</td>\n",
       "      <td>0.083</td>\n",
       "      <td>0.579</td>\n",
       "      <td>154.084</td>\n",
       "      <td>4</td>\n",
       "      <td>163.870</td>\n",
       "    </tr>\n",
       "    <tr>\n",
       "      <th>3</th>\n",
       "      <td>0.765</td>\n",
       "      <td>0.523</td>\n",
       "      <td>2</td>\n",
       "      <td>-4.333</td>\n",
       "      <td>1</td>\n",
       "      <td>0.0300</td>\n",
       "      <td>0.1840</td>\n",
       "      <td>0.000036</td>\n",
       "      <td>0.132</td>\n",
       "      <td>0.394</td>\n",
       "      <td>104.988</td>\n",
       "      <td>4</td>\n",
       "      <td>217.307</td>\n",
       "    </tr>\n",
       "    <tr>\n",
       "      <th>4</th>\n",
       "      <td>0.587</td>\n",
       "      <td>0.535</td>\n",
       "      <td>5</td>\n",
       "      <td>-6.090</td>\n",
       "      <td>0</td>\n",
       "      <td>0.0898</td>\n",
       "      <td>0.1170</td>\n",
       "      <td>0.000066</td>\n",
       "      <td>0.131</td>\n",
       "      <td>0.140</td>\n",
       "      <td>159.847</td>\n",
       "      <td>4</td>\n",
       "      <td>218.147</td>\n",
       "    </tr>\n",
       "  </tbody>\n",
       "</table>\n",
       "</div>"
      ],
      "text/plain": [
       "   danceability  energy  key  loudness  mode  speechiness  acousticness  \\\n",
       "0         0.754   0.449    7    -9.211     1       0.1090        0.0332   \n",
       "1         0.599   0.448    8    -6.312     1       0.0232        0.1630   \n",
       "2         0.643   0.783   10    -6.458     1       0.0856        0.0470   \n",
       "3         0.765   0.523    2    -4.333     1       0.0300        0.1840   \n",
       "4         0.587   0.535    5    -6.090     0       0.0898        0.1170   \n",
       "\n",
       "   instrumentalness  liveness  valence    tempo  time_signature  duration_sec  \n",
       "0          0.000083     0.552    0.357   77.169               4       198.973  \n",
       "1          0.000000     0.106    0.168   95.050               3       263.400  \n",
       "2          0.000000     0.083    0.579  154.084               4       163.870  \n",
       "3          0.000036     0.132    0.394  104.988               4       217.307  \n",
       "4          0.000066     0.131    0.140  159.847               4       218.147  "
      ]
     },
     "execution_count": 9,
     "metadata": {},
     "output_type": "execute_result"
    }
   ],
   "source": [
    "master_18_ft.head()"
   ]
  },
  {
   "cell_type": "code",
   "execution_count": 23,
   "metadata": {},
   "outputs": [],
   "source": [
    "# Create master csv file for EDA and modeling\n",
    "master_18_ft.to_csv('./data/MASTER_2018_audio_features')"
   ]
  },
  {
   "cell_type": "markdown",
   "metadata": {},
   "source": [
    "### 2013 audio features"
   ]
  },
  {
   "cell_type": "code",
   "execution_count": 10,
   "metadata": {},
   "outputs": [],
   "source": [
    "bb_13_ft = pd.read_csv('./data/2013_billboard_features')"
   ]
  },
  {
   "cell_type": "code",
   "execution_count": 11,
   "metadata": {},
   "outputs": [],
   "source": [
    "sf_13_ft = pd.read_csv('./data/2013_songfacts_features')"
   ]
  },
  {
   "cell_type": "code",
   "execution_count": 12,
   "metadata": {},
   "outputs": [],
   "source": [
    "# Run function on 2013 billboard and songfacts audio features\n",
    "master_13_ft = clean_master(bb_13_ft, sf_13_ft)"
   ]
  },
  {
   "cell_type": "code",
   "execution_count": 13,
   "metadata": {},
   "outputs": [
    {
     "data": {
      "text/plain": [
       "(1499, 13)"
      ]
     },
     "execution_count": 13,
     "metadata": {},
     "output_type": "execute_result"
    }
   ],
   "source": [
    "master_13_ft.shape"
   ]
  },
  {
   "cell_type": "code",
   "execution_count": 14,
   "metadata": {},
   "outputs": [
    {
     "data": {
      "text/html": [
       "<div>\n",
       "<style scoped>\n",
       "    .dataframe tbody tr th:only-of-type {\n",
       "        vertical-align: middle;\n",
       "    }\n",
       "\n",
       "    .dataframe tbody tr th {\n",
       "        vertical-align: top;\n",
       "    }\n",
       "\n",
       "    .dataframe thead th {\n",
       "        text-align: right;\n",
       "    }\n",
       "</style>\n",
       "<table border=\"1\" class=\"dataframe\">\n",
       "  <thead>\n",
       "    <tr style=\"text-align: right;\">\n",
       "      <th></th>\n",
       "      <th>danceability</th>\n",
       "      <th>energy</th>\n",
       "      <th>key</th>\n",
       "      <th>loudness</th>\n",
       "      <th>mode</th>\n",
       "      <th>speechiness</th>\n",
       "      <th>acousticness</th>\n",
       "      <th>instrumentalness</th>\n",
       "      <th>liveness</th>\n",
       "      <th>valence</th>\n",
       "      <th>tempo</th>\n",
       "      <th>time_signature</th>\n",
       "      <th>duration_sec</th>\n",
       "    </tr>\n",
       "  </thead>\n",
       "  <tbody>\n",
       "    <tr>\n",
       "      <th>0</th>\n",
       "      <td>0.781</td>\n",
       "      <td>0.526</td>\n",
       "      <td>6</td>\n",
       "      <td>-6.985</td>\n",
       "      <td>0</td>\n",
       "      <td>0.2930</td>\n",
       "      <td>0.06190</td>\n",
       "      <td>0.000000</td>\n",
       "      <td>0.0457</td>\n",
       "      <td>0.662</td>\n",
       "      <td>94.992</td>\n",
       "      <td>4</td>\n",
       "      <td>235.613</td>\n",
       "    </tr>\n",
       "    <tr>\n",
       "      <th>1</th>\n",
       "      <td>0.862</td>\n",
       "      <td>0.608</td>\n",
       "      <td>7</td>\n",
       "      <td>-4.762</td>\n",
       "      <td>1</td>\n",
       "      <td>0.0402</td>\n",
       "      <td>0.00373</td>\n",
       "      <td>0.000006</td>\n",
       "      <td>0.0856</td>\n",
       "      <td>0.836</td>\n",
       "      <td>120.002</td>\n",
       "      <td>4</td>\n",
       "      <td>263.827</td>\n",
       "    </tr>\n",
       "    <tr>\n",
       "      <th>2</th>\n",
       "      <td>0.448</td>\n",
       "      <td>0.784</td>\n",
       "      <td>9</td>\n",
       "      <td>-3.686</td>\n",
       "      <td>1</td>\n",
       "      <td>0.0627</td>\n",
       "      <td>0.10600</td>\n",
       "      <td>0.000108</td>\n",
       "      <td>0.6680</td>\n",
       "      <td>0.236</td>\n",
       "      <td>136.245</td>\n",
       "      <td>4</td>\n",
       "      <td>186.813</td>\n",
       "    </tr>\n",
       "    <tr>\n",
       "      <th>3</th>\n",
       "      <td>0.452</td>\n",
       "      <td>0.794</td>\n",
       "      <td>0</td>\n",
       "      <td>-5.151</td>\n",
       "      <td>1</td>\n",
       "      <td>0.0483</td>\n",
       "      <td>0.01110</td>\n",
       "      <td>0.001820</td>\n",
       "      <td>0.4160</td>\n",
       "      <td>0.282</td>\n",
       "      <td>137.825</td>\n",
       "      <td>4</td>\n",
       "      <td>196.664</td>\n",
       "    </tr>\n",
       "    <tr>\n",
       "      <th>4</th>\n",
       "      <td>0.641</td>\n",
       "      <td>0.922</td>\n",
       "      <td>2</td>\n",
       "      <td>-4.457</td>\n",
       "      <td>1</td>\n",
       "      <td>0.0786</td>\n",
       "      <td>0.02910</td>\n",
       "      <td>0.000000</td>\n",
       "      <td>0.0862</td>\n",
       "      <td>0.847</td>\n",
       "      <td>146.078</td>\n",
       "      <td>4</td>\n",
       "      <td>258.343</td>\n",
       "    </tr>\n",
       "  </tbody>\n",
       "</table>\n",
       "</div>"
      ],
      "text/plain": [
       "   danceability  energy  key  loudness  mode  speechiness  acousticness  \\\n",
       "0         0.781   0.526    6    -6.985     0       0.2930       0.06190   \n",
       "1         0.862   0.608    7    -4.762     1       0.0402       0.00373   \n",
       "2         0.448   0.784    9    -3.686     1       0.0627       0.10600   \n",
       "3         0.452   0.794    0    -5.151     1       0.0483       0.01110   \n",
       "4         0.641   0.922    2    -4.457     1       0.0786       0.02910   \n",
       "\n",
       "   instrumentalness  liveness  valence    tempo  time_signature  duration_sec  \n",
       "0          0.000000    0.0457    0.662   94.992               4       235.613  \n",
       "1          0.000006    0.0856    0.836  120.002               4       263.827  \n",
       "2          0.000108    0.6680    0.236  136.245               4       186.813  \n",
       "3          0.001820    0.4160    0.282  137.825               4       196.664  \n",
       "4          0.000000    0.0862    0.847  146.078               4       258.343  "
      ]
     },
     "execution_count": 14,
     "metadata": {},
     "output_type": "execute_result"
    }
   ],
   "source": [
    "master_13_ft.head()"
   ]
  },
  {
   "cell_type": "code",
   "execution_count": 24,
   "metadata": {},
   "outputs": [],
   "source": [
    "# Create master csv file for EDA and modeling\n",
    "master_13_ft.to_csv('./data/MASTER_2013_audio_features')"
   ]
  },
  {
   "cell_type": "markdown",
   "metadata": {},
   "source": [
    "### 2008 audio features"
   ]
  },
  {
   "cell_type": "code",
   "execution_count": 15,
   "metadata": {},
   "outputs": [],
   "source": [
    "bb_08_ft = pd.read_csv('./data/2008_billboard_features')"
   ]
  },
  {
   "cell_type": "code",
   "execution_count": 17,
   "metadata": {},
   "outputs": [],
   "source": [
    "sf_08_ft = pd.read_csv('./data/2008_songfacts_features')"
   ]
  },
  {
   "cell_type": "code",
   "execution_count": 18,
   "metadata": {},
   "outputs": [],
   "source": [
    "# Run function on 2008 billboard and songfacts audio features\n",
    "master_08_ft = clean_master(bb_08_ft, sf_08_ft)"
   ]
  },
  {
   "cell_type": "code",
   "execution_count": 19,
   "metadata": {},
   "outputs": [
    {
     "data": {
      "text/plain": [
       "(1531, 13)"
      ]
     },
     "execution_count": 19,
     "metadata": {},
     "output_type": "execute_result"
    }
   ],
   "source": [
    "master_08_ft.shape"
   ]
  },
  {
   "cell_type": "code",
   "execution_count": 20,
   "metadata": {},
   "outputs": [
    {
     "data": {
      "text/html": [
       "<div>\n",
       "<style scoped>\n",
       "    .dataframe tbody tr th:only-of-type {\n",
       "        vertical-align: middle;\n",
       "    }\n",
       "\n",
       "    .dataframe tbody tr th {\n",
       "        vertical-align: top;\n",
       "    }\n",
       "\n",
       "    .dataframe thead th {\n",
       "        text-align: right;\n",
       "    }\n",
       "</style>\n",
       "<table border=\"1\" class=\"dataframe\">\n",
       "  <thead>\n",
       "    <tr style=\"text-align: right;\">\n",
       "      <th></th>\n",
       "      <th>danceability</th>\n",
       "      <th>energy</th>\n",
       "      <th>key</th>\n",
       "      <th>loudness</th>\n",
       "      <th>mode</th>\n",
       "      <th>speechiness</th>\n",
       "      <th>acousticness</th>\n",
       "      <th>instrumentalness</th>\n",
       "      <th>liveness</th>\n",
       "      <th>valence</th>\n",
       "      <th>tempo</th>\n",
       "      <th>time_signature</th>\n",
       "      <th>duration_sec</th>\n",
       "    </tr>\n",
       "  </thead>\n",
       "  <tbody>\n",
       "    <tr>\n",
       "      <th>0</th>\n",
       "      <td>0.584</td>\n",
       "      <td>0.569</td>\n",
       "      <td>0</td>\n",
       "      <td>-4.259</td>\n",
       "      <td>1</td>\n",
       "      <td>0.1660</td>\n",
       "      <td>0.0508</td>\n",
       "      <td>0.000000</td>\n",
       "      <td>0.0924</td>\n",
       "      <td>0.501</td>\n",
       "      <td>89.779</td>\n",
       "      <td>4</td>\n",
       "      <td>217.603</td>\n",
       "    </tr>\n",
       "    <tr>\n",
       "      <th>1</th>\n",
       "      <td>0.638</td>\n",
       "      <td>0.656</td>\n",
       "      <td>5</td>\n",
       "      <td>-5.886</td>\n",
       "      <td>1</td>\n",
       "      <td>0.0357</td>\n",
       "      <td>0.1880</td>\n",
       "      <td>0.000000</td>\n",
       "      <td>0.1460</td>\n",
       "      <td>0.225</td>\n",
       "      <td>104.036</td>\n",
       "      <td>4</td>\n",
       "      <td>262.467</td>\n",
       "    </tr>\n",
       "    <tr>\n",
       "      <th>2</th>\n",
       "      <td>0.703</td>\n",
       "      <td>0.748</td>\n",
       "      <td>1</td>\n",
       "      <td>-6.047</td>\n",
       "      <td>1</td>\n",
       "      <td>0.0435</td>\n",
       "      <td>0.1230</td>\n",
       "      <td>0.000000</td>\n",
       "      <td>0.0642</td>\n",
       "      <td>0.625</td>\n",
       "      <td>111.943</td>\n",
       "      <td>4</td>\n",
       "      <td>184.080</td>\n",
       "    </tr>\n",
       "    <tr>\n",
       "      <th>3</th>\n",
       "      <td>0.828</td>\n",
       "      <td>0.433</td>\n",
       "      <td>0</td>\n",
       "      <td>-9.716</td>\n",
       "      <td>1</td>\n",
       "      <td>0.1990</td>\n",
       "      <td>0.0656</td>\n",
       "      <td>0.000876</td>\n",
       "      <td>0.1220</td>\n",
       "      <td>0.440</td>\n",
       "      <td>148.073</td>\n",
       "      <td>4</td>\n",
       "      <td>299.333</td>\n",
       "    </tr>\n",
       "    <tr>\n",
       "      <th>4</th>\n",
       "      <td>0.591</td>\n",
       "      <td>0.718</td>\n",
       "      <td>8</td>\n",
       "      <td>-6.025</td>\n",
       "      <td>1</td>\n",
       "      <td>0.0368</td>\n",
       "      <td>0.3480</td>\n",
       "      <td>0.000118</td>\n",
       "      <td>0.1070</td>\n",
       "      <td>0.468</td>\n",
       "      <td>117.995</td>\n",
       "      <td>4</td>\n",
       "      <td>208.107</td>\n",
       "    </tr>\n",
       "  </tbody>\n",
       "</table>\n",
       "</div>"
      ],
      "text/plain": [
       "   danceability  energy  key  loudness  mode  speechiness  acousticness  \\\n",
       "0         0.584   0.569    0    -4.259     1       0.1660        0.0508   \n",
       "1         0.638   0.656    5    -5.886     1       0.0357        0.1880   \n",
       "2         0.703   0.748    1    -6.047     1       0.0435        0.1230   \n",
       "3         0.828   0.433    0    -9.716     1       0.1990        0.0656   \n",
       "4         0.591   0.718    8    -6.025     1       0.0368        0.3480   \n",
       "\n",
       "   instrumentalness  liveness  valence    tempo  time_signature  duration_sec  \n",
       "0          0.000000    0.0924    0.501   89.779               4       217.603  \n",
       "1          0.000000    0.1460    0.225  104.036               4       262.467  \n",
       "2          0.000000    0.0642    0.625  111.943               4       184.080  \n",
       "3          0.000876    0.1220    0.440  148.073               4       299.333  \n",
       "4          0.000118    0.1070    0.468  117.995               4       208.107  "
      ]
     },
     "execution_count": 20,
     "metadata": {},
     "output_type": "execute_result"
    }
   ],
   "source": [
    "master_08_ft.head()"
   ]
  },
  {
   "cell_type": "code",
   "execution_count": 25,
   "metadata": {},
   "outputs": [],
   "source": [
    "# Create master csv file for EDA and modeling\n",
    "master_08_ft.to_csv('./data/MASTER_2008_audio_features')"
   ]
  },
  {
   "cell_type": "markdown",
   "metadata": {},
   "source": [
    "### Clean, Process and Merge Track Lyrics DataFrames"
   ]
  },
  {
   "cell_type": "code",
   "execution_count": 49,
   "metadata": {},
   "outputs": [],
   "source": [
    "# Create a function to process and clean lyrics dataframe\n",
    "def process_master(df): \n",
    "    \n",
    "    # Instantiate tokenizer with specific regular expression\n",
    "    tokenizer = RegexpTokenizer(r'\\w+')\n",
    "    # Instantiate stemmer\n",
    "    stemmer = PorterStemmer()\n",
    "\n",
    "    # List to append stemmed words\n",
    "    stemmed = []        \n",
    "    # List to append tokenized words\n",
    "    tokenized = []\n",
    "    \n",
    "    # Create a for loop to iterate through all the rows in specific column\n",
    "    for i in df['lyrics']:                          \n",
    "        \n",
    "        # Converting lyrics text to tokens\n",
    "        tokens = tokenizer.tokenize(i.lower()) \n",
    "        tokenized.append(tokens)\n",
    "\n",
    "        # Stemming all tokens\n",
    "        stems = [stemmer.stem(token) for token in tokens]  \n",
    "        # Appending stems to stemmed list\n",
    "        stemmed.append(stems)                                         \n",
    "    \n",
    "    # Creating new dataframe columns\n",
    "    df['tokenized_lyrics'] = [' '.join(i) for i in tokenized]    \n",
    "    df['stemmed_lyrics'] = [' '.join(i) for i in stemmed]\n",
    "    \n",
    "    # Drop unnecessary column\n",
    "    df.drop('Unnamed: 0', axis=1, inplace=True)\n",
    "    # Drop duplicates\n",
    "    df.drop_duplicates(inplace=True)"
   ]
  },
  {
   "cell_type": "markdown",
   "metadata": {},
   "source": [
    "### 2018 track lyrics"
   ]
  },
  {
   "cell_type": "code",
   "execution_count": 50,
   "metadata": {},
   "outputs": [],
   "source": [
    "bb_18_lyr = pd.read_csv('./data/2018_billboard_lyrics')"
   ]
  },
  {
   "cell_type": "code",
   "execution_count": 51,
   "metadata": {},
   "outputs": [],
   "source": [
    "sf_18_lyr = pd.read_csv('./data/2018_songfacts_lyrics')"
   ]
  },
  {
   "cell_type": "code",
   "execution_count": 52,
   "metadata": {},
   "outputs": [],
   "source": [
    "# Concatenate dataframes\n",
    "master_18_lyr = pd.concat([bb_18_lyr, sf_18_lyr])"
   ]
  },
  {
   "cell_type": "code",
   "execution_count": 53,
   "metadata": {},
   "outputs": [],
   "source": [
    "# Run function on 2018 master lyrics dataframe\n",
    "process_master(master_18_lyr)"
   ]
  },
  {
   "cell_type": "code",
   "execution_count": 54,
   "metadata": {},
   "outputs": [
    {
     "data": {
      "text/html": [
       "<div>\n",
       "<style scoped>\n",
       "    .dataframe tbody tr th:only-of-type {\n",
       "        vertical-align: middle;\n",
       "    }\n",
       "\n",
       "    .dataframe tbody tr th {\n",
       "        vertical-align: top;\n",
       "    }\n",
       "\n",
       "    .dataframe thead th {\n",
       "        text-align: right;\n",
       "    }\n",
       "</style>\n",
       "<table border=\"1\" class=\"dataframe\">\n",
       "  <thead>\n",
       "    <tr style=\"text-align: right;\">\n",
       "      <th></th>\n",
       "      <th>lyrics</th>\n",
       "      <th>tokenized_lyrics</th>\n",
       "      <th>stemmed_lyrics</th>\n",
       "    </tr>\n",
       "  </thead>\n",
       "  <tbody>\n",
       "    <tr>\n",
       "      <th>0</th>\n",
       "      <td>Yeah they wishin and wishin and wishin and wis...</td>\n",
       "      <td>yeah they wishin and wishin and wishin and wis...</td>\n",
       "      <td>yeah they wishin and wishin and wishin and wis...</td>\n",
       "    </tr>\n",
       "    <tr>\n",
       "      <th>1</th>\n",
       "      <td>I found a love for me Oh darling just dive rig...</td>\n",
       "      <td>i found a love for me oh darling just dive rig...</td>\n",
       "      <td>i found a love for me oh darl just dive right ...</td>\n",
       "    </tr>\n",
       "    <tr>\n",
       "      <th>2</th>\n",
       "      <td>Baby lay on back and relax Kick your pretty fe...</td>\n",
       "      <td>baby lay on back and relax kick your pretty fe...</td>\n",
       "      <td>babi lay on back and relax kick your pretti fe...</td>\n",
       "    </tr>\n",
       "    <tr>\n",
       "      <th>3</th>\n",
       "      <td>Hey  Havana ooh na na (ayy) Half of my heart i...</td>\n",
       "      <td>hey havana ooh na na ayy half of my heart is i...</td>\n",
       "      <td>hey havana ooh na na ayi half of my heart is i...</td>\n",
       "    </tr>\n",
       "    <tr>\n",
       "      <th>4</th>\n",
       "      <td>(Award to the Artist and to the Producer(s) Re...</td>\n",
       "      <td>award to the artist and to the producer s reco...</td>\n",
       "      <td>award to the artist and to the produc s record...</td>\n",
       "    </tr>\n",
       "  </tbody>\n",
       "</table>\n",
       "</div>"
      ],
      "text/plain": [
       "                                              lyrics  \\\n",
       "0  Yeah they wishin and wishin and wishin and wis...   \n",
       "1  I found a love for me Oh darling just dive rig...   \n",
       "2  Baby lay on back and relax Kick your pretty fe...   \n",
       "3  Hey  Havana ooh na na (ayy) Half of my heart i...   \n",
       "4  (Award to the Artist and to the Producer(s) Re...   \n",
       "\n",
       "                                    tokenized_lyrics  \\\n",
       "0  yeah they wishin and wishin and wishin and wis...   \n",
       "1  i found a love for me oh darling just dive rig...   \n",
       "2  baby lay on back and relax kick your pretty fe...   \n",
       "3  hey havana ooh na na ayy half of my heart is i...   \n",
       "4  award to the artist and to the producer s reco...   \n",
       "\n",
       "                                      stemmed_lyrics  \n",
       "0  yeah they wishin and wishin and wishin and wis...  \n",
       "1  i found a love for me oh darl just dive right ...  \n",
       "2  babi lay on back and relax kick your pretti fe...  \n",
       "3  hey havana ooh na na ayi half of my heart is i...  \n",
       "4  award to the artist and to the produc s record...  "
      ]
     },
     "execution_count": 54,
     "metadata": {},
     "output_type": "execute_result"
    }
   ],
   "source": [
    "master_18_lyr.head()"
   ]
  },
  {
   "cell_type": "code",
   "execution_count": 55,
   "metadata": {},
   "outputs": [
    {
     "data": {
      "text/plain": [
       "(1469, 3)"
      ]
     },
     "execution_count": 55,
     "metadata": {},
     "output_type": "execute_result"
    }
   ],
   "source": [
    "master_18_lyr.shape"
   ]
  },
  {
   "cell_type": "code",
   "execution_count": 60,
   "metadata": {},
   "outputs": [],
   "source": [
    "# Create master csv file for EDA and modeling\n",
    "master_18_lyr.to_csv('./data/MASTER_2018_lyrics')"
   ]
  },
  {
   "cell_type": "markdown",
   "metadata": {},
   "source": [
    "### 2013 track lyrics"
   ]
  },
  {
   "cell_type": "code",
   "execution_count": 57,
   "metadata": {},
   "outputs": [],
   "source": [
    "bb_13_lyr = pd.read_csv('./data/2013_billboard_lyrics')"
   ]
  },
  {
   "cell_type": "code",
   "execution_count": 58,
   "metadata": {},
   "outputs": [],
   "source": [
    "sf_13_lyr = pd.read_csv('./data/2013_songfacts_lyrics')"
   ]
  },
  {
   "cell_type": "code",
   "execution_count": 59,
   "metadata": {},
   "outputs": [],
   "source": [
    "# Concatenate dataframes\n",
    "master_13_lyr = pd.concat([bb_13_lyr, sf_13_lyr])"
   ]
  },
  {
   "cell_type": "code",
   "execution_count": 61,
   "metadata": {},
   "outputs": [],
   "source": [
    "# Run function on 2013 master lyrics dataframe\n",
    "process_master(master_13_lyr)"
   ]
  },
  {
   "cell_type": "code",
   "execution_count": 62,
   "metadata": {},
   "outputs": [
    {
     "data": {
      "text/html": [
       "<div>\n",
       "<style scoped>\n",
       "    .dataframe tbody tr th:only-of-type {\n",
       "        vertical-align: middle;\n",
       "    }\n",
       "\n",
       "    .dataframe tbody tr th {\n",
       "        vertical-align: top;\n",
       "    }\n",
       "\n",
       "    .dataframe thead th {\n",
       "        text-align: right;\n",
       "    }\n",
       "</style>\n",
       "<table border=\"1\" class=\"dataframe\">\n",
       "  <thead>\n",
       "    <tr style=\"text-align: right;\">\n",
       "      <th></th>\n",
       "      <th>lyrics</th>\n",
       "      <th>tokenized_lyrics</th>\n",
       "      <th>stemmed_lyrics</th>\n",
       "    </tr>\n",
       "  </thead>\n",
       "  <tbody>\n",
       "    <tr>\n",
       "      <th>0</th>\n",
       "      <td>Hey Macklemore can we go thrift shopping What ...</td>\n",
       "      <td>hey macklemore can we go thrift shopping what ...</td>\n",
       "      <td>hey macklemor can we go thrift shop what what ...</td>\n",
       "    </tr>\n",
       "    <tr>\n",
       "      <th>1</th>\n",
       "      <td>Everybody get up WOO! Hey hey hey Hey hey hey ...</td>\n",
       "      <td>everybody get up woo hey hey hey hey hey hey h...</td>\n",
       "      <td>everybodi get up woo hey hey hey hey hey hey h...</td>\n",
       "    </tr>\n",
       "    <tr>\n",
       "      <th>2</th>\n",
       "      <td>Whoah oh Whoah oh Whoah oh Whoah  Im waking up...</td>\n",
       "      <td>whoah oh whoah oh whoah oh whoah im waking up ...</td>\n",
       "      <td>whoah oh whoah oh whoah oh whoah im wake up to...</td>\n",
       "    </tr>\n",
       "    <tr>\n",
       "      <th>3</th>\n",
       "      <td>Con los terroristas  tas  tas  tas  tas  tas  ...</td>\n",
       "      <td>con los terroristas tas tas tas tas tas tas ta...</td>\n",
       "      <td>con lo terrorista ta ta ta ta ta ta ta ta ta t...</td>\n",
       "    </tr>\n",
       "    <tr>\n",
       "      <th>4</th>\n",
       "      <td>Arent you somethin to admire Cause your shine ...</td>\n",
       "      <td>arent you somethin to admire cause your shine ...</td>\n",
       "      <td>arent you somethin to admir caus your shine is...</td>\n",
       "    </tr>\n",
       "  </tbody>\n",
       "</table>\n",
       "</div>"
      ],
      "text/plain": [
       "                                              lyrics  \\\n",
       "0  Hey Macklemore can we go thrift shopping What ...   \n",
       "1  Everybody get up WOO! Hey hey hey Hey hey hey ...   \n",
       "2  Whoah oh Whoah oh Whoah oh Whoah  Im waking up...   \n",
       "3  Con los terroristas  tas  tas  tas  tas  tas  ...   \n",
       "4  Arent you somethin to admire Cause your shine ...   \n",
       "\n",
       "                                    tokenized_lyrics  \\\n",
       "0  hey macklemore can we go thrift shopping what ...   \n",
       "1  everybody get up woo hey hey hey hey hey hey h...   \n",
       "2  whoah oh whoah oh whoah oh whoah im waking up ...   \n",
       "3  con los terroristas tas tas tas tas tas tas ta...   \n",
       "4  arent you somethin to admire cause your shine ...   \n",
       "\n",
       "                                      stemmed_lyrics  \n",
       "0  hey macklemor can we go thrift shop what what ...  \n",
       "1  everybodi get up woo hey hey hey hey hey hey h...  \n",
       "2  whoah oh whoah oh whoah oh whoah im wake up to...  \n",
       "3  con lo terrorista ta ta ta ta ta ta ta ta ta t...  \n",
       "4  arent you somethin to admir caus your shine is...  "
      ]
     },
     "execution_count": 62,
     "metadata": {},
     "output_type": "execute_result"
    }
   ],
   "source": [
    "master_13_lyr.head()"
   ]
  },
  {
   "cell_type": "code",
   "execution_count": 63,
   "metadata": {},
   "outputs": [
    {
     "data": {
      "text/plain": [
       "(2765, 3)"
      ]
     },
     "execution_count": 63,
     "metadata": {},
     "output_type": "execute_result"
    }
   ],
   "source": [
    "master_13_lyr.shape"
   ]
  },
  {
   "cell_type": "code",
   "execution_count": 64,
   "metadata": {},
   "outputs": [],
   "source": [
    "# Create master csv file for EDA and modeling\n",
    "master_13_lyr.to_csv('./data/MASTER_2013_lyrics')"
   ]
  },
  {
   "cell_type": "markdown",
   "metadata": {},
   "source": [
    "### 2008 track lyrics"
   ]
  },
  {
   "cell_type": "code",
   "execution_count": 65,
   "metadata": {},
   "outputs": [],
   "source": [
    "bb_08_lyr = pd.read_csv('./data/2008_billboard_lyrics')"
   ]
  },
  {
   "cell_type": "code",
   "execution_count": 66,
   "metadata": {},
   "outputs": [],
   "source": [
    "sf_08_lyr = pd.read_csv('./data/2008_songfacts_lyrics')"
   ]
  },
  {
   "cell_type": "code",
   "execution_count": 67,
   "metadata": {},
   "outputs": [],
   "source": [
    "# Concatenate dataframes\n",
    "master_08_lyr = pd.concat([bb_08_lyr, sf_08_lyr])"
   ]
  },
  {
   "cell_type": "code",
   "execution_count": 68,
   "metadata": {},
   "outputs": [],
   "source": [
    "# Run function on 2008 master lyrics list\n",
    "process_master(master_08_lyr)"
   ]
  },
  {
   "cell_type": "code",
   "execution_count": 69,
   "metadata": {},
   "outputs": [
    {
     "data": {
      "text/html": [
       "<div>\n",
       "<style scoped>\n",
       "    .dataframe tbody tr th:only-of-type {\n",
       "        vertical-align: middle;\n",
       "    }\n",
       "\n",
       "    .dataframe tbody tr th {\n",
       "        vertical-align: top;\n",
       "    }\n",
       "\n",
       "    .dataframe thead th {\n",
       "        text-align: right;\n",
       "    }\n",
       "</style>\n",
       "<table border=\"1\" class=\"dataframe\">\n",
       "  <thead>\n",
       "    <tr style=\"text-align: right;\">\n",
       "      <th></th>\n",
       "      <th>lyrics</th>\n",
       "      <th>tokenized_lyrics</th>\n",
       "      <th>stemmed_lyrics</th>\n",
       "    </tr>\n",
       "  </thead>\n",
       "  <tbody>\n",
       "    <tr>\n",
       "      <th>0</th>\n",
       "      <td>Hmm mmm mmm mmm mmm mmm Let me talk to em let ...</td>\n",
       "      <td>hmm mmm mmm mmm mmm mmm let me talk to em let ...</td>\n",
       "      <td>hmm mmm mmm mmm mmm mmm let me talk to em let ...</td>\n",
       "    </tr>\n",
       "    <tr>\n",
       "      <th>1</th>\n",
       "      <td>Closed off from love I didnt need the pain Onc...</td>\n",
       "      <td>closed off from love i didnt need the pain onc...</td>\n",
       "      <td>close off from love i didnt need the pain onc ...</td>\n",
       "    </tr>\n",
       "    <tr>\n",
       "      <th>2</th>\n",
       "      <td>I just want you close Where you can stay forev...</td>\n",
       "      <td>i just want you close where you can stay forev...</td>\n",
       "      <td>i just want you close where you can stay forev...</td>\n",
       "    </tr>\n",
       "    <tr>\n",
       "      <th>3</th>\n",
       "      <td>Oww! Uh huh No homo Young Mula baby I said hes...</td>\n",
       "      <td>oww uh huh no homo young mula baby i said hes ...</td>\n",
       "      <td>oww uh huh no homo young mula babi i said he s...</td>\n",
       "    </tr>\n",
       "    <tr>\n",
       "      <th>4</th>\n",
       "      <td>Im holding on your rope got me ten feet off th...</td>\n",
       "      <td>im holding on your rope got me ten feet off th...</td>\n",
       "      <td>im hold on your rope got me ten feet off the g...</td>\n",
       "    </tr>\n",
       "  </tbody>\n",
       "</table>\n",
       "</div>"
      ],
      "text/plain": [
       "                                              lyrics  \\\n",
       "0  Hmm mmm mmm mmm mmm mmm Let me talk to em let ...   \n",
       "1  Closed off from love I didnt need the pain Onc...   \n",
       "2  I just want you close Where you can stay forev...   \n",
       "3  Oww! Uh huh No homo Young Mula baby I said hes...   \n",
       "4  Im holding on your rope got me ten feet off th...   \n",
       "\n",
       "                                    tokenized_lyrics  \\\n",
       "0  hmm mmm mmm mmm mmm mmm let me talk to em let ...   \n",
       "1  closed off from love i didnt need the pain onc...   \n",
       "2  i just want you close where you can stay forev...   \n",
       "3  oww uh huh no homo young mula baby i said hes ...   \n",
       "4  im holding on your rope got me ten feet off th...   \n",
       "\n",
       "                                      stemmed_lyrics  \n",
       "0  hmm mmm mmm mmm mmm mmm let me talk to em let ...  \n",
       "1  close off from love i didnt need the pain onc ...  \n",
       "2  i just want you close where you can stay forev...  \n",
       "3  oww uh huh no homo young mula babi i said he s...  \n",
       "4  im hold on your rope got me ten feet off the g...  "
      ]
     },
     "execution_count": 69,
     "metadata": {},
     "output_type": "execute_result"
    }
   ],
   "source": [
    "master_08_lyr.head()"
   ]
  },
  {
   "cell_type": "code",
   "execution_count": 70,
   "metadata": {},
   "outputs": [
    {
     "data": {
      "text/plain": [
       "(1994, 3)"
      ]
     },
     "execution_count": 70,
     "metadata": {},
     "output_type": "execute_result"
    }
   ],
   "source": [
    "master_08_lyr.shape"
   ]
  },
  {
   "cell_type": "code",
   "execution_count": 71,
   "metadata": {},
   "outputs": [],
   "source": [
    "# Create master csv file for EDA and modeling\n",
    "master_08_lyr.to_csv('./data/MASTER_2008_lyrics')"
   ]
  }
 ],
 "metadata": {
  "kernelspec": {
   "display_name": "Python 3",
   "language": "python",
   "name": "python3"
  },
  "language_info": {
   "codemirror_mode": {
    "name": "ipython",
    "version": 3
   },
   "file_extension": ".py",
   "mimetype": "text/x-python",
   "name": "python",
   "nbconvert_exporter": "python",
   "pygments_lexer": "ipython3",
   "version": "3.6.8"
  }
 },
 "nbformat": 4,
 "nbformat_minor": 2
}
