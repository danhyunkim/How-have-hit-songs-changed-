{
 "cells": [
  {
   "cell_type": "code",
   "execution_count": 1,
   "metadata": {},
   "outputs": [
    {
     "name": "stderr",
     "output_type": "stream",
     "text": [
      "Using TensorFlow backend.\n"
     ]
    }
   ],
   "source": [
    "# Standard packages\n",
    "import pandas as pd\n",
    "import matplotlib.pyplot as plt\n",
    "%matplotlib inline\n",
    "\n",
    "# Standard preprocessing and modeling imports\n",
    "from sklearn.preprocessing import StandardScaler\n",
    "from sklearn.model_selection import train_test_split\n",
    "from sklearn.feature_extraction.text import CountVectorizer, TfidfVectorizer\n",
    "from sklearn.linear_model import LogisticRegression\n",
    "from sklearn.model_selection import GridSearchCV\n",
    "from sklearn.metrics import recall_score, confusion_matrix\n",
    "from sklearn.utils import resample\n",
    "from imblearn.over_sampling import SMOTE\n",
    "\n",
    "# Neural Network imports\n",
    "from keras.models import Sequential\n",
    "from keras.layers import Dense, Dropout\n",
    "from keras import regularizers\n",
    "from keras.callbacks import EarlyStopping\n",
    "\n",
    "# Genius Import\n",
    "import lyricsgenius as genius\n",
    "\n",
    "# Disable warning messages\n",
    "import warnings\n",
    "warnings.filterwarnings(\"ignore\")"
   ]
  },
  {
   "cell_type": "markdown",
   "metadata": {},
   "source": [
    "### Clean dataframe for modeling"
   ]
  },
  {
   "cell_type": "code",
   "execution_count": 2,
   "metadata": {},
   "outputs": [],
   "source": [
    "# Read in master csv\n",
    "master = pd.read_csv('./data/all_master_files')\n",
    "# Drop Unnamed:0 column\n",
    "master.drop('Unnamed: 0', axis=1, inplace=True)"
   ]
  },
  {
   "cell_type": "code",
   "execution_count": 3,
   "metadata": {},
   "outputs": [
    {
     "data": {
      "text/plain": [
       "(4427, 15)"
      ]
     },
     "execution_count": 3,
     "metadata": {},
     "output_type": "execute_result"
    }
   ],
   "source": [
    "master.shape"
   ]
  },
  {
   "cell_type": "code",
   "execution_count": 4,
   "metadata": {},
   "outputs": [
    {
     "data": {
      "text/html": [
       "<div>\n",
       "<style scoped>\n",
       "    .dataframe tbody tr th:only-of-type {\n",
       "        vertical-align: middle;\n",
       "    }\n",
       "\n",
       "    .dataframe tbody tr th {\n",
       "        vertical-align: top;\n",
       "    }\n",
       "\n",
       "    .dataframe thead th {\n",
       "        text-align: right;\n",
       "    }\n",
       "</style>\n",
       "<table border=\"1\" class=\"dataframe\">\n",
       "  <thead>\n",
       "    <tr style=\"text-align: right;\">\n",
       "      <th></th>\n",
       "      <th>title</th>\n",
       "      <th>danceability</th>\n",
       "      <th>energy</th>\n",
       "      <th>loudness</th>\n",
       "      <th>mode</th>\n",
       "      <th>speechiness</th>\n",
       "      <th>acousticness</th>\n",
       "      <th>instrumentalness</th>\n",
       "      <th>liveness</th>\n",
       "      <th>valence</th>\n",
       "      <th>tempo</th>\n",
       "      <th>key</th>\n",
       "      <th>time_signature</th>\n",
       "      <th>duration_sec</th>\n",
       "      <th>hit</th>\n",
       "    </tr>\n",
       "  </thead>\n",
       "  <tbody>\n",
       "    <tr>\n",
       "      <th>0</th>\n",
       "      <td>All Time Low</td>\n",
       "      <td>0.584</td>\n",
       "      <td>0.569</td>\n",
       "      <td>-4.259</td>\n",
       "      <td>1.0</td>\n",
       "      <td>0.1660</td>\n",
       "      <td>0.0508</td>\n",
       "      <td>0.000000</td>\n",
       "      <td>0.0924</td>\n",
       "      <td>0.501</td>\n",
       "      <td>89.779</td>\n",
       "      <td>0.0</td>\n",
       "      <td>4.0</td>\n",
       "      <td>217.603</td>\n",
       "      <td>1</td>\n",
       "    </tr>\n",
       "    <tr>\n",
       "      <th>1</th>\n",
       "      <td>Bleeding Love</td>\n",
       "      <td>0.638</td>\n",
       "      <td>0.656</td>\n",
       "      <td>-5.886</td>\n",
       "      <td>1.0</td>\n",
       "      <td>0.0357</td>\n",
       "      <td>0.1880</td>\n",
       "      <td>0.000000</td>\n",
       "      <td>0.1460</td>\n",
       "      <td>0.225</td>\n",
       "      <td>104.036</td>\n",
       "      <td>5.0</td>\n",
       "      <td>4.0</td>\n",
       "      <td>262.467</td>\n",
       "      <td>1</td>\n",
       "    </tr>\n",
       "    <tr>\n",
       "      <th>2</th>\n",
       "      <td>No One Compares To You</td>\n",
       "      <td>0.703</td>\n",
       "      <td>0.748</td>\n",
       "      <td>-6.047</td>\n",
       "      <td>1.0</td>\n",
       "      <td>0.0435</td>\n",
       "      <td>0.1230</td>\n",
       "      <td>0.000000</td>\n",
       "      <td>0.0642</td>\n",
       "      <td>0.625</td>\n",
       "      <td>111.943</td>\n",
       "      <td>1.0</td>\n",
       "      <td>4.0</td>\n",
       "      <td>184.080</td>\n",
       "      <td>1</td>\n",
       "    </tr>\n",
       "    <tr>\n",
       "      <th>3</th>\n",
       "      <td>Lollipop</td>\n",
       "      <td>0.828</td>\n",
       "      <td>0.433</td>\n",
       "      <td>-9.716</td>\n",
       "      <td>1.0</td>\n",
       "      <td>0.1990</td>\n",
       "      <td>0.0656</td>\n",
       "      <td>0.000876</td>\n",
       "      <td>0.1220</td>\n",
       "      <td>0.440</td>\n",
       "      <td>148.073</td>\n",
       "      <td>0.0</td>\n",
       "      <td>4.0</td>\n",
       "      <td>299.333</td>\n",
       "      <td>1</td>\n",
       "    </tr>\n",
       "    <tr>\n",
       "      <th>4</th>\n",
       "      <td>Apologize</td>\n",
       "      <td>0.591</td>\n",
       "      <td>0.718</td>\n",
       "      <td>-6.025</td>\n",
       "      <td>1.0</td>\n",
       "      <td>0.0368</td>\n",
       "      <td>0.3480</td>\n",
       "      <td>0.000118</td>\n",
       "      <td>0.1070</td>\n",
       "      <td>0.468</td>\n",
       "      <td>117.995</td>\n",
       "      <td>8.0</td>\n",
       "      <td>4.0</td>\n",
       "      <td>208.107</td>\n",
       "      <td>1</td>\n",
       "    </tr>\n",
       "  </tbody>\n",
       "</table>\n",
       "</div>"
      ],
      "text/plain": [
       "                    title  danceability  energy  loudness  mode  speechiness  \\\n",
       "0            All Time Low         0.584   0.569    -4.259   1.0       0.1660   \n",
       "1           Bleeding Love         0.638   0.656    -5.886   1.0       0.0357   \n",
       "2  No One Compares To You         0.703   0.748    -6.047   1.0       0.0435   \n",
       "3                Lollipop         0.828   0.433    -9.716   1.0       0.1990   \n",
       "4               Apologize         0.591   0.718    -6.025   1.0       0.0368   \n",
       "\n",
       "   acousticness  instrumentalness  liveness  valence    tempo  key  \\\n",
       "0        0.0508          0.000000    0.0924    0.501   89.779  0.0   \n",
       "1        0.1880          0.000000    0.1460    0.225  104.036  5.0   \n",
       "2        0.1230          0.000000    0.0642    0.625  111.943  1.0   \n",
       "3        0.0656          0.000876    0.1220    0.440  148.073  0.0   \n",
       "4        0.3480          0.000118    0.1070    0.468  117.995  8.0   \n",
       "\n",
       "   time_signature  duration_sec  hit  \n",
       "0             4.0       217.603    1  \n",
       "1             4.0       262.467    1  \n",
       "2             4.0       184.080    1  \n",
       "3             4.0       299.333    1  \n",
       "4             4.0       208.107    1  "
      ]
     },
     "execution_count": 4,
     "metadata": {},
     "output_type": "execute_result"
    }
   ],
   "source": [
    "master.head()"
   ]
  },
  {
   "cell_type": "code",
   "execution_count": 5,
   "metadata": {},
   "outputs": [
    {
     "data": {
      "text/plain": [
       "(3129, 15)"
      ]
     },
     "execution_count": 5,
     "metadata": {},
     "output_type": "execute_result"
    }
   ],
   "source": [
    "# Drop duplicates\n",
    "master.drop_duplicates(inplace=True)\n",
    "master.shape"
   ]
  },
  {
   "cell_type": "markdown",
   "metadata": {},
   "source": [
    "# Building a neural network to predict hit songs"
   ]
  },
  {
   "cell_type": "markdown",
   "metadata": {},
   "source": [
    "**Train Test Split**"
   ]
  },
  {
   "cell_type": "code",
   "execution_count": 6,
   "metadata": {},
   "outputs": [],
   "source": [
    "# Set X features and y variable to predict\n",
    "features = master.columns.drop(['title','hit'])\n",
    "X = master[features]\n",
    "y = master['hit']"
   ]
  },
  {
   "cell_type": "code",
   "execution_count": 7,
   "metadata": {},
   "outputs": [],
   "source": [
    "# Instantiate train test split\n",
    "X_train, X_test, y_train, y_test = train_test_split(X, y, random_state=42)"
   ]
  },
  {
   "cell_type": "code",
   "execution_count": 8,
   "metadata": {},
   "outputs": [
    {
     "data": {
      "text/plain": [
       "0    0.905081\n",
       "1    0.094919\n",
       "Name: hit, dtype: float64"
      ]
     },
     "execution_count": 8,
     "metadata": {},
     "output_type": "execute_result"
    }
   ],
   "source": [
    "# Baseline score\n",
    "y.value_counts(normalize=True)"
   ]
  },
  {
   "cell_type": "markdown",
   "metadata": {},
   "source": [
    "**Alleviate imbalanced classes**"
   ]
  },
  {
   "cell_type": "code",
   "execution_count": 9,
   "metadata": {},
   "outputs": [
    {
     "data": {
      "text/plain": [
       "0    2832\n",
       "1     297\n",
       "Name: hit, dtype: int64"
      ]
     },
     "execution_count": 9,
     "metadata": {},
     "output_type": "execute_result"
    }
   ],
   "source": [
    "# Our y variable is very imbalanced\n",
    "pd.Series(y).value_counts()"
   ]
  },
  {
   "cell_type": "code",
   "execution_count": 10,
   "metadata": {},
   "outputs": [],
   "source": [
    "# Instantiate and fit SMOTE to oversample the minority class\n",
    "sm = SMOTE(sampling_strategy='minority', random_state=42)\n",
    "X_train_smote, y_train_smote = sm.fit_resample(X_train, y_train)"
   ]
  },
  {
   "cell_type": "code",
   "execution_count": 11,
   "metadata": {},
   "outputs": [
    {
     "data": {
      "text/plain": [
       "1    2118\n",
       "0    2118\n",
       "dtype: int64"
      ]
     },
     "execution_count": 11,
     "metadata": {},
     "output_type": "execute_result"
    }
   ],
   "source": [
    "# Classes are now balanced\n",
    "pd.Series(y_train_smote).value_counts()"
   ]
  },
  {
   "cell_type": "markdown",
   "metadata": {},
   "source": [
    "**Standard Scaler**"
   ]
  },
  {
   "cell_type": "code",
   "execution_count": 12,
   "metadata": {},
   "outputs": [],
   "source": [
    "# Instantiate Standard Scaler\n",
    "ss = StandardScaler()\n",
    "# Fit and transform training features\n",
    "X_train_sc = ss.fit_transform(X_train_smote)\n",
    "# Transform test features\n",
    "X_test_sc = ss.transform(X_test)"
   ]
  },
  {
   "cell_type": "markdown",
   "metadata": {},
   "source": [
    "**Build Neural Network**"
   ]
  },
  {
   "cell_type": "code",
   "execution_count": 15,
   "metadata": {},
   "outputs": [],
   "source": [
    "# Instantiate the Sequential Neural Net\n",
    "model = Sequential()\n",
    "# Create the input and first hidden layer\n",
    "model.add(Dense(4236, \n",
    "                activation='relu', \n",
    "                input_dim=X_train_sc.shape[1]))\n",
    "# Add hidden layer\n",
    "model.add(Dense(1900, activation='relu'))\n",
    "# Add hidden layer\n",
    "model.add(Dense(200, activation='relu'))\n",
    "# Add hidden layer\n",
    "model.add(Dense(50, activation='relu'))\n",
    "# Instantiate a Dropout regularizer\n",
    "model.add(Dropout(0.5))\n",
    "# Create output layer\n",
    "model.add(Dense(1, activation='sigmoid'))"
   ]
  },
  {
   "cell_type": "code",
   "execution_count": 16,
   "metadata": {},
   "outputs": [],
   "source": [
    "# Compile the model \n",
    "model.compile(loss='binary_crossentropy', optimizer='adam', metrics=['accuracy'])"
   ]
  },
  {
   "cell_type": "code",
   "execution_count": 17,
   "metadata": {},
   "outputs": [],
   "source": [
    "# Instantiate EarlyStopping\n",
    "early = EarlyStopping(monitor='val_loss', min_delta=0, patience=2)"
   ]
  },
  {
   "cell_type": "code",
   "execution_count": 18,
   "metadata": {},
   "outputs": [
    {
     "name": "stdout",
     "output_type": "stream",
     "text": [
      "Train on 4236 samples, validate on 783 samples\n",
      "Epoch 1/15\n",
      "4236/4236 [==============================] - 29s 7ms/step - loss: 0.5663 - acc: 0.6976 - val_loss: 0.5605 - val_acc: 0.6922\n",
      "Epoch 2/15\n",
      "4236/4236 [==============================] - 27s 6ms/step - loss: 0.4739 - acc: 0.7812 - val_loss: 0.5052 - val_acc: 0.7318\n",
      "Epoch 3/15\n",
      "4236/4236 [==============================] - 27s 6ms/step - loss: 0.4152 - acc: 0.8059 - val_loss: 0.5023 - val_acc: 0.7395\n",
      "Epoch 4/15\n",
      "4236/4236 [==============================] - 33s 8ms/step - loss: 0.3600 - acc: 0.8371 - val_loss: 0.6201 - val_acc: 0.7241\n",
      "Epoch 5/15\n",
      "4236/4236 [==============================] - 34s 8ms/step - loss: 0.3394 - acc: 0.8555 - val_loss: 0.6855 - val_acc: 0.7267\n"
     ]
    }
   ],
   "source": [
    "# Fit the neural net\n",
    "results = model.fit(X_train_sc, y_train_smote, \n",
    "                    validation_data=(X_test_sc, y_test), \n",
    "                    epochs = 15,\n",
    "                    callbacks=[early])"
   ]
  },
  {
   "cell_type": "code",
   "execution_count": 19,
   "metadata": {},
   "outputs": [],
   "source": [
    "# Generate model predictions \n",
    "preds = model.predict(X_test_sc)"
   ]
  },
  {
   "cell_type": "code",
   "execution_count": 20,
   "metadata": {},
   "outputs": [
    {
     "data": {
      "image/png": "[encoded data removed]",
      "text/plain": [
       "<Figure size 432x288 with 1 Axes>"
      ]
     },
     "metadata": {
      "needs_background": "light"
     },
     "output_type": "display_data"
    }
   ],
   "source": [
    "# Plot the results \n",
    "plt.plot(results.history['loss'], label='Train loss');\n",
    "plt.plot(results.history['val_loss'], label='Test loss');\n",
    "plt.legend();"
   ]
  },
  {
   "cell_type": "markdown",
   "metadata": {},
   "source": [
    "# GridSearch a logistic regression model using audio features for interpretability "
   ]
  },
  {
   "cell_type": "code",
   "execution_count": 21,
   "metadata": {},
   "outputs": [],
   "source": [
    "# Build logistic regression parameters for Gridsearch\n",
    "params = {\n",
    "    'penalty': ['l1', 'l2'],\n",
    "    'C': [1, 5, 10]\n",
    "}"
   ]
  },
  {
   "cell_type": "code",
   "execution_count": 22,
   "metadata": {},
   "outputs": [],
   "source": [
    "# Instantiate Gridsearch for logistic regression\n",
    "gs = GridSearchCV(estimator=LogisticRegression(),\n",
    "                 param_grid=params)"
   ]
  },
  {
   "cell_type": "code",
   "execution_count": 27,
   "metadata": {},
   "outputs": [
    {
     "data": {
      "text/plain": [
       "0.6231884057971014"
      ]
     },
     "execution_count": 27,
     "metadata": {},
     "output_type": "execute_result"
    }
   ],
   "source": [
    "# Fit the GridSearch model\n",
    "gs.fit(X_train_sc, y_train_smote)\n",
    "# Print the best accuracy score\n",
    "print('The best score is: ', gs.best_score_)\n",
    "# Print the best parameters to use\n",
    "print('The best parameters to use are: ', gs.best_params_)\n",
    "# Generate model predictions\n",
    "gs_preds = gs.predict(X_test_sc)\n",
    "# Print the recall score\n",
    "print('The recall score is: ', recall_score(y_test, gs_preds)"
   ]
  },
  {
   "cell_type": "code",
   "execution_count": 28,
   "metadata": {},
   "outputs": [
    {
     "data": {
      "text/plain": [
       "0.6283524904214559"
      ]
     },
     "execution_count": 28,
     "metadata": {},
     "output_type": "execute_result"
    }
   ],
   "source": [
    "# Create a logistic regression model with the best parameters\n",
    "lr = LogisticRegression(C=5)\n",
    "lr.fit(X_train_sc, y_train_smote)\n",
    "lr.score(X_test_sc, y_test)"
   ]
  },
  {
   "cell_type": "code",
   "execution_count": 29,
   "metadata": {},
   "outputs": [
    {
     "data": {
      "text/html": [
       "<div>\n",
       "<style scoped>\n",
       "    .dataframe tbody tr th:only-of-type {\n",
       "        vertical-align: middle;\n",
       "    }\n",
       "\n",
       "    .dataframe tbody tr th {\n",
       "        vertical-align: top;\n",
       "    }\n",
       "\n",
       "    .dataframe thead th {\n",
       "        text-align: right;\n",
       "    }\n",
       "</style>\n",
       "<table border=\"1\" class=\"dataframe\">\n",
       "  <thead>\n",
       "    <tr style=\"text-align: right;\">\n",
       "      <th></th>\n",
       "      <th>coefficients</th>\n",
       "    </tr>\n",
       "  </thead>\n",
       "  <tbody>\n",
       "    <tr>\n",
       "      <th>energy</th>\n",
       "      <td>-0.627122</td>\n",
       "    </tr>\n",
       "    <tr>\n",
       "      <th>instrumentalness</th>\n",
       "      <td>-0.342719</td>\n",
       "    </tr>\n",
       "    <tr>\n",
       "      <th>acousticness</th>\n",
       "      <td>-0.154411</td>\n",
       "    </tr>\n",
       "    <tr>\n",
       "      <th>valence</th>\n",
       "      <td>-0.071294</td>\n",
       "    </tr>\n",
       "    <tr>\n",
       "      <th>tempo</th>\n",
       "      <td>-0.065701</td>\n",
       "    </tr>\n",
       "    <tr>\n",
       "      <th>duration_sec</th>\n",
       "      <td>-0.033974</td>\n",
       "    </tr>\n",
       "    <tr>\n",
       "      <th>liveness</th>\n",
       "      <td>-0.021042</td>\n",
       "    </tr>\n",
       "    <tr>\n",
       "      <th>time_signature</th>\n",
       "      <td>0.052033</td>\n",
       "    </tr>\n",
       "    <tr>\n",
       "      <th>mode</th>\n",
       "      <td>0.083846</td>\n",
       "    </tr>\n",
       "    <tr>\n",
       "      <th>speechiness</th>\n",
       "      <td>0.101722</td>\n",
       "    </tr>\n",
       "    <tr>\n",
       "      <th>key</th>\n",
       "      <td>0.141994</td>\n",
       "    </tr>\n",
       "    <tr>\n",
       "      <th>danceability</th>\n",
       "      <td>0.681005</td>\n",
       "    </tr>\n",
       "    <tr>\n",
       "      <th>loudness</th>\n",
       "      <td>1.039353</td>\n",
       "    </tr>\n",
       "  </tbody>\n",
       "</table>\n",
       "</div>"
      ],
      "text/plain": [
       "                  coefficients\n",
       "energy               -0.627122\n",
       "instrumentalness     -0.342719\n",
       "acousticness         -0.154411\n",
       "valence              -0.071294\n",
       "tempo                -0.065701\n",
       "duration_sec         -0.033974\n",
       "liveness             -0.021042\n",
       "time_signature        0.052033\n",
       "mode                  0.083846\n",
       "speechiness           0.101722\n",
       "key                   0.141994\n",
       "danceability          0.681005\n",
       "loudness              1.039353"
      ]
     },
     "execution_count": 29,
     "metadata": {},
     "output_type": "execute_result"
    }
   ],
   "source": [
    "# Create a dataframe with feature coefficients to see which features have most influence on a hit song\n",
    "pd.DataFrame(lr.coef_, columns=features, index=['coefficients']).T.sort_values('coefficients')"
   ]
  },
  {
   "cell_type": "code",
   "execution_count": 30,
   "metadata": {
    "scrolled": true
   },
   "outputs": [
    {
     "data": {
      "text/plain": [
       "0    714\n",
       "1     69\n",
       "Name: hit, dtype: int64"
      ]
     },
     "execution_count": 30,
     "metadata": {},
     "output_type": "execute_result"
    }
   ],
   "source": [
    "y_test.value_counts()"
   ]
  },
  {
   "cell_type": "code",
   "execution_count": 31,
   "metadata": {},
   "outputs": [
    {
     "name": "stdout",
     "output_type": "stream",
     "text": [
      "0.6231884057971014\n"
     ]
    },
    {
     "data": {
      "text/html": [
       "<div>\n",
       "<style scoped>\n",
       "    .dataframe tbody tr th:only-of-type {\n",
       "        vertical-align: middle;\n",
       "    }\n",
       "\n",
       "    .dataframe tbody tr th {\n",
       "        vertical-align: top;\n",
       "    }\n",
       "\n",
       "    .dataframe thead th {\n",
       "        text-align: right;\n",
       "    }\n",
       "</style>\n",
       "<table border=\"1\" class=\"dataframe\">\n",
       "  <thead>\n",
       "    <tr style=\"text-align: right;\">\n",
       "      <th></th>\n",
       "      <th>predicted not hit</th>\n",
       "      <th>predicted hit</th>\n",
       "    </tr>\n",
       "  </thead>\n",
       "  <tbody>\n",
       "    <tr>\n",
       "      <th>actual not hit</th>\n",
       "      <td>449</td>\n",
       "      <td>265</td>\n",
       "    </tr>\n",
       "    <tr>\n",
       "      <th>actual hit</th>\n",
       "      <td>26</td>\n",
       "      <td>43</td>\n",
       "    </tr>\n",
       "  </tbody>\n",
       "</table>\n",
       "</div>"
      ],
      "text/plain": [
       "                predicted not hit  predicted hit\n",
       "actual not hit                449            265\n",
       "actual hit                     26             43"
      ]
     },
     "execution_count": 31,
     "metadata": {},
     "output_type": "execute_result"
    }
   ],
   "source": [
    "# Generate a confusion matrix\n",
    "cm = pd.DataFrame(confusion_matrix(y_test, gs_preds), \n",
    "                  columns=['predicted not hit', 'predicted hit'],\n",
    "                  index=['actual not hit', 'actual hit'])\n",
    "# Print the recall score\n",
    "print(recall_score(y_test, gs_preds))\n",
    "cm"
   ]
  },
  {
   "cell_type": "code",
   "execution_count": 32,
   "metadata": {},
   "outputs": [],
   "source": [
    "# Horizontal bar chart"
   ]
  },
  {
   "cell_type": "markdown",
   "metadata": {},
   "source": [
    "# Building a logistic regression model to analyze song lyrics"
   ]
  },
  {
   "cell_type": "code",
   "execution_count": 33,
   "metadata": {},
   "outputs": [],
   "source": [
    "# Read in data\n",
    "master_08 = pd.read_csv('./data/MASTER_2008_lyrics')\n",
    "master_13 = pd.read_csv('./data/MASTER_2013_lyrics')\n",
    "master_18 = pd.read_csv('./data/MASTER_2018_lyrics')"
   ]
  },
  {
   "cell_type": "code",
   "execution_count": 34,
   "metadata": {},
   "outputs": [],
   "source": [
    "# Drop 'Unnamed: 0' column\n",
    "master_18.drop('Unnamed: 0', axis=1, inplace=True)\n",
    "master_13.drop('Unnamed: 0', axis=1, inplace=True)\n",
    "master_08.drop('Unnamed: 0', axis=1, inplace=True)"
   ]
  },
  {
   "cell_type": "code",
   "execution_count": 35,
   "metadata": {},
   "outputs": [
    {
     "name": "stdout",
     "output_type": "stream",
     "text": [
      "0    1373\n",
      "1      98\n",
      "Name: hit, dtype: int64\n",
      "\n",
      "0    2696\n",
      "1      95\n",
      "Name: hit, dtype: int64\n",
      "\n",
      "0    1935\n",
      "1      98\n",
      "Name: hit, dtype: int64\n"
     ]
    }
   ],
   "source": [
    "# Check for imbalanced classes \n",
    "print(master_18['hit'].value_counts())\n",
    "print('')\n",
    "print(master_13['hit'].value_counts())\n",
    "print('')\n",
    "print(master_08['hit'].value_counts())"
   ]
  },
  {
   "cell_type": "code",
   "execution_count": 36,
   "metadata": {},
   "outputs": [],
   "source": [
    "'''\n",
    "Create a function that preprocesses the dataset for modeling, remedies imbalanced classes, models the data\n",
    "and returns a confusion matrix with the printed recall score\n",
    "'''\n",
    "def lyrics_model(df):\n",
    "    # Set X and y and train test split\n",
    "    X = df['tokenized_lyrics']\n",
    "    y= df['hit']\n",
    "    X_train, X_test, y_train, y_test = train_test_split(X, y, random_state=42)\n",
    "    \n",
    "    # Instantiate CountVectorizer\n",
    "    cv = CountVectorizer(lowercase=True, stop_words='english', ngram_range=(1,5))\n",
    "    # Fit and transform features from training data\n",
    "    X_train_cv = cv.fit_transform(X_train)\n",
    "    # Transform features from testing data\n",
    "    X_test_cv = cv.transform(X_test)\n",
    "    \n",
    "    # Instantiate SMOTE to remedy imbalanced classes and resample minority class\n",
    "    sm = SMOTE(sampling_strategy='minority', random_state=42)\n",
    "    X_train_smote, y_train_smote = sm.fit_resample(X_train_cv, y_train)\n",
    "    \n",
    "    # Instantiate logistic regression\n",
    "    lr = LogisticRegression()\n",
    "    # Fit the model\n",
    "    lr.fit(X_train_smote, y_train_smote)\n",
    "    # Print the model's accuracy score \n",
    "    print('The accuracy score is: ', lr.score(X_test_cv, y_test))\n",
    "    # Create predictions\n",
    "    preds = lr.predict(X_test_cv)\n",
    "    # Print the recall score\n",
    "    print('The recall score is: ', recall_score(y_test, preds))\n",
    "    \n",
    "    # Create a confusion matrix\n",
    "    cm = pd.DataFrame(confusion_matrix(y_test, preds), \n",
    "                      columns=['predicted not hit', 'predicted hit'],\n",
    "                      index=['actual not hit', 'actual hit'])\n",
    "    return cm   # Return confusion matrix"
   ]
  },
  {
   "cell_type": "code",
   "execution_count": 37,
   "metadata": {},
   "outputs": [
    {
     "data": {
      "text/html": [
       "<div>\n",
       "<style scoped>\n",
       "    .dataframe tbody tr th:only-of-type {\n",
       "        vertical-align: middle;\n",
       "    }\n",
       "\n",
       "    .dataframe tbody tr th {\n",
       "        vertical-align: top;\n",
       "    }\n",
       "\n",
       "    .dataframe thead th {\n",
       "        text-align: right;\n",
       "    }\n",
       "</style>\n",
       "<table border=\"1\" class=\"dataframe\">\n",
       "  <thead>\n",
       "    <tr style=\"text-align: right;\">\n",
       "      <th></th>\n",
       "      <th>lyrics</th>\n",
       "      <th>hit</th>\n",
       "      <th>tokenized_lyrics</th>\n",
       "      <th>stemmed_lyrics</th>\n",
       "    </tr>\n",
       "  </thead>\n",
       "  <tbody>\n",
       "    <tr>\n",
       "      <th>0</th>\n",
       "      <td>Hmm mmm mmm mmm mmm mmm Let me talk to em let ...</td>\n",
       "      <td>1</td>\n",
       "      <td>hmm mmm mmm mmm mmm mmm let me talk to em let ...</td>\n",
       "      <td>hmm mmm mmm mmm mmm mmm let me talk to em let ...</td>\n",
       "    </tr>\n",
       "    <tr>\n",
       "      <th>1</th>\n",
       "      <td>Closed off from love I didnt need the pain Onc...</td>\n",
       "      <td>1</td>\n",
       "      <td>closed off from love i didnt need the pain onc...</td>\n",
       "      <td>close off from love i didnt need the pain onc ...</td>\n",
       "    </tr>\n",
       "    <tr>\n",
       "      <th>2</th>\n",
       "      <td>I just want you close Where you can stay forev...</td>\n",
       "      <td>1</td>\n",
       "      <td>i just want you close where you can stay forev...</td>\n",
       "      <td>i just want you close where you can stay forev...</td>\n",
       "    </tr>\n",
       "    <tr>\n",
       "      <th>3</th>\n",
       "      <td>Oww! Uh huh No homo Young Mula baby I said hes...</td>\n",
       "      <td>1</td>\n",
       "      <td>oww uh huh no homo young mula baby i said hes ...</td>\n",
       "      <td>oww uh huh no homo young mula babi i said he s...</td>\n",
       "    </tr>\n",
       "    <tr>\n",
       "      <th>4</th>\n",
       "      <td>Im holding on your rope got me ten feet off th...</td>\n",
       "      <td>1</td>\n",
       "      <td>im holding on your rope got me ten feet off th...</td>\n",
       "      <td>im hold on your rope got me ten feet off the g...</td>\n",
       "    </tr>\n",
       "  </tbody>\n",
       "</table>\n",
       "</div>"
      ],
      "text/plain": [
       "                                              lyrics  hit  \\\n",
       "0  Hmm mmm mmm mmm mmm mmm Let me talk to em let ...    1   \n",
       "1  Closed off from love I didnt need the pain Onc...    1   \n",
       "2  I just want you close Where you can stay forev...    1   \n",
       "3  Oww! Uh huh No homo Young Mula baby I said hes...    1   \n",
       "4  Im holding on your rope got me ten feet off th...    1   \n",
       "\n",
       "                                    tokenized_lyrics  \\\n",
       "0  hmm mmm mmm mmm mmm mmm let me talk to em let ...   \n",
       "1  closed off from love i didnt need the pain onc...   \n",
       "2  i just want you close where you can stay forev...   \n",
       "3  oww uh huh no homo young mula baby i said hes ...   \n",
       "4  im holding on your rope got me ten feet off th...   \n",
       "\n",
       "                                      stemmed_lyrics  \n",
       "0  hmm mmm mmm mmm mmm mmm let me talk to em let ...  \n",
       "1  close off from love i didnt need the pain onc ...  \n",
       "2  i just want you close where you can stay forev...  \n",
       "3  oww uh huh no homo young mula babi i said he s...  \n",
       "4  im hold on your rope got me ten feet off the g...  "
      ]
     },
     "execution_count": 37,
     "metadata": {},
     "output_type": "execute_result"
    }
   ],
   "source": [
    "master_08.head()"
   ]
  },
  {
   "cell_type": "code",
   "execution_count": 38,
   "metadata": {},
   "outputs": [
    {
     "name": "stdout",
     "output_type": "stream",
     "text": [
      "0.0\n"
     ]
    },
    {
     "data": {
      "text/html": [
       "<div>\n",
       "<style scoped>\n",
       "    .dataframe tbody tr th:only-of-type {\n",
       "        vertical-align: middle;\n",
       "    }\n",
       "\n",
       "    .dataframe tbody tr th {\n",
       "        vertical-align: top;\n",
       "    }\n",
       "\n",
       "    .dataframe thead th {\n",
       "        text-align: right;\n",
       "    }\n",
       "</style>\n",
       "<table border=\"1\" class=\"dataframe\">\n",
       "  <thead>\n",
       "    <tr style=\"text-align: right;\">\n",
       "      <th></th>\n",
       "      <th>predicted not hit</th>\n",
       "      <th>predicted hit</th>\n",
       "    </tr>\n",
       "  </thead>\n",
       "  <tbody>\n",
       "    <tr>\n",
       "      <th>actual not hit</th>\n",
       "      <td>469</td>\n",
       "      <td>19</td>\n",
       "    </tr>\n",
       "    <tr>\n",
       "      <th>actual hit</th>\n",
       "      <td>21</td>\n",
       "      <td>0</td>\n",
       "    </tr>\n",
       "  </tbody>\n",
       "</table>\n",
       "</div>"
      ],
      "text/plain": [
       "                predicted not hit  predicted hit\n",
       "actual not hit                469             19\n",
       "actual hit                     21              0"
      ]
     },
     "execution_count": 38,
     "metadata": {},
     "output_type": "execute_result"
    }
   ],
   "source": [
    "lyrics_model(master_08)"
   ]
  },
  {
   "cell_type": "code",
   "execution_count": 39,
   "metadata": {},
   "outputs": [
    {
     "name": "stdout",
     "output_type": "stream",
     "text": [
      "0.047619047619047616\n"
     ]
    },
    {
     "data": {
      "text/html": [
       "<div>\n",
       "<style scoped>\n",
       "    .dataframe tbody tr th:only-of-type {\n",
       "        vertical-align: middle;\n",
       "    }\n",
       "\n",
       "    .dataframe tbody tr th {\n",
       "        vertical-align: top;\n",
       "    }\n",
       "\n",
       "    .dataframe thead th {\n",
       "        text-align: right;\n",
       "    }\n",
       "</style>\n",
       "<table border=\"1\" class=\"dataframe\">\n",
       "  <thead>\n",
       "    <tr style=\"text-align: right;\">\n",
       "      <th></th>\n",
       "      <th>predicted not hit</th>\n",
       "      <th>predicted hit</th>\n",
       "    </tr>\n",
       "  </thead>\n",
       "  <tbody>\n",
       "    <tr>\n",
       "      <th>actual not hit</th>\n",
       "      <td>665</td>\n",
       "      <td>12</td>\n",
       "    </tr>\n",
       "    <tr>\n",
       "      <th>actual hit</th>\n",
       "      <td>20</td>\n",
       "      <td>1</td>\n",
       "    </tr>\n",
       "  </tbody>\n",
       "</table>\n",
       "</div>"
      ],
      "text/plain": [
       "                predicted not hit  predicted hit\n",
       "actual not hit                665             12\n",
       "actual hit                     20              1"
      ]
     },
     "execution_count": 39,
     "metadata": {},
     "output_type": "execute_result"
    }
   ],
   "source": [
    "lyrics_model(master_13)"
   ]
  },
  {
   "cell_type": "code",
   "execution_count": 40,
   "metadata": {},
   "outputs": [
    {
     "name": "stdout",
     "output_type": "stream",
     "text": [
      "0.34782608695652173\n"
     ]
    },
    {
     "data": {
      "text/html": [
       "<div>\n",
       "<style scoped>\n",
       "    .dataframe tbody tr th:only-of-type {\n",
       "        vertical-align: middle;\n",
       "    }\n",
       "\n",
       "    .dataframe tbody tr th {\n",
       "        vertical-align: top;\n",
       "    }\n",
       "\n",
       "    .dataframe thead th {\n",
       "        text-align: right;\n",
       "    }\n",
       "</style>\n",
       "<table border=\"1\" class=\"dataframe\">\n",
       "  <thead>\n",
       "    <tr style=\"text-align: right;\">\n",
       "      <th></th>\n",
       "      <th>predicted not hit</th>\n",
       "      <th>predicted hit</th>\n",
       "    </tr>\n",
       "  </thead>\n",
       "  <tbody>\n",
       "    <tr>\n",
       "      <th>actual not hit</th>\n",
       "      <td>341</td>\n",
       "      <td>4</td>\n",
       "    </tr>\n",
       "    <tr>\n",
       "      <th>actual hit</th>\n",
       "      <td>15</td>\n",
       "      <td>8</td>\n",
       "    </tr>\n",
       "  </tbody>\n",
       "</table>\n",
       "</div>"
      ],
      "text/plain": [
       "                predicted not hit  predicted hit\n",
       "actual not hit                341              4\n",
       "actual hit                     15              8"
      ]
     },
     "execution_count": 40,
     "metadata": {},
     "output_type": "execute_result"
    }
   ],
   "source": [
    "lyrics_model(master_18)"
   ]
  },
  {
   "cell_type": "markdown",
   "metadata": {},
   "source": [
    "# Merging audio features and lyrics together to see if model perfomance enhances\n",
    "**The merge between master audio features and master lyrics dataframes will occur on the `title` column. In order to merge on this column, we need to retrieve titles for the lyrics dataframe through Genius' API.**"
   ]
  },
  {
   "cell_type": "code",
   "execution_count": 41,
   "metadata": {},
   "outputs": [],
   "source": [
    "# Create Genius object\n",
    "genius = genius.Genius(client_access_token='1ZxV3C-PK6E8hlkD3GCk_a8H61dNIE9YFEWgmfAEfQF2BVvsIJTryB8uZw4SslZ4', \n",
    "              response_format='plain',         # Format of response is plain text\n",
    "              timeout=5, sleep_time=0.5, \n",
    "              remove_section_headers=True,     # Remove headers such as [Intro], [Verse], [Chorus]n etc.\n",
    "              skip_non_songs=True,             # Skip items that are not songs\n",
    "              verbose=False)                   # Dont print search text"
   ]
  },
  {
   "cell_type": "code",
   "execution_count": 42,
   "metadata": {},
   "outputs": [],
   "source": [
    "# Function that will retrieve song titles by searching by song lyrics and create a 'title' dataframe column\n",
    "def get_titles(df):\n",
    "    title = []                                       # Empty list\n",
    "    for lyrics in df['lyrics']:                      # For loop to iterate through song lyrics in lyrics column\n",
    "        try:                                         # Try and except statement in case errors occur\n",
    "            lyrics = genius.search_song(lyrics)      # Genius API query that searches by song lyrics\n",
    "            title.append(lyrics.title)               # Append the song title to empty list \n",
    "            time.sleep(2)                            # Wait 2 seconds before continuing the loop\n",
    "        except:\n",
    "            title.append('Error')                    # Append \"Error\" to empty list if an error occurs\n",
    "    return title\n",
    "#     df['title'] = title                              # Create 'title' column in the dataframe"
   ]
  },
  {
   "cell_type": "code",
   "execution_count": 43,
   "metadata": {},
   "outputs": [],
   "source": [
    "master_lyrics = pd.concat([master_08, master_13, master_18])\n",
    "master_lyrics.reset_index(inplace=True)"
   ]
  },
  {
   "cell_type": "code",
   "execution_count": 44,
   "metadata": {},
   "outputs": [
    {
     "data": {
      "text/plain": [
       "(6295, 5)"
      ]
     },
     "execution_count": 44,
     "metadata": {},
     "output_type": "execute_result"
    }
   ],
   "source": [
    "master_lyrics.shape"
   ]
  },
  {
   "cell_type": "code",
   "execution_count": null,
   "metadata": {},
   "outputs": [],
   "source": [
    "get_titles(master_lyrics)"
   ]
  },
  {
   "cell_type": "code",
   "execution_count": null,
   "metadata": {},
   "outputs": [],
   "source": []
  },
  {
   "cell_type": "code",
   "execution_count": 97,
   "metadata": {},
   "outputs": [],
   "source": [
    "def clean_title(df, col):\n",
    "    cleaned_title = []\n",
    "    for title in df[col]:\n",
    "        try:\n",
    "            a = title.index('feat.')\n",
    "            cleaned_title.append(title[:a-1].replace('-', ''))\n",
    "        except:\n",
    "            cleaned_title.append(title)\n",
    "    return cleaned_title"
   ]
  },
  {
   "cell_type": "code",
   "execution_count": 104,
   "metadata": {},
   "outputs": [],
   "source": [
    "apple = clean_title(master, col='title')"
   ]
  },
  {
   "cell_type": "code",
   "execution_count": 114,
   "metadata": {},
   "outputs": [
    {
     "data": {
      "text/plain": [
       "(3129, 15)"
      ]
     },
     "execution_count": 114,
     "metadata": {},
     "output_type": "execute_result"
    }
   ],
   "source": [
    "master.shape"
   ]
  },
  {
   "cell_type": "code",
   "execution_count": 113,
   "metadata": {},
   "outputs": [
    {
     "data": {
      "text/html": [
       "<div>\n",
       "<style scoped>\n",
       "    .dataframe tbody tr th:only-of-type {\n",
       "        vertical-align: middle;\n",
       "    }\n",
       "\n",
       "    .dataframe tbody tr th {\n",
       "        vertical-align: top;\n",
       "    }\n",
       "\n",
       "    .dataframe thead th {\n",
       "        text-align: right;\n",
       "    }\n",
       "</style>\n",
       "<table border=\"1\" class=\"dataframe\">\n",
       "  <thead>\n",
       "    <tr style=\"text-align: right;\">\n",
       "      <th></th>\n",
       "      <th>title</th>\n",
       "    </tr>\n",
       "  </thead>\n",
       "  <tbody>\n",
       "    <tr>\n",
       "      <th>99</th>\n",
       "      <td>Error</td>\n",
       "    </tr>\n",
       "    <tr>\n",
       "      <th>100</th>\n",
       "      <td>Error</td>\n",
       "    </tr>\n",
       "    <tr>\n",
       "      <th>101</th>\n",
       "      <td>Error</td>\n",
       "    </tr>\n",
       "    <tr>\n",
       "      <th>102</th>\n",
       "      <td>Error</td>\n",
       "    </tr>\n",
       "    <tr>\n",
       "      <th>103</th>\n",
       "      <td>Error</td>\n",
       "    </tr>\n",
       "    <tr>\n",
       "      <th>104</th>\n",
       "      <td>Error</td>\n",
       "    </tr>\n",
       "    <tr>\n",
       "      <th>105</th>\n",
       "      <td>Error</td>\n",
       "    </tr>\n",
       "    <tr>\n",
       "      <th>106</th>\n",
       "      <td>Error</td>\n",
       "    </tr>\n",
       "    <tr>\n",
       "      <th>107</th>\n",
       "      <td>Error</td>\n",
       "    </tr>\n",
       "    <tr>\n",
       "      <th>108</th>\n",
       "      <td>Error</td>\n",
       "    </tr>\n",
       "    <tr>\n",
       "      <th>109</th>\n",
       "      <td>Error</td>\n",
       "    </tr>\n",
       "    <tr>\n",
       "      <th>110</th>\n",
       "      <td>Error</td>\n",
       "    </tr>\n",
       "    <tr>\n",
       "      <th>111</th>\n",
       "      <td>Error</td>\n",
       "    </tr>\n",
       "    <tr>\n",
       "      <th>112</th>\n",
       "      <td>Error</td>\n",
       "    </tr>\n",
       "    <tr>\n",
       "      <th>113</th>\n",
       "      <td>Error</td>\n",
       "    </tr>\n",
       "    <tr>\n",
       "      <th>114</th>\n",
       "      <td>Error</td>\n",
       "    </tr>\n",
       "    <tr>\n",
       "      <th>115</th>\n",
       "      <td>Error</td>\n",
       "    </tr>\n",
       "    <tr>\n",
       "      <th>116</th>\n",
       "      <td>Error</td>\n",
       "    </tr>\n",
       "    <tr>\n",
       "      <th>117</th>\n",
       "      <td>Error</td>\n",
       "    </tr>\n",
       "    <tr>\n",
       "      <th>118</th>\n",
       "      <td>Error</td>\n",
       "    </tr>\n",
       "    <tr>\n",
       "      <th>119</th>\n",
       "      <td>Error</td>\n",
       "    </tr>\n",
       "    <tr>\n",
       "      <th>120</th>\n",
       "      <td>Error</td>\n",
       "    </tr>\n",
       "    <tr>\n",
       "      <th>121</th>\n",
       "      <td>Error</td>\n",
       "    </tr>\n",
       "    <tr>\n",
       "      <th>122</th>\n",
       "      <td>Error</td>\n",
       "    </tr>\n",
       "    <tr>\n",
       "      <th>123</th>\n",
       "      <td>Error</td>\n",
       "    </tr>\n",
       "    <tr>\n",
       "      <th>124</th>\n",
       "      <td>Error</td>\n",
       "    </tr>\n",
       "    <tr>\n",
       "      <th>125</th>\n",
       "      <td>Error</td>\n",
       "    </tr>\n",
       "    <tr>\n",
       "      <th>126</th>\n",
       "      <td>Error</td>\n",
       "    </tr>\n",
       "    <tr>\n",
       "      <th>127</th>\n",
       "      <td>Error</td>\n",
       "    </tr>\n",
       "    <tr>\n",
       "      <th>128</th>\n",
       "      <td>Error</td>\n",
       "    </tr>\n",
       "    <tr>\n",
       "      <th>...</th>\n",
       "      <td>...</td>\n",
       "    </tr>\n",
       "    <tr>\n",
       "      <th>1477</th>\n",
       "      <td>Error</td>\n",
       "    </tr>\n",
       "    <tr>\n",
       "      <th>1478</th>\n",
       "      <td>Error</td>\n",
       "    </tr>\n",
       "    <tr>\n",
       "      <th>1479</th>\n",
       "      <td>Error</td>\n",
       "    </tr>\n",
       "    <tr>\n",
       "      <th>1480</th>\n",
       "      <td>Error</td>\n",
       "    </tr>\n",
       "    <tr>\n",
       "      <th>1481</th>\n",
       "      <td>Error</td>\n",
       "    </tr>\n",
       "    <tr>\n",
       "      <th>1482</th>\n",
       "      <td>Error</td>\n",
       "    </tr>\n",
       "    <tr>\n",
       "      <th>1483</th>\n",
       "      <td>Error</td>\n",
       "    </tr>\n",
       "    <tr>\n",
       "      <th>1484</th>\n",
       "      <td>Error</td>\n",
       "    </tr>\n",
       "    <tr>\n",
       "      <th>1485</th>\n",
       "      <td>Error</td>\n",
       "    </tr>\n",
       "    <tr>\n",
       "      <th>1486</th>\n",
       "      <td>Error</td>\n",
       "    </tr>\n",
       "    <tr>\n",
       "      <th>1487</th>\n",
       "      <td>Error</td>\n",
       "    </tr>\n",
       "    <tr>\n",
       "      <th>1488</th>\n",
       "      <td>Error</td>\n",
       "    </tr>\n",
       "    <tr>\n",
       "      <th>1489</th>\n",
       "      <td>Error</td>\n",
       "    </tr>\n",
       "    <tr>\n",
       "      <th>1490</th>\n",
       "      <td>Error</td>\n",
       "    </tr>\n",
       "    <tr>\n",
       "      <th>1491</th>\n",
       "      <td>Error</td>\n",
       "    </tr>\n",
       "    <tr>\n",
       "      <th>1492</th>\n",
       "      <td>Error</td>\n",
       "    </tr>\n",
       "    <tr>\n",
       "      <th>1493</th>\n",
       "      <td>Error</td>\n",
       "    </tr>\n",
       "    <tr>\n",
       "      <th>1494</th>\n",
       "      <td>Error</td>\n",
       "    </tr>\n",
       "    <tr>\n",
       "      <th>1495</th>\n",
       "      <td>Error</td>\n",
       "    </tr>\n",
       "    <tr>\n",
       "      <th>1496</th>\n",
       "      <td>Error</td>\n",
       "    </tr>\n",
       "    <tr>\n",
       "      <th>1497</th>\n",
       "      <td>Error</td>\n",
       "    </tr>\n",
       "    <tr>\n",
       "      <th>1498</th>\n",
       "      <td>Error</td>\n",
       "    </tr>\n",
       "    <tr>\n",
       "      <th>1499</th>\n",
       "      <td>Error</td>\n",
       "    </tr>\n",
       "    <tr>\n",
       "      <th>1500</th>\n",
       "      <td>Error</td>\n",
       "    </tr>\n",
       "    <tr>\n",
       "      <th>1501</th>\n",
       "      <td>Error</td>\n",
       "    </tr>\n",
       "    <tr>\n",
       "      <th>1502</th>\n",
       "      <td>Error</td>\n",
       "    </tr>\n",
       "    <tr>\n",
       "      <th>1503</th>\n",
       "      <td>Error</td>\n",
       "    </tr>\n",
       "    <tr>\n",
       "      <th>1504</th>\n",
       "      <td>Error</td>\n",
       "    </tr>\n",
       "    <tr>\n",
       "      <th>1505</th>\n",
       "      <td>Error</td>\n",
       "    </tr>\n",
       "    <tr>\n",
       "      <th>1506</th>\n",
       "      <td>Error</td>\n",
       "    </tr>\n",
       "  </tbody>\n",
       "</table>\n",
       "<p>1408 rows × 1 columns</p>\n",
       "</div>"
      ],
      "text/plain": [
       "      title\n",
       "99    Error\n",
       "100   Error\n",
       "101   Error\n",
       "102   Error\n",
       "103   Error\n",
       "104   Error\n",
       "105   Error\n",
       "106   Error\n",
       "107   Error\n",
       "108   Error\n",
       "109   Error\n",
       "110   Error\n",
       "111   Error\n",
       "112   Error\n",
       "113   Error\n",
       "114   Error\n",
       "115   Error\n",
       "116   Error\n",
       "117   Error\n",
       "118   Error\n",
       "119   Error\n",
       "120   Error\n",
       "121   Error\n",
       "122   Error\n",
       "123   Error\n",
       "124   Error\n",
       "125   Error\n",
       "126   Error\n",
       "127   Error\n",
       "128   Error\n",
       "...     ...\n",
       "1477  Error\n",
       "1478  Error\n",
       "1479  Error\n",
       "1480  Error\n",
       "1481  Error\n",
       "1482  Error\n",
       "1483  Error\n",
       "1484  Error\n",
       "1485  Error\n",
       "1486  Error\n",
       "1487  Error\n",
       "1488  Error\n",
       "1489  Error\n",
       "1490  Error\n",
       "1491  Error\n",
       "1492  Error\n",
       "1493  Error\n",
       "1494  Error\n",
       "1495  Error\n",
       "1496  Error\n",
       "1497  Error\n",
       "1498  Error\n",
       "1499  Error\n",
       "1500  Error\n",
       "1501  Error\n",
       "1502  Error\n",
       "1503  Error\n",
       "1504  Error\n",
       "1505  Error\n",
       "1506  Error\n",
       "\n",
       "[1408 rows x 1 columns]"
      ]
     },
     "execution_count": 113,
     "metadata": {},
     "output_type": "execute_result"
    }
   ],
   "source": [
    "test = pd.DataFrame(apple, columns=['title']) \n",
    "test[test['title'] == 'Error']"
   ]
  },
  {
   "cell_type": "code",
   "execution_count": null,
   "metadata": {},
   "outputs": [],
   "source": [
    "master.merge(master_lyrics, on='title')"
   ]
  }
 ],
 "metadata": {
  "kernelspec": {
   "display_name": "tensorflow",
   "language": "python",
   "name": "myenv"
  },
  "language_info": {
   "codemirror_mode": {
    "name": "ipython",
    "version": 3
   },
   "file_extension": ".py",
   "mimetype": "text/x-python",
   "name": "python",
   "nbconvert_exporter": "python",
   "pygments_lexer": "ipython3",
   "version": "3.6.8"
  }
 },
 "nbformat": 4,
 "nbformat_minor": 2
}
