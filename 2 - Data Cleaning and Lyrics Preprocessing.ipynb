{
 "cells": [
  {
   "cell_type": "markdown",
   "metadata": {},
   "source": [
    "# Data Cleaning"
   ]
  },
  {
   "cell_type": "code",
   "execution_count": 1,
   "metadata": {},
   "outputs": [],
   "source": [
    "import pandas as pd\n",
    "from nltk import RegexpTokenizer, PorterStemmer\n",
    "import spotipy\n",
    "import spotipy.oauth2 as oauth2\n",
    "import time"
   ]
  },
  {
   "cell_type": "markdown",
   "metadata": {},
   "source": [
    "### Data Dictionary\n",
    "\n",
    "|Key|Value Type|Value Description|\n",
    "|---|---|---|\n",
    "|song|string|Title of the song.|\n",
    "|danceability|float|Danceability describes how suitable a track is for dancing based on a combination of musical elements including tempo, rhythm stability, beat strength, and overall regularity. A value of 0.0 is least danceable and 1.0 is most danceable.|\n",
    "|energy|float|Energy is a measure from 0.0 to 1.0 and represents a perceptual measure of intensity and activity. Typically, energetic tracks feel fast, loud, and noisy. For example, death metal has high energy, while a Bach prelude scores low on the scale. Perceptual features contributing to this attribute include dynamic range, perceived loudness, timbre, onset rate, and general entropy.|\n",
    "|key|int|The estimated overall key of the track. Integers map to pitches using standard Pitch Class notation. E.g. 0 = C, 1 = C♯/D♭, 2 = D, and so on. If no key was detected, the value is -1.|\n",
    "|loudness|float|The overall loudness of a track in decibels (dB). Loudness values are averaged across the entire track and are useful for comparing relative loudness of tracks. Loudness is the quality of a sound that is the primary psychological correlate of physical strength (amplitude). Values typically range between -60 and 0 db.|\n",
    "|mode|int|Mode indicates the modality (major or minor) of a track, the type of scale from which its melodic content is derived. Major is represented by 1 and minor is 0.|\n",
    "|speechiness|float|Speechiness detects the presence of spoken words in a track. The more exclusively speech-like the recording (e.g. talk show, audio book, poetry), the closer to 1.0 the attribute value. Values above 0.66 describe tracks that are probably made entirely of spoken words. Values between 0.33 and 0.66 describe tracks that may contain both music and speech, either in sections or layered, including such cases as rap music. Values below 0.33 most likely represent music and other non-speech-like tracks.|\n",
    "|acousticness|float|A confidence measure from 0.0 to 1.0 of whether the track is acoustic. 1.0 represents high confidence the track is acoustic.|\n",
    "|instrumentalness|float|Predicts whether a track contains no vocals. “Ooh” and “aah” sounds are treated as instrumental in this context. Rap or spoken word tracks are clearly “vocal”. The closer the instrumentalness value is to 1.0, the greater likelihood the track contains no vocal content. Values above 0.5 are intended to represent instrumental tracks, but confidence is higher as the value approaches 1.0.|\n",
    "|liveness|float|Detects the presence of an audience in the recording. Higher liveness values represent an increased probability that the track was performed live. A value above 0.8 provides strong likelihood that the track is live.|\n",
    "|valence|float|A measure from 0.0 to 1.0 describing the musical positiveness conveyed by a track. Tracks with high valence sound more positive (e.g. happy, cheerful, euphoric), while tracks with low valence sound more negative (e.g. sad, depressed, angry).|\n",
    "|tempo|float|The overall estimated tempo of a track in beats per minute (BPM).|\n",
    "|duration_sec|float|The duration of the track in seconds.|\n",
    "|time_signature|int|An estimated overall time signature of a track. The time signature (meter) is a notational convention to specify how many beats are in each bar (or measure).|\n",
    "|hit|int|1 if a song is a hit (popular) song and 0 if not.|"
   ]
  },
  {
   "cell_type": "markdown",
   "metadata": {},
   "source": [
    "### Dropped Columns\n",
    "\n",
    "|Key|Value Type|Value Description|\n",
    "|---|---|---|\n",
    "|Unnamed: 0|int|Index from csv|\n",
    "|type|string|The object type: “audio_features”|\n",
    "|id|string|The Spotify ID for the track.|\n",
    "|uri|string|The Spotify URI for the track.|\n",
    "|track_href|string|A link to the Web API endpoint providing full details of the track.|\n",
    "|analysis_url|string|An HTTP URL to access the full audio analysis of this track. An access token is required to access this data.|\n",
    "|duration_ms|int|The duration of the track in milliseconds."
   ]
  },
  {
   "cell_type": "code",
   "execution_count": 305,
   "metadata": {},
   "outputs": [],
   "source": [
    "# Set up credentials and token for API environment\n",
    "credentials = oauth2.SpotifyClientCredentials(\n",
    "    client_id='ca7d1c8f1d9b4a92a6208ba4984e65f8',       # Client ID provided from developer account page\n",
    "    client_secret='4fa9bd2b5c204aeab163567faf66d508')   # Client Secret ID provided from developer account page\n",
    "                                                        # Client Secret ID has since been changed \n",
    "token = credentials.get_access_token()\n",
    "\n",
    "# Create Spotify object\n",
    "spotify = spotipy.Spotify(auth=token)"
   ]
  },
  {
   "cell_type": "markdown",
   "metadata": {},
   "source": [
    "### Clean and Merge Audio Feature DataFrames"
   ]
  },
  {
   "cell_type": "code",
   "execution_count": 5,
   "metadata": {},
   "outputs": [],
   "source": [
    "# Create a function to add song names column to dataframe\n",
    "def revamp(df):\n",
    "    column_contents = []                                      # Instantiate empty list\n",
    "    \n",
    "    for uri in df['uri']:                                     # For loop to iterate through URIs in URI column\n",
    "        temp = spotify.track(uri)['name']                     # Spotify API call for track name\n",
    "        column_contents.append(temp)                          # Append track name to empty list\n",
    "        time.sleep(3)                                         # Wait 3 seconds before rerunning\n",
    "\n",
    "    songs = pd.DataFrame(column_contents, columns=['title'])  # Create dataframe of tracks list\n",
    "    df = df.join(songs, how='outer')                          # Outer join the songs dataframe with the original\n",
    "    \n",
    "    # Create a new column with duration column values converted to seconds\n",
    "    df['duration_sec'] = df['duration_ms'].map(lambda x: x/1000)\n",
    "    \n",
    "    # Drop columns that will not be used for analysis\n",
    "    df.drop(['Unnamed: 0', 'type', 'id', 'uri', 'track_href', 'analysis_url', 'duration_ms'], \n",
    "            axis=1, inplace=True)\n",
    "    \n",
    "    # Drop all duplicates\n",
    "    df.drop_duplicates(inplace=True)\n",
    "    \n",
    "    # Reorder columns\n",
    "    df = df[['title', 'danceability', 'energy', 'loudness', 'mode', 'speechiness', \n",
    "        'acousticness', 'instrumentalness', 'liveness', 'valence', 'tempo', 'key', \n",
    "        'time_signature', 'duration_sec']]\n",
    "    \n",
    "    # Return new dataframe\n",
    "    return df"
   ]
  },
  {
   "cell_type": "code",
   "execution_count": 327,
   "metadata": {},
   "outputs": [],
   "source": [
    "'''\n",
    "Created a simplified revamp function to run on songfacts dataframes\n",
    "which is the same as the revamp function above minus the for loop\n",
    "'''\n",
    "\n",
    "def revamp_basic(df1, df2):\n",
    "    df = df1.join(df2, how='outer')\n",
    "    df['duration_sec'] = df['duration_ms'].map(lambda x: x/1000)\n",
    "    df.drop(['Unnamed: 0', 'type', 'id', 'uri', 'track_href', 'analysis_url', 'duration_ms'], \n",
    "            axis=1, inplace=True)\n",
    "    df = df[['title', 'danceability', 'energy', 'loudness', 'mode', 'speechiness', \n",
    "        'acousticness', 'instrumentalness', 'liveness', 'valence', 'tempo', 'key', \n",
    "        'time_signature', 'duration_sec']]\n",
    "    \n",
    "    return df"
   ]
  },
  {
   "cell_type": "code",
   "execution_count": 7,
   "metadata": {},
   "outputs": [],
   "source": [
    "# Create a function to clean, manipulate, and concatenate dataframes\n",
    "# The inputs are 2 dataframes \n",
    "def process_master(df1, df2):\n",
    "    \n",
    "    # Concatenate dataframes\n",
    "    master_df = pd.concat([df1, df2])\n",
    "    \n",
    "    # Drop all duplicates\n",
    "    master_df.drop_duplicates(inplace=True)\n",
    "    return master_df"
   ]
  },
  {
   "cell_type": "markdown",
   "metadata": {},
   "source": [
    "### 2018 audio features"
   ]
  },
  {
   "cell_type": "code",
   "execution_count": 10,
   "metadata": {},
   "outputs": [],
   "source": [
    "# Read in data\n",
    "bb_18_ft = pd.read_csv('./data/2018_billboard_features')"
   ]
  },
  {
   "cell_type": "code",
   "execution_count": 11,
   "metadata": {},
   "outputs": [],
   "source": [
    "# Run revamp function on data\n",
    "bb_18_ft = revamp(bb_18_ft)"
   ]
  },
  {
   "cell_type": "code",
   "execution_count": 242,
   "metadata": {},
   "outputs": [],
   "source": [
    "'''\n",
    "Creating hit column which will be y variable in modeling\n",
    "hit = 1 = hit song\n",
    "hit = 0 = non-hit song\n",
    "'''\n",
    "bb_18_ft['hit'] = [1 for i in range(bb_18_ft.shape[0])]"
   ]
  },
  {
   "cell_type": "code",
   "execution_count": 246,
   "metadata": {},
   "outputs": [
    {
     "data": {
      "text/html": [
       "<div>\n",
       "<style scoped>\n",
       "    .dataframe tbody tr th:only-of-type {\n",
       "        vertical-align: middle;\n",
       "    }\n",
       "\n",
       "    .dataframe tbody tr th {\n",
       "        vertical-align: top;\n",
       "    }\n",
       "\n",
       "    .dataframe thead th {\n",
       "        text-align: right;\n",
       "    }\n",
       "</style>\n",
       "<table border=\"1\" class=\"dataframe\">\n",
       "  <thead>\n",
       "    <tr style=\"text-align: right;\">\n",
       "      <th></th>\n",
       "      <th>title</th>\n",
       "      <th>danceability</th>\n",
       "      <th>energy</th>\n",
       "      <th>loudness</th>\n",
       "      <th>mode</th>\n",
       "      <th>speechiness</th>\n",
       "      <th>acousticness</th>\n",
       "      <th>instrumentalness</th>\n",
       "      <th>liveness</th>\n",
       "      <th>valence</th>\n",
       "      <th>tempo</th>\n",
       "      <th>key</th>\n",
       "      <th>time_signature</th>\n",
       "      <th>duration_sec</th>\n",
       "      <th>hit</th>\n",
       "    </tr>\n",
       "  </thead>\n",
       "  <tbody>\n",
       "    <tr>\n",
       "      <th>0</th>\n",
       "      <td>God's Plan</td>\n",
       "      <td>0.754</td>\n",
       "      <td>0.449</td>\n",
       "      <td>-9.211</td>\n",
       "      <td>1</td>\n",
       "      <td>0.1090</td>\n",
       "      <td>0.0332</td>\n",
       "      <td>0.000083</td>\n",
       "      <td>0.552</td>\n",
       "      <td>0.357</td>\n",
       "      <td>77.169</td>\n",
       "      <td>7</td>\n",
       "      <td>4</td>\n",
       "      <td>198.973</td>\n",
       "      <td>1</td>\n",
       "    </tr>\n",
       "    <tr>\n",
       "      <th>1</th>\n",
       "      <td>Perfect</td>\n",
       "      <td>0.599</td>\n",
       "      <td>0.448</td>\n",
       "      <td>-6.312</td>\n",
       "      <td>1</td>\n",
       "      <td>0.0232</td>\n",
       "      <td>0.1630</td>\n",
       "      <td>0.000000</td>\n",
       "      <td>0.106</td>\n",
       "      <td>0.168</td>\n",
       "      <td>95.050</td>\n",
       "      <td>8</td>\n",
       "      <td>3</td>\n",
       "      <td>263.400</td>\n",
       "      <td>1</td>\n",
       "    </tr>\n",
       "    <tr>\n",
       "      <th>2</th>\n",
       "      <td>Meant to Be (feat. Florida Georgia Line)</td>\n",
       "      <td>0.643</td>\n",
       "      <td>0.783</td>\n",
       "      <td>-6.458</td>\n",
       "      <td>1</td>\n",
       "      <td>0.0856</td>\n",
       "      <td>0.0470</td>\n",
       "      <td>0.000000</td>\n",
       "      <td>0.083</td>\n",
       "      <td>0.579</td>\n",
       "      <td>154.084</td>\n",
       "      <td>10</td>\n",
       "      <td>4</td>\n",
       "      <td>163.870</td>\n",
       "      <td>1</td>\n",
       "    </tr>\n",
       "    <tr>\n",
       "      <th>3</th>\n",
       "      <td>Havana</td>\n",
       "      <td>0.765</td>\n",
       "      <td>0.523</td>\n",
       "      <td>-4.333</td>\n",
       "      <td>1</td>\n",
       "      <td>0.0300</td>\n",
       "      <td>0.1840</td>\n",
       "      <td>0.000036</td>\n",
       "      <td>0.132</td>\n",
       "      <td>0.394</td>\n",
       "      <td>104.988</td>\n",
       "      <td>2</td>\n",
       "      <td>4</td>\n",
       "      <td>217.307</td>\n",
       "      <td>1</td>\n",
       "    </tr>\n",
       "    <tr>\n",
       "      <th>4</th>\n",
       "      <td>rockstar (feat. 21 Savage)</td>\n",
       "      <td>0.587</td>\n",
       "      <td>0.535</td>\n",
       "      <td>-6.090</td>\n",
       "      <td>0</td>\n",
       "      <td>0.0898</td>\n",
       "      <td>0.1170</td>\n",
       "      <td>0.000066</td>\n",
       "      <td>0.131</td>\n",
       "      <td>0.140</td>\n",
       "      <td>159.847</td>\n",
       "      <td>5</td>\n",
       "      <td>4</td>\n",
       "      <td>218.147</td>\n",
       "      <td>1</td>\n",
       "    </tr>\n",
       "  </tbody>\n",
       "</table>\n",
       "</div>"
      ],
      "text/plain": [
       "                                      title  danceability  energy  loudness  \\\n",
       "0                                God's Plan         0.754   0.449    -9.211   \n",
       "1                                   Perfect         0.599   0.448    -6.312   \n",
       "2  Meant to Be (feat. Florida Georgia Line)         0.643   0.783    -6.458   \n",
       "3                                    Havana         0.765   0.523    -4.333   \n",
       "4                rockstar (feat. 21 Savage)         0.587   0.535    -6.090   \n",
       "\n",
       "   mode  speechiness  acousticness  instrumentalness  liveness  valence  \\\n",
       "0     1       0.1090        0.0332          0.000083     0.552    0.357   \n",
       "1     1       0.0232        0.1630          0.000000     0.106    0.168   \n",
       "2     1       0.0856        0.0470          0.000000     0.083    0.579   \n",
       "3     1       0.0300        0.1840          0.000036     0.132    0.394   \n",
       "4     0       0.0898        0.1170          0.000066     0.131    0.140   \n",
       "\n",
       "     tempo  key  time_signature  duration_sec  hit  \n",
       "0   77.169    7               4       198.973    1  \n",
       "1   95.050    8               3       263.400    1  \n",
       "2  154.084   10               4       163.870    1  \n",
       "3  104.988    2               4       217.307    1  \n",
       "4  159.847    5               4       218.147    1  "
      ]
     },
     "execution_count": 246,
     "metadata": {},
     "output_type": "execute_result"
    }
   ],
   "source": [
    "# Check to see data is revamped the way we want it to be\n",
    "bb_18_ft.head()"
   ]
  },
  {
   "cell_type": "code",
   "execution_count": 247,
   "metadata": {},
   "outputs": [],
   "source": [
    "# Create new csv file\n",
    "bb_18_ft.to_csv('./data/REVAMPED_2018_billboard_features')"
   ]
  },
  {
   "cell_type": "code",
   "execution_count": 330,
   "metadata": {},
   "outputs": [
    {
     "data": {
      "text/plain": [
       "Shape of You                                               1\n",
       "I Like It                                                  1\n",
       "Trip                                                       1\n",
       "Mercy                                                      1\n",
       "Him & I (with Halsey)                                      1\n",
       "Boo'd Up                                                   1\n",
       "Nonstop                                                    1\n",
       "I Like Me Better                                           1\n",
       "Say Something                                              1\n",
       "Meant to Be (feat. Florida Georgia Line)                   1\n",
       "changes                                                    1\n",
       "God is a woman                                             1\n",
       "no tears left to cry                                       1\n",
       "SAD!                                                       1\n",
       "Havana                                                     1\n",
       "Look Alive (feat. Drake)                                   1\n",
       "I Get The Bag (feat. Migos)                                1\n",
       "How Long                                                   1\n",
       "Let You Down                                               1\n",
       "Te Boté - Remix                                            1\n",
       "Plain Jane                                                 1\n",
       "FEFE (feat. Nicki Minaj, Murda Beatz)                      1\n",
       "Fuck Love (feat. Trippie Redd)                             1\n",
       "Love Lies (with Normani)                                   1\n",
       "Girls Like You (feat. Cardi B)                             1\n",
       "New Rules                                                  1\n",
       "Call Out My Name                                           1\n",
       "No Limit                                                   1\n",
       "Nice For What                                              1\n",
       "God's Plan                                                 1\n",
       "                                                          ..\n",
       "This Is America                                            1\n",
       "Tequila                                                    1\n",
       "Moonlight                                                  1\n",
       "Marry Me                                                   1\n",
       "Finesse (Remix) [feat. Cardi B]                            1\n",
       "Wait                                                       1\n",
       "Perfect                                                    1\n",
       "King's Dead (with Kendrick Lamar, Future & James Blake)    1\n",
       "Wolves                                                     1\n",
       "Happier                                                    1\n",
       "Mine                                                       1\n",
       "Bodak Yellow (Money Moves) - Instrumental Version          1\n",
       "Thunder                                                    1\n",
       "Sky Walker (feat. Travis Scott)                            1\n",
       "Young Dumb & Broke                                         1\n",
       "Outside Today                                              1\n",
       "Heaven                                                     1\n",
       "X                                                          1\n",
       "Lucid Dreams                                               1\n",
       "Plug Walk                                                  1\n",
       "Lemon                                                      1\n",
       "Bartier Cardi (feat. 21 Savage)                            1\n",
       "Simple                                                     1\n",
       "In My Feelings                                             1\n",
       "Stir Fry                                                   1\n",
       "I Fall Apart                                               1\n",
       "I'm Upset                                                  1\n",
       "Never Be the Same                                          1\n",
       "rockstar (feat. 21 Savage)                                 1\n",
       "Gucci Gang                                                 1\n",
       "Name: title, Length: 99, dtype: int64"
      ]
     },
     "execution_count": 330,
     "metadata": {},
     "output_type": "execute_result"
    }
   ],
   "source": [
    "# Check for unique values\n",
    "bb_18_ft['title'].value_counts()"
   ]
  },
  {
   "cell_type": "markdown",
   "metadata": {},
   "source": [
    "### 2018 SongFacts audio features"
   ]
  },
  {
   "cell_type": "code",
   "execution_count": 66,
   "metadata": {},
   "outputs": [],
   "source": [
    "sf_18_ft = pd.read_csv('./data/2018_songfacts_features')"
   ]
  },
  {
   "cell_type": "code",
   "execution_count": 67,
   "metadata": {},
   "outputs": [
    {
     "data": {
      "text/plain": [
       "(1381, 19)"
      ]
     },
     "execution_count": 67,
     "metadata": {},
     "output_type": "execute_result"
    }
   ],
   "source": [
    "# Check inital shape of sf_18_ft dataframe\n",
    "sf_18_ft.shape"
   ]
  },
  {
   "cell_type": "code",
   "execution_count": 159,
   "metadata": {
    "scrolled": true
   },
   "outputs": [],
   "source": [
    "column_contents2 = []                                     # Instantiate empty list\n",
    "\n",
    "for ID in sf_18_ft['id']:                                 # For loop to iterate through IDs in ID column\n",
    "    try:\n",
    "        temp = spotify.track(ID)['name']                  # Spotify API call for track name\n",
    "    except:\n",
    "        temp = ['Error']                                  # Except statement, print ['Error'] when errors occur\n",
    "    column_contents2.append(temp)                         # Append track name to empty list\n",
    "    time.sleep(2)                                         # Wait 2 seconds before rerunning\n",
    "    \n",
    "songs2 = pd.DataFrame(column_contents2, columns=['title'])"
   ]
  },
  {
   "cell_type": "code",
   "execution_count": 170,
   "metadata": {},
   "outputs": [],
   "source": [
    "# Drop duplicates\n",
    "songs2.drop_duplicates(inplace=True)"
   ]
  },
  {
   "cell_type": "code",
   "execution_count": 332,
   "metadata": {},
   "outputs": [
    {
     "data": {
      "text/plain": [
       "Life is Beautiful                         1\n",
       "I'd Rather Have a Love                    1\n",
       "Damage                                    1\n",
       "Knee Deep In My Heart                     1\n",
       "Carolina                                  1\n",
       "Daedalus (What We Have)                   1\n",
       "Happy Now                                 1\n",
       "BANG!                                     1\n",
       "Fluffy                                    1\n",
       "Hookah                                    1\n",
       "I Can't Describe (The Way I Feel)         1\n",
       "Downtown                                  1\n",
       "Farrah Fawcett Hair                       1\n",
       "Interlude: I'm Not Angry Anymore          1\n",
       "Hello                                     1\n",
       "I'd Want It To Be Yours                   1\n",
       "Baby Come Back to Me                      1\n",
       "Introspection (Edit)                      1\n",
       "Could It Be I'm Falling In Love           1\n",
       "I Luv This S**t (Feat. $hamrock)          1\n",
       "Instant Crush                             1\n",
       "Love & Meth                               1\n",
       "It's Hard To Win When You Always Lose     1\n",
       "Take Me Higher                            1\n",
       "Woman Like Me (feat. Nicki Minaj)         1\n",
       "Brightest Morning Star                    1\n",
       "John Doe (feat. Priscilla)                1\n",
       "Want to Want Me                           1\n",
       "It Doesn't Matter to Him                  1\n",
       "Anklebiters                               1\n",
       "                                         ..\n",
       "Been Caught Cheating                      1\n",
       "Knee Socks                                1\n",
       "Calling Cards                             1\n",
       "Perfect Timing                            1\n",
       "Hang Me Up To Dry                         1\n",
       "Already Callin' You Mine                  1\n",
       "Some Girls Are Crazy                      1\n",
       "The Wire                                  1\n",
       "I Like It, I Love It                      1\n",
       "Carry on Jon - Live                       1\n",
       "Battle Born                               1\n",
       "Hips Don't Lie                            1\n",
       "Float On                                  1\n",
       "Devil's Backbone                          1\n",
       "Dream lantern                             1\n",
       "Anywhere But Here (feat. Maria Brink)     1\n",
       "Cassiopeia                                1\n",
       "A Face In The Crowd                       1\n",
       "I'm Aquarius                              1\n",
       "Bullet In A Gun                           1\n",
       "Captive Bolt Pistol                       1\n",
       "LITTLE BOY BLUE your daddy’s gone         1\n",
       "Choose Your Battles                       1\n",
       "Hold On                                   1\n",
       "Rumspringa (Return to Heartbreak Road)    1\n",
       "Bound for Glory                           1\n",
       "Almost Home                               1\n",
       "Brighton Beach                            1\n",
       "Cold Beer Drinker                         1\n",
       "If I Ain't Got You                        1\n",
       "Name: title, Length: 1298, dtype: int64"
      ]
     },
     "execution_count": 332,
     "metadata": {},
     "output_type": "execute_result"
    }
   ],
   "source": [
    "# Check for unique values\n",
    "songs2['title'].value_counts()"
   ]
  },
  {
   "cell_type": "code",
   "execution_count": 175,
   "metadata": {},
   "outputs": [],
   "source": [
    "# Run the revamp basic function\n",
    "sf_18_ft = revamp_basic(sf_18_ft, songs2)"
   ]
  },
  {
   "cell_type": "code",
   "execution_count": 248,
   "metadata": {},
   "outputs": [],
   "source": [
    "'''\n",
    "Creating hit column which will be y variable in modeling\n",
    "hit = 1 = hit song\n",
    "hit = 0 = non-hit song\n",
    "'''\n",
    "sf_18_ft['hit'] = [0 for i in range(sf_18_ft.shape[0])]"
   ]
  },
  {
   "cell_type": "code",
   "execution_count": 250,
   "metadata": {},
   "outputs": [
    {
     "data": {
      "text/html": [
       "<div>\n",
       "<style scoped>\n",
       "    .dataframe tbody tr th:only-of-type {\n",
       "        vertical-align: middle;\n",
       "    }\n",
       "\n",
       "    .dataframe tbody tr th {\n",
       "        vertical-align: top;\n",
       "    }\n",
       "\n",
       "    .dataframe thead th {\n",
       "        text-align: right;\n",
       "    }\n",
       "</style>\n",
       "<table border=\"1\" class=\"dataframe\">\n",
       "  <thead>\n",
       "    <tr style=\"text-align: right;\">\n",
       "      <th></th>\n",
       "      <th>title</th>\n",
       "      <th>danceability</th>\n",
       "      <th>energy</th>\n",
       "      <th>loudness</th>\n",
       "      <th>mode</th>\n",
       "      <th>speechiness</th>\n",
       "      <th>acousticness</th>\n",
       "      <th>instrumentalness</th>\n",
       "      <th>liveness</th>\n",
       "      <th>valence</th>\n",
       "      <th>tempo</th>\n",
       "      <th>key</th>\n",
       "      <th>time_signature</th>\n",
       "      <th>duration_sec</th>\n",
       "      <th>hit</th>\n",
       "    </tr>\n",
       "  </thead>\n",
       "  <tbody>\n",
       "    <tr>\n",
       "      <th>0</th>\n",
       "      <td>$20 Fine</td>\n",
       "      <td>0.569</td>\n",
       "      <td>0.887</td>\n",
       "      <td>-8.972</td>\n",
       "      <td>1</td>\n",
       "      <td>0.0397</td>\n",
       "      <td>0.0896</td>\n",
       "      <td>0.43100</td>\n",
       "      <td>0.3450</td>\n",
       "      <td>0.738</td>\n",
       "      <td>120.949</td>\n",
       "      <td>0</td>\n",
       "      <td>4</td>\n",
       "      <td>299.080</td>\n",
       "      <td>0</td>\n",
       "    </tr>\n",
       "    <tr>\n",
       "      <th>1</th>\n",
       "      <td>All Hell Breaks Loose</td>\n",
       "      <td>0.441</td>\n",
       "      <td>0.937</td>\n",
       "      <td>-11.576</td>\n",
       "      <td>0</td>\n",
       "      <td>0.0717</td>\n",
       "      <td>0.0354</td>\n",
       "      <td>0.00000</td>\n",
       "      <td>0.0924</td>\n",
       "      <td>0.332</td>\n",
       "      <td>156.942</td>\n",
       "      <td>4</td>\n",
       "      <td>4</td>\n",
       "      <td>106.960</td>\n",
       "      <td>0</td>\n",
       "    </tr>\n",
       "    <tr>\n",
       "      <th>2</th>\n",
       "      <td>All I Want for Christmas Is You</td>\n",
       "      <td>0.335</td>\n",
       "      <td>0.625</td>\n",
       "      <td>-7.462</td>\n",
       "      <td>1</td>\n",
       "      <td>0.0386</td>\n",
       "      <td>0.1640</td>\n",
       "      <td>0.00000</td>\n",
       "      <td>0.0708</td>\n",
       "      <td>0.346</td>\n",
       "      <td>150.277</td>\n",
       "      <td>7</td>\n",
       "      <td>4</td>\n",
       "      <td>241.107</td>\n",
       "      <td>0</td>\n",
       "    </tr>\n",
       "    <tr>\n",
       "      <th>3</th>\n",
       "      <td>NaN</td>\n",
       "      <td>0.335</td>\n",
       "      <td>0.625</td>\n",
       "      <td>-7.462</td>\n",
       "      <td>1</td>\n",
       "      <td>0.0386</td>\n",
       "      <td>0.1640</td>\n",
       "      <td>0.00000</td>\n",
       "      <td>0.0708</td>\n",
       "      <td>0.346</td>\n",
       "      <td>150.277</td>\n",
       "      <td>7</td>\n",
       "      <td>4</td>\n",
       "      <td>241.107</td>\n",
       "      <td>0</td>\n",
       "    </tr>\n",
       "    <tr>\n",
       "      <th>4</th>\n",
       "      <td>All I've Ever Needed</td>\n",
       "      <td>0.433</td>\n",
       "      <td>0.310</td>\n",
       "      <td>-8.941</td>\n",
       "      <td>1</td>\n",
       "      <td>0.0305</td>\n",
       "      <td>0.8800</td>\n",
       "      <td>0.00405</td>\n",
       "      <td>0.1180</td>\n",
       "      <td>0.164</td>\n",
       "      <td>142.845</td>\n",
       "      <td>0</td>\n",
       "      <td>4</td>\n",
       "      <td>236.347</td>\n",
       "      <td>0</td>\n",
       "    </tr>\n",
       "  </tbody>\n",
       "</table>\n",
       "</div>"
      ],
      "text/plain": [
       "                             title  danceability  energy  loudness  mode  \\\n",
       "0                         $20 Fine         0.569   0.887    -8.972     1   \n",
       "1            All Hell Breaks Loose         0.441   0.937   -11.576     0   \n",
       "2  All I Want for Christmas Is You         0.335   0.625    -7.462     1   \n",
       "3                              NaN         0.335   0.625    -7.462     1   \n",
       "4             All I've Ever Needed         0.433   0.310    -8.941     1   \n",
       "\n",
       "   speechiness  acousticness  instrumentalness  liveness  valence    tempo  \\\n",
       "0       0.0397        0.0896           0.43100    0.3450    0.738  120.949   \n",
       "1       0.0717        0.0354           0.00000    0.0924    0.332  156.942   \n",
       "2       0.0386        0.1640           0.00000    0.0708    0.346  150.277   \n",
       "3       0.0386        0.1640           0.00000    0.0708    0.346  150.277   \n",
       "4       0.0305        0.8800           0.00405    0.1180    0.164  142.845   \n",
       "\n",
       "   key  time_signature  duration_sec  hit  \n",
       "0    0               4       299.080    0  \n",
       "1    4               4       106.960    0  \n",
       "2    7               4       241.107    0  \n",
       "3    7               4       241.107    0  \n",
       "4    0               4       236.347    0  "
      ]
     },
     "execution_count": 250,
     "metadata": {},
     "output_type": "execute_result"
    }
   ],
   "source": [
    "sf_18_ft.head()"
   ]
  },
  {
   "cell_type": "code",
   "execution_count": 179,
   "metadata": {},
   "outputs": [],
   "source": [
    "# Drop duplicates\n",
    "sf_18_ft.drop_duplicates(inplace=True)"
   ]
  },
  {
   "cell_type": "code",
   "execution_count": 251,
   "metadata": {},
   "outputs": [],
   "source": [
    "sf_18_ft.to_csv('./data/REVAMPED_2018_songfacts_features')"
   ]
  },
  {
   "cell_type": "markdown",
   "metadata": {},
   "source": [
    "### 2018 master audio features"
   ]
  },
  {
   "cell_type": "code",
   "execution_count": 252,
   "metadata": {},
   "outputs": [],
   "source": [
    "# Run process master function on 2018 billboard and songfacts audio features\n",
    "master_18_ft = process_master(bb_18_ft, sf_18_ft)"
   ]
  },
  {
   "cell_type": "code",
   "execution_count": 253,
   "metadata": {},
   "outputs": [
    {
     "data": {
      "text/plain": [
       "(1468, 15)"
      ]
     },
     "execution_count": 253,
     "metadata": {},
     "output_type": "execute_result"
    }
   ],
   "source": [
    "master_18_ft.shape"
   ]
  },
  {
   "cell_type": "code",
   "execution_count": 307,
   "metadata": {},
   "outputs": [
    {
     "data": {
      "text/html": [
       "<div>\n",
       "<style scoped>\n",
       "    .dataframe tbody tr th:only-of-type {\n",
       "        vertical-align: middle;\n",
       "    }\n",
       "\n",
       "    .dataframe tbody tr th {\n",
       "        vertical-align: top;\n",
       "    }\n",
       "\n",
       "    .dataframe thead th {\n",
       "        text-align: right;\n",
       "    }\n",
       "</style>\n",
       "<table border=\"1\" class=\"dataframe\">\n",
       "  <thead>\n",
       "    <tr style=\"text-align: right;\">\n",
       "      <th></th>\n",
       "      <th>title</th>\n",
       "      <th>danceability</th>\n",
       "      <th>energy</th>\n",
       "      <th>loudness</th>\n",
       "      <th>mode</th>\n",
       "      <th>speechiness</th>\n",
       "      <th>acousticness</th>\n",
       "      <th>instrumentalness</th>\n",
       "      <th>liveness</th>\n",
       "      <th>valence</th>\n",
       "      <th>tempo</th>\n",
       "      <th>key</th>\n",
       "      <th>time_signature</th>\n",
       "      <th>duration_sec</th>\n",
       "      <th>hit</th>\n",
       "    </tr>\n",
       "  </thead>\n",
       "  <tbody>\n",
       "    <tr>\n",
       "      <th>0</th>\n",
       "      <td>God's Plan</td>\n",
       "      <td>0.754</td>\n",
       "      <td>0.449</td>\n",
       "      <td>-9.211</td>\n",
       "      <td>1</td>\n",
       "      <td>0.1090</td>\n",
       "      <td>0.0332</td>\n",
       "      <td>0.000083</td>\n",
       "      <td>0.552</td>\n",
       "      <td>0.357</td>\n",
       "      <td>77.169</td>\n",
       "      <td>7</td>\n",
       "      <td>4</td>\n",
       "      <td>198.973</td>\n",
       "      <td>1</td>\n",
       "    </tr>\n",
       "    <tr>\n",
       "      <th>1</th>\n",
       "      <td>Perfect</td>\n",
       "      <td>0.599</td>\n",
       "      <td>0.448</td>\n",
       "      <td>-6.312</td>\n",
       "      <td>1</td>\n",
       "      <td>0.0232</td>\n",
       "      <td>0.1630</td>\n",
       "      <td>0.000000</td>\n",
       "      <td>0.106</td>\n",
       "      <td>0.168</td>\n",
       "      <td>95.050</td>\n",
       "      <td>8</td>\n",
       "      <td>3</td>\n",
       "      <td>263.400</td>\n",
       "      <td>1</td>\n",
       "    </tr>\n",
       "    <tr>\n",
       "      <th>2</th>\n",
       "      <td>Meant to Be (feat. Florida Georgia Line)</td>\n",
       "      <td>0.643</td>\n",
       "      <td>0.783</td>\n",
       "      <td>-6.458</td>\n",
       "      <td>1</td>\n",
       "      <td>0.0856</td>\n",
       "      <td>0.0470</td>\n",
       "      <td>0.000000</td>\n",
       "      <td>0.083</td>\n",
       "      <td>0.579</td>\n",
       "      <td>154.084</td>\n",
       "      <td>10</td>\n",
       "      <td>4</td>\n",
       "      <td>163.870</td>\n",
       "      <td>1</td>\n",
       "    </tr>\n",
       "    <tr>\n",
       "      <th>3</th>\n",
       "      <td>Havana</td>\n",
       "      <td>0.765</td>\n",
       "      <td>0.523</td>\n",
       "      <td>-4.333</td>\n",
       "      <td>1</td>\n",
       "      <td>0.0300</td>\n",
       "      <td>0.1840</td>\n",
       "      <td>0.000036</td>\n",
       "      <td>0.132</td>\n",
       "      <td>0.394</td>\n",
       "      <td>104.988</td>\n",
       "      <td>2</td>\n",
       "      <td>4</td>\n",
       "      <td>217.307</td>\n",
       "      <td>1</td>\n",
       "    </tr>\n",
       "    <tr>\n",
       "      <th>4</th>\n",
       "      <td>rockstar (feat. 21 Savage)</td>\n",
       "      <td>0.587</td>\n",
       "      <td>0.535</td>\n",
       "      <td>-6.090</td>\n",
       "      <td>0</td>\n",
       "      <td>0.0898</td>\n",
       "      <td>0.1170</td>\n",
       "      <td>0.000066</td>\n",
       "      <td>0.131</td>\n",
       "      <td>0.140</td>\n",
       "      <td>159.847</td>\n",
       "      <td>5</td>\n",
       "      <td>4</td>\n",
       "      <td>218.147</td>\n",
       "      <td>1</td>\n",
       "    </tr>\n",
       "  </tbody>\n",
       "</table>\n",
       "</div>"
      ],
      "text/plain": [
       "                                      title  danceability  energy  loudness  \\\n",
       "0                                God's Plan         0.754   0.449    -9.211   \n",
       "1                                   Perfect         0.599   0.448    -6.312   \n",
       "2  Meant to Be (feat. Florida Georgia Line)         0.643   0.783    -6.458   \n",
       "3                                    Havana         0.765   0.523    -4.333   \n",
       "4                rockstar (feat. 21 Savage)         0.587   0.535    -6.090   \n",
       "\n",
       "   mode  speechiness  acousticness  instrumentalness  liveness  valence  \\\n",
       "0     1       0.1090        0.0332          0.000083     0.552    0.357   \n",
       "1     1       0.0232        0.1630          0.000000     0.106    0.168   \n",
       "2     1       0.0856        0.0470          0.000000     0.083    0.579   \n",
       "3     1       0.0300        0.1840          0.000036     0.132    0.394   \n",
       "4     0       0.0898        0.1170          0.000066     0.131    0.140   \n",
       "\n",
       "     tempo  key  time_signature  duration_sec  hit  \n",
       "0   77.169    7               4       198.973    1  \n",
       "1   95.050    8               3       263.400    1  \n",
       "2  154.084   10               4       163.870    1  \n",
       "3  104.988    2               4       217.307    1  \n",
       "4  159.847    5               4       218.147    1  "
      ]
     },
     "execution_count": 307,
     "metadata": {},
     "output_type": "execute_result"
    }
   ],
   "source": [
    "master_18_ft.head()"
   ]
  },
  {
   "cell_type": "code",
   "execution_count": 255,
   "metadata": {},
   "outputs": [],
   "source": [
    "# Create master csv file for EDA and modeling\n",
    "master_18_ft.to_csv('./data/MASTER_2018_audio_features')"
   ]
  },
  {
   "cell_type": "markdown",
   "metadata": {},
   "source": [
    "### 2013 BillBoard audio features"
   ]
  },
  {
   "cell_type": "code",
   "execution_count": 16,
   "metadata": {},
   "outputs": [],
   "source": [
    "bb_13_ft = pd.read_csv('./data/2013_billboard_features')"
   ]
  },
  {
   "cell_type": "code",
   "execution_count": 17,
   "metadata": {},
   "outputs": [],
   "source": [
    "# Run revamp function \n",
    "bb_13_ft = revamp(bb_13_ft)"
   ]
  },
  {
   "cell_type": "code",
   "execution_count": 256,
   "metadata": {},
   "outputs": [],
   "source": [
    "'''\n",
    "Creating hit column which will be y variable in modeling\n",
    "hit = 1 = hit song\n",
    "hit = 0 = non-hit song\n",
    "'''\n",
    "bb_13_ft['hit'] = [1 for i in range(bb_13_ft.shape[0])]"
   ]
  },
  {
   "cell_type": "code",
   "execution_count": 257,
   "metadata": {},
   "outputs": [
    {
     "data": {
      "text/html": [
       "<div>\n",
       "<style scoped>\n",
       "    .dataframe tbody tr th:only-of-type {\n",
       "        vertical-align: middle;\n",
       "    }\n",
       "\n",
       "    .dataframe tbody tr th {\n",
       "        vertical-align: top;\n",
       "    }\n",
       "\n",
       "    .dataframe thead th {\n",
       "        text-align: right;\n",
       "    }\n",
       "</style>\n",
       "<table border=\"1\" class=\"dataframe\">\n",
       "  <thead>\n",
       "    <tr style=\"text-align: right;\">\n",
       "      <th></th>\n",
       "      <th>title</th>\n",
       "      <th>danceability</th>\n",
       "      <th>energy</th>\n",
       "      <th>loudness</th>\n",
       "      <th>mode</th>\n",
       "      <th>speechiness</th>\n",
       "      <th>acousticness</th>\n",
       "      <th>instrumentalness</th>\n",
       "      <th>liveness</th>\n",
       "      <th>valence</th>\n",
       "      <th>tempo</th>\n",
       "      <th>key</th>\n",
       "      <th>time_signature</th>\n",
       "      <th>duration_sec</th>\n",
       "      <th>hit</th>\n",
       "    </tr>\n",
       "  </thead>\n",
       "  <tbody>\n",
       "    <tr>\n",
       "      <th>0</th>\n",
       "      <td>Thrift Shop (feat. Wanz)</td>\n",
       "      <td>0.781</td>\n",
       "      <td>0.526</td>\n",
       "      <td>-6.985</td>\n",
       "      <td>0</td>\n",
       "      <td>0.2930</td>\n",
       "      <td>0.06190</td>\n",
       "      <td>0.000000</td>\n",
       "      <td>0.0457</td>\n",
       "      <td>0.662</td>\n",
       "      <td>94.992</td>\n",
       "      <td>6</td>\n",
       "      <td>4</td>\n",
       "      <td>235.613</td>\n",
       "      <td>1</td>\n",
       "    </tr>\n",
       "    <tr>\n",
       "      <th>1</th>\n",
       "      <td>Blurred Lines</td>\n",
       "      <td>0.862</td>\n",
       "      <td>0.608</td>\n",
       "      <td>-4.762</td>\n",
       "      <td>1</td>\n",
       "      <td>0.0402</td>\n",
       "      <td>0.00373</td>\n",
       "      <td>0.000006</td>\n",
       "      <td>0.0856</td>\n",
       "      <td>0.836</td>\n",
       "      <td>120.002</td>\n",
       "      <td>7</td>\n",
       "      <td>4</td>\n",
       "      <td>263.827</td>\n",
       "      <td>1</td>\n",
       "    </tr>\n",
       "    <tr>\n",
       "      <th>2</th>\n",
       "      <td>Radioactive</td>\n",
       "      <td>0.448</td>\n",
       "      <td>0.784</td>\n",
       "      <td>-3.686</td>\n",
       "      <td>1</td>\n",
       "      <td>0.0627</td>\n",
       "      <td>0.10600</td>\n",
       "      <td>0.000108</td>\n",
       "      <td>0.6680</td>\n",
       "      <td>0.236</td>\n",
       "      <td>136.245</td>\n",
       "      <td>9</td>\n",
       "      <td>4</td>\n",
       "      <td>186.813</td>\n",
       "      <td>1</td>\n",
       "    </tr>\n",
       "    <tr>\n",
       "      <th>3</th>\n",
       "      <td>Harlem Shake</td>\n",
       "      <td>0.452</td>\n",
       "      <td>0.794</td>\n",
       "      <td>-5.151</td>\n",
       "      <td>1</td>\n",
       "      <td>0.0483</td>\n",
       "      <td>0.01110</td>\n",
       "      <td>0.001820</td>\n",
       "      <td>0.4160</td>\n",
       "      <td>0.282</td>\n",
       "      <td>137.825</td>\n",
       "      <td>0</td>\n",
       "      <td>4</td>\n",
       "      <td>196.664</td>\n",
       "      <td>1</td>\n",
       "    </tr>\n",
       "    <tr>\n",
       "      <th>4</th>\n",
       "      <td>Can't Hold Us - feat. Ray Dalton</td>\n",
       "      <td>0.641</td>\n",
       "      <td>0.922</td>\n",
       "      <td>-4.457</td>\n",
       "      <td>1</td>\n",
       "      <td>0.0786</td>\n",
       "      <td>0.02910</td>\n",
       "      <td>0.000000</td>\n",
       "      <td>0.0862</td>\n",
       "      <td>0.847</td>\n",
       "      <td>146.078</td>\n",
       "      <td>2</td>\n",
       "      <td>4</td>\n",
       "      <td>258.343</td>\n",
       "      <td>1</td>\n",
       "    </tr>\n",
       "  </tbody>\n",
       "</table>\n",
       "</div>"
      ],
      "text/plain": [
       "                              title  danceability  energy  loudness  mode  \\\n",
       "0          Thrift Shop (feat. Wanz)         0.781   0.526    -6.985     0   \n",
       "1                     Blurred Lines         0.862   0.608    -4.762     1   \n",
       "2                       Radioactive         0.448   0.784    -3.686     1   \n",
       "3                      Harlem Shake         0.452   0.794    -5.151     1   \n",
       "4  Can't Hold Us - feat. Ray Dalton         0.641   0.922    -4.457     1   \n",
       "\n",
       "   speechiness  acousticness  instrumentalness  liveness  valence    tempo  \\\n",
       "0       0.2930       0.06190          0.000000    0.0457    0.662   94.992   \n",
       "1       0.0402       0.00373          0.000006    0.0856    0.836  120.002   \n",
       "2       0.0627       0.10600          0.000108    0.6680    0.236  136.245   \n",
       "3       0.0483       0.01110          0.001820    0.4160    0.282  137.825   \n",
       "4       0.0786       0.02910          0.000000    0.0862    0.847  146.078   \n",
       "\n",
       "   key  time_signature  duration_sec  hit  \n",
       "0    6               4       235.613    1  \n",
       "1    7               4       263.827    1  \n",
       "2    9               4       186.813    1  \n",
       "3    0               4       196.664    1  \n",
       "4    2               4       258.343    1  "
      ]
     },
     "execution_count": 257,
     "metadata": {},
     "output_type": "execute_result"
    }
   ],
   "source": [
    "bb_13_ft.head()"
   ]
  },
  {
   "cell_type": "code",
   "execution_count": 258,
   "metadata": {},
   "outputs": [],
   "source": [
    "bb_13_ft.to_csv('./data/REVAMPED_2013_billboard_features')"
   ]
  },
  {
   "cell_type": "code",
   "execution_count": 333,
   "metadata": {},
   "outputs": [
    {
     "data": {
      "text/plain": [
       "My Songs Know What You Did In The Dark (Light Em Up)         1\n",
       "Going Bad (feat. Drake)                                      1\n",
       "Locked Out Of Heaven                                         1\n",
       "I Love It (& Lil Pump)                                       1\n",
       "Try Me                                                       1\n",
       "Let Me Love You                                              1\n",
       "I Need Your Love (feat. Ellie Goulding)                      1\n",
       "Still Into You                                               1\n",
       "Safe And Sound                                               1\n",
       "Sail                                                         1\n",
       "Counting Stars                                               1\n",
       "Wake Me Up                                                   1\n",
       "Catch My Breath                                              1\n",
       "Wanted You (feat. Lil Uzi Vert)                              1\n",
       "Thrift Shop (feat. Wanz)                                     1\n",
       "Before I Cry                                                 1\n",
       "Ho Hey                                                       1\n",
       "The Other Side                                               1\n",
       "Get Lucky                                                    1\n",
       "#thatPOWER                                                   1\n",
       "Runnin' Outta Moonlight                                      1\n",
       "Brave                                                        1\n",
       "Holy Grail                                                   1\n",
       "Fox On The Run                                               1\n",
       "F**kin' Problems (feat. Drake, 2 Chainz & Kendrick Lamar)    1\n",
       "The A Team                                                   1\n",
       "22                                                           1\n",
       "I Knew You Were Trouble.                                     1\n",
       "We Can't Stop                                                1\n",
       "Just Give Me a Reason (feat. Nate Ruess)                     1\n",
       "                                                            ..\n",
       "Harlem Shake                                                 1\n",
       "Daylight                                                     1\n",
       "Hall of Fame                                                 1\n",
       "Body Party                                                   1\n",
       "Downtown                                                     1\n",
       "Berzerk                                                      1\n",
       "Heart Attack                                                 1\n",
       "Same Old Love                                                1\n",
       "Clarity                                                      1\n",
       "Boys 'Round Here (feat. Pistol Annies & Friends)             1\n",
       "Roar                                                         1\n",
       "Wrecking Ball                                                1\n",
       "U.O.E.N.O. (feat. Rick Ross, Future)                         1\n",
       "Somebody To Love - Remastered 2011                           1\n",
       "Sure Be Cool If You Did                                      1\n",
       "Bugatti                                                      1\n",
       "Swimming Pools (Drank)                                       1\n",
       "Treasure                                                     1\n",
       "Power Trip                                                   1\n",
       "Mama's Broken Heart                                          1\n",
       "Royals                                                       1\n",
       "Stay                                                         1\n",
       "Can't Hold Us - feat. Ray Dalton                             1\n",
       "Suit & Tie                                                   1\n",
       "Applause                                                     1\n",
       "Sit Next to Me                                               1\n",
       "Hold On, We're Going Home                                    1\n",
       "Come And Get It                                              1\n",
       "Sweet Nothing (feat. Florence Welch)                         1\n",
       "It's the Most Wonderful Time of the Year                     1\n",
       "Name: title, Length: 100, dtype: int64"
      ]
     },
     "execution_count": 333,
     "metadata": {},
     "output_type": "execute_result"
    }
   ],
   "source": [
    "# Check for unique values\n",
    "bb_13_ft['title'].value_counts()"
   ]
  },
  {
   "cell_type": "markdown",
   "metadata": {},
   "source": [
    "### 2013 SongFacts audio features"
   ]
  },
  {
   "cell_type": "code",
   "execution_count": 188,
   "metadata": {},
   "outputs": [],
   "source": [
    "sf_13_ft = pd.read_csv('./data/2013_songfacts_features')"
   ]
  },
  {
   "cell_type": "code",
   "execution_count": 189,
   "metadata": {},
   "outputs": [
    {
     "data": {
      "text/plain": [
       "(1513, 19)"
      ]
     },
     "execution_count": 189,
     "metadata": {},
     "output_type": "execute_result"
    }
   ],
   "source": [
    "# Check initial shape of dataframe\n",
    "sf_13_ft.shape"
   ]
  },
  {
   "cell_type": "code",
   "execution_count": 191,
   "metadata": {},
   "outputs": [],
   "source": [
    "column_contents = []                                      # Instantiate empty list\n",
    "\n",
    "for ID in sf_13_ft['id']:                                 # For loop to iterate through IDs in ID column\n",
    "    try:\n",
    "        temp = spotify.track(ID)['name']                  # Spotify API call for track name\n",
    "    except:\n",
    "        temp = ['Error']                                  # Except statement, print ['Error'] when errors occur\n",
    "    column_contents.append(temp)                          # Append track name to empty list\n",
    "    time.sleep(2)                                         # Wait 2 seconds before rerunning\n",
    "    \n",
    "songs = pd.DataFrame(column_contents, columns=['title'])"
   ]
  },
  {
   "cell_type": "code",
   "execution_count": 192,
   "metadata": {},
   "outputs": [
    {
     "data": {
      "text/plain": [
       "(1513, 1)"
      ]
     },
     "execution_count": 192,
     "metadata": {},
     "output_type": "execute_result"
    }
   ],
   "source": [
    "# Check shape of songs dataframe\n",
    "songs.shape"
   ]
  },
  {
   "cell_type": "code",
   "execution_count": 195,
   "metadata": {},
   "outputs": [],
   "source": [
    "# Drop duplicates\n",
    "songs.drop_duplicates(inplace=True)"
   ]
  },
  {
   "cell_type": "code",
   "execution_count": 334,
   "metadata": {},
   "outputs": [
    {
     "data": {
      "text/plain": [
       "Life is Beautiful                         1\n",
       "I´m a Lover Not a Fighter                 1\n",
       "Is There Somebody Who Can Watch You       1\n",
       "Love & Meth                               1\n",
       "Instant Crush                             1\n",
       "I Luv This S**t (Feat. $hamrock)          1\n",
       "Damage                                    1\n",
       "Knee Deep In My Heart                     1\n",
       "Carolina                                  1\n",
       "Daedalus (What We Have)                   1\n",
       "Happy Now                                 1\n",
       "BANG!                                     1\n",
       "Fluffy                                    1\n",
       "Hookah                                    1\n",
       "I Can't Describe (The Way I Feel)         1\n",
       "Downtown                                  1\n",
       "Farrah Fawcett Hair                       1\n",
       "Interlude: I'm Not Angry Anymore          1\n",
       "Hello                                     1\n",
       "I'd Want It To Be Yours                   1\n",
       "Baby Come Back to Me                      1\n",
       "broken                                    1\n",
       "Come Together - Remastered 2009           1\n",
       "Applause                                  1\n",
       "John Doe (feat. Priscilla)                1\n",
       "Just Keep Breathing                       1\n",
       "Half Light                                1\n",
       "Chainsaw                                  1\n",
       "If You Want Love                          1\n",
       "Melody Calling                            1\n",
       "                                         ..\n",
       "Some Girls Are Crazy                      1\n",
       "The Wire                                  1\n",
       "Millionaire                               1\n",
       "I Like It, I Love It                      1\n",
       "Line Of Fire                              1\n",
       "January 28th                              1\n",
       "How Does The Grass Grow?                  1\n",
       "It Starts And Ends With You               1\n",
       "Get Lucky                                 1\n",
       "Dream lantern                             1\n",
       "Hold On                                   1\n",
       "Anywhere But Here (feat. Maria Brink)     1\n",
       "Cassiopeia                                1\n",
       "A Face In The Crowd                       1\n",
       "I'm Aquarius                              1\n",
       "Bullet In A Gun                           1\n",
       "Float On                                  1\n",
       "Captive Bolt Pistol                       1\n",
       "Choose Your Battles                       1\n",
       "Mon Raymond                               1\n",
       "Carry on Jon - Live                       1\n",
       "Rumspringa (Return to Heartbreak Road)    1\n",
       "Bound for Glory                           1\n",
       "Almost Home                               1\n",
       "Brighton Beach                            1\n",
       "Cold Beer Drinker                         1\n",
       "LITTLE BOY BLUE your daddy’s gone         1\n",
       "Battle Born                               1\n",
       "Knee Socks                                1\n",
       "If I Ain't Got You                        1\n",
       "Name: title, Length: 1423, dtype: int64"
      ]
     },
     "execution_count": 334,
     "metadata": {},
     "output_type": "execute_result"
    }
   ],
   "source": [
    "# Check for unique values\n",
    "songs['title'].value_counts()"
   ]
  },
  {
   "cell_type": "code",
   "execution_count": 197,
   "metadata": {},
   "outputs": [],
   "source": [
    "# Run revamp basic function on sf_13_ft and songs dataframes\n",
    "sf_13_ft = revamp_basic(sf_13_ft, songs)"
   ]
  },
  {
   "cell_type": "code",
   "execution_count": 259,
   "metadata": {},
   "outputs": [],
   "source": [
    "'''\n",
    "Creating hit column which will be y variable in modeling\n",
    "hit = 1 = hit song\n",
    "hit = 0 = non-hit song\n",
    "'''\n",
    "sf_13_ft['hit'] = [0 for i in range(sf_13_ft.shape[0])]"
   ]
  },
  {
   "cell_type": "code",
   "execution_count": 320,
   "metadata": {},
   "outputs": [
    {
     "data": {
      "text/html": [
       "<div>\n",
       "<style scoped>\n",
       "    .dataframe tbody tr th:only-of-type {\n",
       "        vertical-align: middle;\n",
       "    }\n",
       "\n",
       "    .dataframe tbody tr th {\n",
       "        vertical-align: top;\n",
       "    }\n",
       "\n",
       "    .dataframe thead th {\n",
       "        text-align: right;\n",
       "    }\n",
       "</style>\n",
       "<table border=\"1\" class=\"dataframe\">\n",
       "  <thead>\n",
       "    <tr style=\"text-align: right;\">\n",
       "      <th></th>\n",
       "      <th>title</th>\n",
       "      <th>danceability</th>\n",
       "      <th>energy</th>\n",
       "      <th>loudness</th>\n",
       "      <th>mode</th>\n",
       "      <th>speechiness</th>\n",
       "      <th>acousticness</th>\n",
       "      <th>instrumentalness</th>\n",
       "      <th>liveness</th>\n",
       "      <th>valence</th>\n",
       "      <th>tempo</th>\n",
       "      <th>key</th>\n",
       "      <th>time_signature</th>\n",
       "      <th>duration_sec</th>\n",
       "      <th>hit</th>\n",
       "    </tr>\n",
       "  </thead>\n",
       "  <tbody>\n",
       "    <tr>\n",
       "      <th>0</th>\n",
       "      <td>Beautiful (feat. Camila Cabello)</td>\n",
       "      <td>0.638</td>\n",
       "      <td>0.717</td>\n",
       "      <td>-4.722</td>\n",
       "      <td>1</td>\n",
       "      <td>0.0337</td>\n",
       "      <td>0.3460</td>\n",
       "      <td>0.00000</td>\n",
       "      <td>0.1050</td>\n",
       "      <td>0.249</td>\n",
       "      <td>100.027</td>\n",
       "      <td>2</td>\n",
       "      <td>4</td>\n",
       "      <td>180.000</td>\n",
       "      <td>0</td>\n",
       "    </tr>\n",
       "    <tr>\n",
       "      <th>1</th>\n",
       "      <td>All Hell Breaks Loose</td>\n",
       "      <td>0.441</td>\n",
       "      <td>0.937</td>\n",
       "      <td>-11.576</td>\n",
       "      <td>0</td>\n",
       "      <td>0.0717</td>\n",
       "      <td>0.0354</td>\n",
       "      <td>0.00000</td>\n",
       "      <td>0.0924</td>\n",
       "      <td>0.332</td>\n",
       "      <td>156.942</td>\n",
       "      <td>4</td>\n",
       "      <td>4</td>\n",
       "      <td>106.960</td>\n",
       "      <td>0</td>\n",
       "    </tr>\n",
       "    <tr>\n",
       "      <th>2</th>\n",
       "      <td>All I Want for Christmas Is You</td>\n",
       "      <td>0.335</td>\n",
       "      <td>0.625</td>\n",
       "      <td>-7.462</td>\n",
       "      <td>1</td>\n",
       "      <td>0.0386</td>\n",
       "      <td>0.1640</td>\n",
       "      <td>0.00000</td>\n",
       "      <td>0.0708</td>\n",
       "      <td>0.346</td>\n",
       "      <td>150.277</td>\n",
       "      <td>7</td>\n",
       "      <td>4</td>\n",
       "      <td>241.107</td>\n",
       "      <td>0</td>\n",
       "    </tr>\n",
       "    <tr>\n",
       "      <th>3</th>\n",
       "      <td>NaN</td>\n",
       "      <td>0.335</td>\n",
       "      <td>0.625</td>\n",
       "      <td>-7.462</td>\n",
       "      <td>1</td>\n",
       "      <td>0.0386</td>\n",
       "      <td>0.1640</td>\n",
       "      <td>0.00000</td>\n",
       "      <td>0.0708</td>\n",
       "      <td>0.346</td>\n",
       "      <td>150.277</td>\n",
       "      <td>7</td>\n",
       "      <td>4</td>\n",
       "      <td>241.107</td>\n",
       "      <td>0</td>\n",
       "    </tr>\n",
       "    <tr>\n",
       "      <th>4</th>\n",
       "      <td>All I've Ever Needed</td>\n",
       "      <td>0.433</td>\n",
       "      <td>0.310</td>\n",
       "      <td>-8.941</td>\n",
       "      <td>1</td>\n",
       "      <td>0.0305</td>\n",
       "      <td>0.8800</td>\n",
       "      <td>0.00405</td>\n",
       "      <td>0.1180</td>\n",
       "      <td>0.164</td>\n",
       "      <td>142.845</td>\n",
       "      <td>0</td>\n",
       "      <td>4</td>\n",
       "      <td>236.347</td>\n",
       "      <td>0</td>\n",
       "    </tr>\n",
       "  </tbody>\n",
       "</table>\n",
       "</div>"
      ],
      "text/plain": [
       "                              title  danceability  energy  loudness  mode  \\\n",
       "0  Beautiful (feat. Camila Cabello)         0.638   0.717    -4.722     1   \n",
       "1             All Hell Breaks Loose         0.441   0.937   -11.576     0   \n",
       "2   All I Want for Christmas Is You         0.335   0.625    -7.462     1   \n",
       "3                               NaN         0.335   0.625    -7.462     1   \n",
       "4              All I've Ever Needed         0.433   0.310    -8.941     1   \n",
       "\n",
       "   speechiness  acousticness  instrumentalness  liveness  valence    tempo  \\\n",
       "0       0.0337        0.3460           0.00000    0.1050    0.249  100.027   \n",
       "1       0.0717        0.0354           0.00000    0.0924    0.332  156.942   \n",
       "2       0.0386        0.1640           0.00000    0.0708    0.346  150.277   \n",
       "3       0.0386        0.1640           0.00000    0.0708    0.346  150.277   \n",
       "4       0.0305        0.8800           0.00405    0.1180    0.164  142.845   \n",
       "\n",
       "   key  time_signature  duration_sec  hit  \n",
       "0    2               4       180.000    0  \n",
       "1    4               4       106.960    0  \n",
       "2    7               4       241.107    0  \n",
       "3    7               4       241.107    0  \n",
       "4    0               4       236.347    0  "
      ]
     },
     "execution_count": 320,
     "metadata": {},
     "output_type": "execute_result"
    }
   ],
   "source": [
    "sf_13_ft.head()"
   ]
  },
  {
   "cell_type": "code",
   "execution_count": 200,
   "metadata": {},
   "outputs": [],
   "source": [
    "# Drop duplicates\n",
    "sf_13_ft.drop_duplicates(inplace=True)"
   ]
  },
  {
   "cell_type": "code",
   "execution_count": 261,
   "metadata": {},
   "outputs": [
    {
     "data": {
      "text/plain": [
       "(1501, 15)"
      ]
     },
     "execution_count": 261,
     "metadata": {},
     "output_type": "execute_result"
    }
   ],
   "source": [
    "sf_13_ft.shape"
   ]
  },
  {
   "cell_type": "code",
   "execution_count": 324,
   "metadata": {},
   "outputs": [],
   "source": [
    "sf_13_ft.to_csv('./data/REVAMPED_2013_songfacts_features')"
   ]
  },
  {
   "cell_type": "markdown",
   "metadata": {},
   "source": [
    "### 2013 master audio features"
   ]
  },
  {
   "cell_type": "code",
   "execution_count": 263,
   "metadata": {},
   "outputs": [],
   "source": [
    "# Run process master function on 2013 billboard and songfacts audio features\n",
    "master_13_ft = process_master(bb_13_ft, sf_13_ft)"
   ]
  },
  {
   "cell_type": "code",
   "execution_count": 264,
   "metadata": {},
   "outputs": [
    {
     "data": {
      "text/plain": [
       "(1601, 15)"
      ]
     },
     "execution_count": 264,
     "metadata": {},
     "output_type": "execute_result"
    }
   ],
   "source": [
    "master_13_ft.shape"
   ]
  },
  {
   "cell_type": "code",
   "execution_count": 311,
   "metadata": {},
   "outputs": [
    {
     "data": {
      "text/html": [
       "<div>\n",
       "<style scoped>\n",
       "    .dataframe tbody tr th:only-of-type {\n",
       "        vertical-align: middle;\n",
       "    }\n",
       "\n",
       "    .dataframe tbody tr th {\n",
       "        vertical-align: top;\n",
       "    }\n",
       "\n",
       "    .dataframe thead th {\n",
       "        text-align: right;\n",
       "    }\n",
       "</style>\n",
       "<table border=\"1\" class=\"dataframe\">\n",
       "  <thead>\n",
       "    <tr style=\"text-align: right;\">\n",
       "      <th></th>\n",
       "      <th>title</th>\n",
       "      <th>danceability</th>\n",
       "      <th>energy</th>\n",
       "      <th>loudness</th>\n",
       "      <th>mode</th>\n",
       "      <th>speechiness</th>\n",
       "      <th>acousticness</th>\n",
       "      <th>instrumentalness</th>\n",
       "      <th>liveness</th>\n",
       "      <th>valence</th>\n",
       "      <th>tempo</th>\n",
       "      <th>key</th>\n",
       "      <th>time_signature</th>\n",
       "      <th>duration_sec</th>\n",
       "      <th>hit</th>\n",
       "    </tr>\n",
       "  </thead>\n",
       "  <tbody>\n",
       "    <tr>\n",
       "      <th>0</th>\n",
       "      <td>Thrift Shop (feat. Wanz)</td>\n",
       "      <td>0.781</td>\n",
       "      <td>0.526</td>\n",
       "      <td>-6.985</td>\n",
       "      <td>0</td>\n",
       "      <td>0.2930</td>\n",
       "      <td>0.06190</td>\n",
       "      <td>0.000000</td>\n",
       "      <td>0.0457</td>\n",
       "      <td>0.662</td>\n",
       "      <td>94.992</td>\n",
       "      <td>6</td>\n",
       "      <td>4</td>\n",
       "      <td>235.613</td>\n",
       "      <td>1</td>\n",
       "    </tr>\n",
       "    <tr>\n",
       "      <th>1</th>\n",
       "      <td>Blurred Lines</td>\n",
       "      <td>0.862</td>\n",
       "      <td>0.608</td>\n",
       "      <td>-4.762</td>\n",
       "      <td>1</td>\n",
       "      <td>0.0402</td>\n",
       "      <td>0.00373</td>\n",
       "      <td>0.000006</td>\n",
       "      <td>0.0856</td>\n",
       "      <td>0.836</td>\n",
       "      <td>120.002</td>\n",
       "      <td>7</td>\n",
       "      <td>4</td>\n",
       "      <td>263.827</td>\n",
       "      <td>1</td>\n",
       "    </tr>\n",
       "    <tr>\n",
       "      <th>2</th>\n",
       "      <td>Radioactive</td>\n",
       "      <td>0.448</td>\n",
       "      <td>0.784</td>\n",
       "      <td>-3.686</td>\n",
       "      <td>1</td>\n",
       "      <td>0.0627</td>\n",
       "      <td>0.10600</td>\n",
       "      <td>0.000108</td>\n",
       "      <td>0.6680</td>\n",
       "      <td>0.236</td>\n",
       "      <td>136.245</td>\n",
       "      <td>9</td>\n",
       "      <td>4</td>\n",
       "      <td>186.813</td>\n",
       "      <td>1</td>\n",
       "    </tr>\n",
       "    <tr>\n",
       "      <th>3</th>\n",
       "      <td>Harlem Shake</td>\n",
       "      <td>0.452</td>\n",
       "      <td>0.794</td>\n",
       "      <td>-5.151</td>\n",
       "      <td>1</td>\n",
       "      <td>0.0483</td>\n",
       "      <td>0.01110</td>\n",
       "      <td>0.001820</td>\n",
       "      <td>0.4160</td>\n",
       "      <td>0.282</td>\n",
       "      <td>137.825</td>\n",
       "      <td>0</td>\n",
       "      <td>4</td>\n",
       "      <td>196.664</td>\n",
       "      <td>1</td>\n",
       "    </tr>\n",
       "    <tr>\n",
       "      <th>4</th>\n",
       "      <td>Can't Hold Us - feat. Ray Dalton</td>\n",
       "      <td>0.641</td>\n",
       "      <td>0.922</td>\n",
       "      <td>-4.457</td>\n",
       "      <td>1</td>\n",
       "      <td>0.0786</td>\n",
       "      <td>0.02910</td>\n",
       "      <td>0.000000</td>\n",
       "      <td>0.0862</td>\n",
       "      <td>0.847</td>\n",
       "      <td>146.078</td>\n",
       "      <td>2</td>\n",
       "      <td>4</td>\n",
       "      <td>258.343</td>\n",
       "      <td>1</td>\n",
       "    </tr>\n",
       "  </tbody>\n",
       "</table>\n",
       "</div>"
      ],
      "text/plain": [
       "                              title  danceability  energy  loudness  mode  \\\n",
       "0          Thrift Shop (feat. Wanz)         0.781   0.526    -6.985     0   \n",
       "1                     Blurred Lines         0.862   0.608    -4.762     1   \n",
       "2                       Radioactive         0.448   0.784    -3.686     1   \n",
       "3                      Harlem Shake         0.452   0.794    -5.151     1   \n",
       "4  Can't Hold Us - feat. Ray Dalton         0.641   0.922    -4.457     1   \n",
       "\n",
       "   speechiness  acousticness  instrumentalness  liveness  valence    tempo  \\\n",
       "0       0.2930       0.06190          0.000000    0.0457    0.662   94.992   \n",
       "1       0.0402       0.00373          0.000006    0.0856    0.836  120.002   \n",
       "2       0.0627       0.10600          0.000108    0.6680    0.236  136.245   \n",
       "3       0.0483       0.01110          0.001820    0.4160    0.282  137.825   \n",
       "4       0.0786       0.02910          0.000000    0.0862    0.847  146.078   \n",
       "\n",
       "   key  time_signature  duration_sec  hit  \n",
       "0    6               4       235.613    1  \n",
       "1    7               4       263.827    1  \n",
       "2    9               4       186.813    1  \n",
       "3    0               4       196.664    1  \n",
       "4    2               4       258.343    1  "
      ]
     },
     "execution_count": 311,
     "metadata": {},
     "output_type": "execute_result"
    }
   ],
   "source": [
    "master_13_ft.head()"
   ]
  },
  {
   "cell_type": "code",
   "execution_count": 315,
   "metadata": {},
   "outputs": [],
   "source": [
    "# Create master csv file for EDA and modeling\n",
    "master_13_ft.to_csv('./data/MASTER_2013_audio_features')"
   ]
  },
  {
   "cell_type": "markdown",
   "metadata": {},
   "source": [
    "### 2008 BillBoard audio features"
   ]
  },
  {
   "cell_type": "code",
   "execution_count": 34,
   "metadata": {},
   "outputs": [],
   "source": [
    "bb_08_ft = pd.read_csv('./data/2008_billboard_features')"
   ]
  },
  {
   "cell_type": "code",
   "execution_count": 35,
   "metadata": {},
   "outputs": [],
   "source": [
    "bb_08_ft = revamp(bb_08_ft)"
   ]
  },
  {
   "cell_type": "code",
   "execution_count": 267,
   "metadata": {},
   "outputs": [],
   "source": [
    "'''\n",
    "Creating hit column which will be y variable in modeling\n",
    "hit = 1 = hit song\n",
    "hit = 0 = non-hit song\n",
    "'''\n",
    "bb_08_ft['hit'] = [1 for i in range(bb_08_ft.shape[0])]"
   ]
  },
  {
   "cell_type": "code",
   "execution_count": 268,
   "metadata": {},
   "outputs": [
    {
     "data": {
      "text/html": [
       "<div>\n",
       "<style scoped>\n",
       "    .dataframe tbody tr th:only-of-type {\n",
       "        vertical-align: middle;\n",
       "    }\n",
       "\n",
       "    .dataframe tbody tr th {\n",
       "        vertical-align: top;\n",
       "    }\n",
       "\n",
       "    .dataframe thead th {\n",
       "        text-align: right;\n",
       "    }\n",
       "</style>\n",
       "<table border=\"1\" class=\"dataframe\">\n",
       "  <thead>\n",
       "    <tr style=\"text-align: right;\">\n",
       "      <th></th>\n",
       "      <th>title</th>\n",
       "      <th>danceability</th>\n",
       "      <th>energy</th>\n",
       "      <th>loudness</th>\n",
       "      <th>mode</th>\n",
       "      <th>speechiness</th>\n",
       "      <th>acousticness</th>\n",
       "      <th>instrumentalness</th>\n",
       "      <th>liveness</th>\n",
       "      <th>valence</th>\n",
       "      <th>tempo</th>\n",
       "      <th>key</th>\n",
       "      <th>time_signature</th>\n",
       "      <th>duration_sec</th>\n",
       "      <th>hit</th>\n",
       "    </tr>\n",
       "  </thead>\n",
       "  <tbody>\n",
       "    <tr>\n",
       "      <th>0</th>\n",
       "      <td>All Time Low</td>\n",
       "      <td>0.584</td>\n",
       "      <td>0.569</td>\n",
       "      <td>-4.259</td>\n",
       "      <td>1</td>\n",
       "      <td>0.1660</td>\n",
       "      <td>0.0508</td>\n",
       "      <td>0.000000</td>\n",
       "      <td>0.0924</td>\n",
       "      <td>0.501</td>\n",
       "      <td>89.779</td>\n",
       "      <td>0</td>\n",
       "      <td>4</td>\n",
       "      <td>217.603</td>\n",
       "      <td>1</td>\n",
       "    </tr>\n",
       "    <tr>\n",
       "      <th>1</th>\n",
       "      <td>Bleeding Love</td>\n",
       "      <td>0.638</td>\n",
       "      <td>0.656</td>\n",
       "      <td>-5.886</td>\n",
       "      <td>1</td>\n",
       "      <td>0.0357</td>\n",
       "      <td>0.1880</td>\n",
       "      <td>0.000000</td>\n",
       "      <td>0.1460</td>\n",
       "      <td>0.225</td>\n",
       "      <td>104.036</td>\n",
       "      <td>5</td>\n",
       "      <td>4</td>\n",
       "      <td>262.467</td>\n",
       "      <td>1</td>\n",
       "    </tr>\n",
       "    <tr>\n",
       "      <th>2</th>\n",
       "      <td>No One Compares To You</td>\n",
       "      <td>0.703</td>\n",
       "      <td>0.748</td>\n",
       "      <td>-6.047</td>\n",
       "      <td>1</td>\n",
       "      <td>0.0435</td>\n",
       "      <td>0.1230</td>\n",
       "      <td>0.000000</td>\n",
       "      <td>0.0642</td>\n",
       "      <td>0.625</td>\n",
       "      <td>111.943</td>\n",
       "      <td>1</td>\n",
       "      <td>4</td>\n",
       "      <td>184.080</td>\n",
       "      <td>1</td>\n",
       "    </tr>\n",
       "    <tr>\n",
       "      <th>3</th>\n",
       "      <td>Lollipop</td>\n",
       "      <td>0.828</td>\n",
       "      <td>0.433</td>\n",
       "      <td>-9.716</td>\n",
       "      <td>1</td>\n",
       "      <td>0.1990</td>\n",
       "      <td>0.0656</td>\n",
       "      <td>0.000876</td>\n",
       "      <td>0.1220</td>\n",
       "      <td>0.440</td>\n",
       "      <td>148.073</td>\n",
       "      <td>0</td>\n",
       "      <td>4</td>\n",
       "      <td>299.333</td>\n",
       "      <td>1</td>\n",
       "    </tr>\n",
       "    <tr>\n",
       "      <th>4</th>\n",
       "      <td>Apologize</td>\n",
       "      <td>0.591</td>\n",
       "      <td>0.718</td>\n",
       "      <td>-6.025</td>\n",
       "      <td>1</td>\n",
       "      <td>0.0368</td>\n",
       "      <td>0.3480</td>\n",
       "      <td>0.000118</td>\n",
       "      <td>0.1070</td>\n",
       "      <td>0.468</td>\n",
       "      <td>117.995</td>\n",
       "      <td>8</td>\n",
       "      <td>4</td>\n",
       "      <td>208.107</td>\n",
       "      <td>1</td>\n",
       "    </tr>\n",
       "  </tbody>\n",
       "</table>\n",
       "</div>"
      ],
      "text/plain": [
       "                    title  danceability  energy  loudness  mode  speechiness  \\\n",
       "0            All Time Low         0.584   0.569    -4.259     1       0.1660   \n",
       "1           Bleeding Love         0.638   0.656    -5.886     1       0.0357   \n",
       "2  No One Compares To You         0.703   0.748    -6.047     1       0.0435   \n",
       "3                Lollipop         0.828   0.433    -9.716     1       0.1990   \n",
       "4               Apologize         0.591   0.718    -6.025     1       0.0368   \n",
       "\n",
       "   acousticness  instrumentalness  liveness  valence    tempo  key  \\\n",
       "0        0.0508          0.000000    0.0924    0.501   89.779    0   \n",
       "1        0.1880          0.000000    0.1460    0.225  104.036    5   \n",
       "2        0.1230          0.000000    0.0642    0.625  111.943    1   \n",
       "3        0.0656          0.000876    0.1220    0.440  148.073    0   \n",
       "4        0.3480          0.000118    0.1070    0.468  117.995    8   \n",
       "\n",
       "   time_signature  duration_sec  hit  \n",
       "0               4       217.603    1  \n",
       "1               4       262.467    1  \n",
       "2               4       184.080    1  \n",
       "3               4       299.333    1  \n",
       "4               4       208.107    1  "
      ]
     },
     "execution_count": 268,
     "metadata": {},
     "output_type": "execute_result"
    }
   ],
   "source": [
    "bb_08_ft.head()"
   ]
  },
  {
   "cell_type": "code",
   "execution_count": 269,
   "metadata": {},
   "outputs": [],
   "source": [
    "bb_08_ft.to_csv('./data/REVAMPED_2008_billboard_features')"
   ]
  },
  {
   "cell_type": "code",
   "execution_count": 335,
   "metadata": {
    "scrolled": false
   },
   "outputs": [
    {
     "data": {
      "text/plain": [
       "Hot N Cold                                                                                  1\n",
       "Sexy Can I feat. Yung Berg                                                                  1\n",
       "Lollipop                                                                                    1\n",
       "Crush A Lot                                                                                 1\n",
       "Sensual Seduction                                                                           1\n",
       "Hypnotized                                                                                  1\n",
       "4 Minutes (feat. Justin Timberlake & Timbaland)                                             1\n",
       "No One Compares To You                                                                      1\n",
       "Bubbly                                                                                      1\n",
       "Don't Know What You Got (Till It's Gone)                                                    1\n",
       "Crank That (Soulja Boy)                                                                     1\n",
       "what are you so afraid of                                                                   1\n",
       "Viva La Vida                                                                                1\n",
       "Hate That I Love You                                                                        1\n",
       "Fall For You                                                                                1\n",
       "Take A Bow                                                                                  1\n",
       "Realize                                                                                     1\n",
       "Our Song                                                                                    1\n",
       "Superstar (feat. Matthew Santos)                                                            1\n",
       "Addicted                                                                                    1\n",
       "American Boy                                                                                1\n",
       "When I Grow Up (feat. Wiz Khalifa)                                                          1\n",
       "I Remember (feat. Lil Baby)                                                                 1\n",
       "Sorry Not Sorry                                                                             1\n",
       "Love Remains The Same                                                                       1\n",
       "Womanizer                                                                                   1\n",
       "The Way I Are                                                                               1\n",
       "Touch My Body                                                                               1\n",
       "Teardrops On My Guitar - Radio Single Remix                                                 1\n",
       "Into the Night (feat. Chad Kroeger)                                                         1\n",
       "                                                                                           ..\n",
       "Santa Claus Is Comin' to Town - Live at C.W. Post College, Greenvale, NY - December 1975    1\n",
       "Shadow Of The Day                                                                           1\n",
       "Get Me Some Of That                                                                         1\n",
       "Whatever You Like                                                                           1\n",
       "Sweetest Girl (Dollar Bill)                                                                 1\n",
       "CAN'T SAY                                                                                   1\n",
       "She's Got It All                                                                            1\n",
       "Kiss and Make Up                                                                            1\n",
       "Burnin' Up                                                                                  1\n",
       "I Kissed A Girl                                                                             1\n",
       "Bust It Baby Part 2 (feat. Ne-Yo )                                                          1\n",
       "Greatest Love Story                                                                         1\n",
       "Cyclone                                                                                     1\n",
       "I'm Yours                                                                                   1\n",
       "Paper Planes                                                                                1\n",
       "I Luv Your Girl                                                                             1\n",
       "Don't Stop The Music                                                                        1\n",
       "Armed And Dangerous                                                                         1\n",
       "Home with You                                                                               1\n",
       "Let It Rock                                                                                 1\n",
       "Lolli Lolli (Pop That Body) - Explicit Album Version                                        1\n",
       "Forever                                                                                     1\n",
       "Big Girls Don't Cry (Personal)                                                              1\n",
       "Paralyzer                                                                                   1\n",
       "Mrs. Officer                                                                                1\n",
       "Apologize                                                                                   1\n",
       "Like You'll Never See Me Again                                                              1\n",
       "It's Not My Time                                                                            1\n",
       "Bleeding Love                                                                               1\n",
       "Love Lockdown                                                                               1\n",
       "Name: title, Length: 99, dtype: int64"
      ]
     },
     "execution_count": 335,
     "metadata": {},
     "output_type": "execute_result"
    }
   ],
   "source": [
    "# Check for unique values\n",
    "bb_08_ft['title'].value_counts()"
   ]
  },
  {
   "cell_type": "markdown",
   "metadata": {},
   "source": [
    "### 2008 SongFacts audio features"
   ]
  },
  {
   "cell_type": "code",
   "execution_count": 209,
   "metadata": {},
   "outputs": [],
   "source": [
    "sf_08_ft = pd.read_csv('./data/2008_songfacts_features')"
   ]
  },
  {
   "cell_type": "code",
   "execution_count": 210,
   "metadata": {},
   "outputs": [
    {
     "data": {
      "text/plain": [
       "(1548, 19)"
      ]
     },
     "execution_count": 210,
     "metadata": {},
     "output_type": "execute_result"
    }
   ],
   "source": [
    "# Check initial shape of sf_08_ft dataframe\n",
    "sf_08_ft.shape"
   ]
  },
  {
   "cell_type": "code",
   "execution_count": 218,
   "metadata": {},
   "outputs": [],
   "source": [
    "# Drop duplicates\n",
    "sf_08_ft.drop_duplicates(inplace=True)"
   ]
  },
  {
   "cell_type": "code",
   "execution_count": 219,
   "metadata": {},
   "outputs": [
    {
     "data": {
      "text/plain": [
       "(1478, 19)"
      ]
     },
     "execution_count": 219,
     "metadata": {},
     "output_type": "execute_result"
    }
   ],
   "source": [
    "sf_08_ft.shape"
   ]
  },
  {
   "cell_type": "code",
   "execution_count": 220,
   "metadata": {},
   "outputs": [],
   "source": [
    "column_contents3 = []                                      # Instantiate empty list\n",
    "\n",
    "for ID in sf_08_ft['id']:                                 # For loop to iterate through IDs in ID column\n",
    "    try:\n",
    "        temp = spotify.track(ID)['name']                  # Spotify API call for track name\n",
    "    except:\n",
    "        temp = ['Error']                                  # Except statement, print ['Error'] when errors occur\n",
    "    column_contents3.append(temp)                          # Append track name to empty list\n",
    "    time.sleep(2)                                         # Wait 2 seconds before rerunning\n",
    "    \n",
    "songs3 = pd.DataFrame(column_contents3, columns=['title'])"
   ]
  },
  {
   "cell_type": "code",
   "execution_count": 336,
   "metadata": {},
   "outputs": [
    {
     "data": {
      "text/plain": [
       "Error    1478\n",
       "Name: title, dtype: int64"
      ]
     },
     "execution_count": 336,
     "metadata": {},
     "output_type": "execute_result"
    }
   ],
   "source": [
    "songs3['title'].value_counts()"
   ]
  },
  {
   "cell_type": "code",
   "execution_count": 224,
   "metadata": {},
   "outputs": [],
   "source": [
    "sf_08_ft = revamp_basic(sf_08_ft, songs3)"
   ]
  },
  {
   "cell_type": "code",
   "execution_count": 270,
   "metadata": {},
   "outputs": [],
   "source": [
    "'''\n",
    "Creating hit column which will be y variable in modeling\n",
    "hit = 1 = hit song\n",
    "hit = 0 = non-hit song\n",
    "'''\n",
    "sf_08_ft['hit'] = [0 for i in range(sf_08_ft.shape[0])]"
   ]
  },
  {
   "cell_type": "code",
   "execution_count": 227,
   "metadata": {},
   "outputs": [],
   "source": [
    "sf_08_ft.drop_duplicates(inplace=True)"
   ]
  },
  {
   "cell_type": "code",
   "execution_count": 271,
   "metadata": {},
   "outputs": [
    {
     "data": {
      "text/plain": [
       "(1478, 15)"
      ]
     },
     "execution_count": 271,
     "metadata": {},
     "output_type": "execute_result"
    }
   ],
   "source": [
    "sf_08_ft.shape"
   ]
  },
  {
   "cell_type": "code",
   "execution_count": 272,
   "metadata": {},
   "outputs": [],
   "source": [
    "sf_08_ft.to_csv('./data/REVAMPED_2008_songfacts_features')"
   ]
  },
  {
   "cell_type": "markdown",
   "metadata": {},
   "source": [
    "### 2008 master audio features"
   ]
  },
  {
   "cell_type": "code",
   "execution_count": 273,
   "metadata": {},
   "outputs": [],
   "source": [
    "# Run function on 2008 billboard and songfacts audio features\n",
    "master_08_ft = process_master(bb_08_ft, sf_08_ft)"
   ]
  },
  {
   "cell_type": "code",
   "execution_count": 274,
   "metadata": {},
   "outputs": [
    {
     "data": {
      "text/plain": [
       "(1577, 15)"
      ]
     },
     "execution_count": 274,
     "metadata": {},
     "output_type": "execute_result"
    }
   ],
   "source": [
    "master_08_ft.shape"
   ]
  },
  {
   "cell_type": "code",
   "execution_count": 309,
   "metadata": {},
   "outputs": [
    {
     "data": {
      "text/html": [
       "<div>\n",
       "<style scoped>\n",
       "    .dataframe tbody tr th:only-of-type {\n",
       "        vertical-align: middle;\n",
       "    }\n",
       "\n",
       "    .dataframe tbody tr th {\n",
       "        vertical-align: top;\n",
       "    }\n",
       "\n",
       "    .dataframe thead th {\n",
       "        text-align: right;\n",
       "    }\n",
       "</style>\n",
       "<table border=\"1\" class=\"dataframe\">\n",
       "  <thead>\n",
       "    <tr style=\"text-align: right;\">\n",
       "      <th></th>\n",
       "      <th>title</th>\n",
       "      <th>danceability</th>\n",
       "      <th>energy</th>\n",
       "      <th>loudness</th>\n",
       "      <th>mode</th>\n",
       "      <th>speechiness</th>\n",
       "      <th>acousticness</th>\n",
       "      <th>instrumentalness</th>\n",
       "      <th>liveness</th>\n",
       "      <th>valence</th>\n",
       "      <th>tempo</th>\n",
       "      <th>key</th>\n",
       "      <th>time_signature</th>\n",
       "      <th>duration_sec</th>\n",
       "      <th>hit</th>\n",
       "    </tr>\n",
       "  </thead>\n",
       "  <tbody>\n",
       "    <tr>\n",
       "      <th>0</th>\n",
       "      <td>All Time Low</td>\n",
       "      <td>0.584</td>\n",
       "      <td>0.569</td>\n",
       "      <td>-4.259</td>\n",
       "      <td>1.0</td>\n",
       "      <td>0.1660</td>\n",
       "      <td>0.0508</td>\n",
       "      <td>0.000000</td>\n",
       "      <td>0.0924</td>\n",
       "      <td>0.501</td>\n",
       "      <td>89.779</td>\n",
       "      <td>0.0</td>\n",
       "      <td>4.0</td>\n",
       "      <td>217.603</td>\n",
       "      <td>1</td>\n",
       "    </tr>\n",
       "    <tr>\n",
       "      <th>1</th>\n",
       "      <td>Bleeding Love</td>\n",
       "      <td>0.638</td>\n",
       "      <td>0.656</td>\n",
       "      <td>-5.886</td>\n",
       "      <td>1.0</td>\n",
       "      <td>0.0357</td>\n",
       "      <td>0.1880</td>\n",
       "      <td>0.000000</td>\n",
       "      <td>0.1460</td>\n",
       "      <td>0.225</td>\n",
       "      <td>104.036</td>\n",
       "      <td>5.0</td>\n",
       "      <td>4.0</td>\n",
       "      <td>262.467</td>\n",
       "      <td>1</td>\n",
       "    </tr>\n",
       "    <tr>\n",
       "      <th>2</th>\n",
       "      <td>No One Compares To You</td>\n",
       "      <td>0.703</td>\n",
       "      <td>0.748</td>\n",
       "      <td>-6.047</td>\n",
       "      <td>1.0</td>\n",
       "      <td>0.0435</td>\n",
       "      <td>0.1230</td>\n",
       "      <td>0.000000</td>\n",
       "      <td>0.0642</td>\n",
       "      <td>0.625</td>\n",
       "      <td>111.943</td>\n",
       "      <td>1.0</td>\n",
       "      <td>4.0</td>\n",
       "      <td>184.080</td>\n",
       "      <td>1</td>\n",
       "    </tr>\n",
       "    <tr>\n",
       "      <th>3</th>\n",
       "      <td>Lollipop</td>\n",
       "      <td>0.828</td>\n",
       "      <td>0.433</td>\n",
       "      <td>-9.716</td>\n",
       "      <td>1.0</td>\n",
       "      <td>0.1990</td>\n",
       "      <td>0.0656</td>\n",
       "      <td>0.000876</td>\n",
       "      <td>0.1220</td>\n",
       "      <td>0.440</td>\n",
       "      <td>148.073</td>\n",
       "      <td>0.0</td>\n",
       "      <td>4.0</td>\n",
       "      <td>299.333</td>\n",
       "      <td>1</td>\n",
       "    </tr>\n",
       "    <tr>\n",
       "      <th>4</th>\n",
       "      <td>Apologize</td>\n",
       "      <td>0.591</td>\n",
       "      <td>0.718</td>\n",
       "      <td>-6.025</td>\n",
       "      <td>1.0</td>\n",
       "      <td>0.0368</td>\n",
       "      <td>0.3480</td>\n",
       "      <td>0.000118</td>\n",
       "      <td>0.1070</td>\n",
       "      <td>0.468</td>\n",
       "      <td>117.995</td>\n",
       "      <td>8.0</td>\n",
       "      <td>4.0</td>\n",
       "      <td>208.107</td>\n",
       "      <td>1</td>\n",
       "    </tr>\n",
       "  </tbody>\n",
       "</table>\n",
       "</div>"
      ],
      "text/plain": [
       "                    title  danceability  energy  loudness  mode  speechiness  \\\n",
       "0            All Time Low         0.584   0.569    -4.259   1.0       0.1660   \n",
       "1           Bleeding Love         0.638   0.656    -5.886   1.0       0.0357   \n",
       "2  No One Compares To You         0.703   0.748    -6.047   1.0       0.0435   \n",
       "3                Lollipop         0.828   0.433    -9.716   1.0       0.1990   \n",
       "4               Apologize         0.591   0.718    -6.025   1.0       0.0368   \n",
       "\n",
       "   acousticness  instrumentalness  liveness  valence    tempo  key  \\\n",
       "0        0.0508          0.000000    0.0924    0.501   89.779  0.0   \n",
       "1        0.1880          0.000000    0.1460    0.225  104.036  5.0   \n",
       "2        0.1230          0.000000    0.0642    0.625  111.943  1.0   \n",
       "3        0.0656          0.000876    0.1220    0.440  148.073  0.0   \n",
       "4        0.3480          0.000118    0.1070    0.468  117.995  8.0   \n",
       "\n",
       "   time_signature  duration_sec  hit  \n",
       "0             4.0       217.603    1  \n",
       "1             4.0       262.467    1  \n",
       "2             4.0       184.080    1  \n",
       "3             4.0       299.333    1  \n",
       "4             4.0       208.107    1  "
      ]
     },
     "execution_count": 309,
     "metadata": {},
     "output_type": "execute_result"
    }
   ],
   "source": [
    "master_08_ft.head()"
   ]
  },
  {
   "cell_type": "code",
   "execution_count": 317,
   "metadata": {},
   "outputs": [],
   "source": [
    "# Create master csv file for EDA and modeling\n",
    "master_08_ft.to_csv('./data/MASTER_2008_audio_features')"
   ]
  },
  {
   "cell_type": "markdown",
   "metadata": {},
   "source": [
    "### Clean, Process and Merge Track Lyrics DataFrames"
   ]
  },
  {
   "cell_type": "code",
   "execution_count": 290,
   "metadata": {},
   "outputs": [],
   "source": [
    "# Create a function to process and clean lyrics dataframe\n",
    "def process_master_lyr(df): \n",
    "    \n",
    "    # Instantiate tokenizer with specific regular expression\n",
    "    tokenizer = RegexpTokenizer(r'\\w+')\n",
    "    # Instantiate stemmer\n",
    "    stemmer = PorterStemmer()\n",
    "\n",
    "    # List to append stemmed words\n",
    "    stemmed = []        \n",
    "    # List to append tokenized words\n",
    "    tokenized = []\n",
    "    \n",
    "    # Create a for loop to iterate through all the rows in specific column\n",
    "    for i in df['lyrics']:                          \n",
    "        \n",
    "        # Converting lyrics text to tokens\n",
    "        tokens = tokenizer.tokenize(i.lower()) \n",
    "        tokenized.append(tokens)\n",
    "\n",
    "        # Stemming all tokens\n",
    "        stems = [stemmer.stem(token) for token in tokens]  \n",
    "        # Appending stems to stemmed list\n",
    "        stemmed.append(stems)                                         \n",
    "    \n",
    "    # Creating new dataframe columns\n",
    "    df['tokenized_lyrics'] = [' '.join(i) for i in tokenized]    \n",
    "    df['stemmed_lyrics'] = [' '.join(i) for i in stemmed]\n",
    "    \n",
    "    # Drop unnecessary column\n",
    "    df.drop('Unnamed: 0', axis=1, inplace=True)\n",
    "    # Drop duplicates\n",
    "    df.drop_duplicates(inplace=True)"
   ]
  },
  {
   "cell_type": "markdown",
   "metadata": {},
   "source": [
    "### 2018 track lyrics"
   ]
  },
  {
   "cell_type": "code",
   "execution_count": 42,
   "metadata": {},
   "outputs": [],
   "source": [
    "bb_18_lyr = pd.read_csv('./data/2018_billboard_lyrics')"
   ]
  },
  {
   "cell_type": "code",
   "execution_count": 280,
   "metadata": {},
   "outputs": [],
   "source": [
    "'''\n",
    "Creating hit column which will be y variable in modeling\n",
    "hit = 1 = hit song\n",
    "hit = 0 = non-hit song\n",
    "'''\n",
    "bb_18_lyr['hit'] = [1 for i in range(bb_18_lyr.shape[0])]"
   ]
  },
  {
   "cell_type": "code",
   "execution_count": 43,
   "metadata": {},
   "outputs": [],
   "source": [
    "sf_18_lyr = pd.read_csv('./data/2018_songfacts_lyrics')"
   ]
  },
  {
   "cell_type": "code",
   "execution_count": 281,
   "metadata": {},
   "outputs": [],
   "source": [
    "'''\n",
    "Creating hit column which will be y variable in modeling\n",
    "hit = 1 = hit song\n",
    "hit = 0 = non-hit song\n",
    "'''\n",
    "sf_18_lyr['hit'] = [0 for i in range(sf_18_lyr.shape[0])]"
   ]
  },
  {
   "cell_type": "code",
   "execution_count": 282,
   "metadata": {},
   "outputs": [],
   "source": [
    "# Concatenate dataframes\n",
    "master_18_lyr = pd.concat([bb_18_lyr, sf_18_lyr])"
   ]
  },
  {
   "cell_type": "code",
   "execution_count": 286,
   "metadata": {},
   "outputs": [],
   "source": [
    "# Run function on 2018 master lyrics dataframe\n",
    "process_master_lyr(master_18_lyr)"
   ]
  },
  {
   "cell_type": "code",
   "execution_count": 287,
   "metadata": {},
   "outputs": [
    {
     "data": {
      "text/html": [
       "<div>\n",
       "<style scoped>\n",
       "    .dataframe tbody tr th:only-of-type {\n",
       "        vertical-align: middle;\n",
       "    }\n",
       "\n",
       "    .dataframe tbody tr th {\n",
       "        vertical-align: top;\n",
       "    }\n",
       "\n",
       "    .dataframe thead th {\n",
       "        text-align: right;\n",
       "    }\n",
       "</style>\n",
       "<table border=\"1\" class=\"dataframe\">\n",
       "  <thead>\n",
       "    <tr style=\"text-align: right;\">\n",
       "      <th></th>\n",
       "      <th>lyrics</th>\n",
       "      <th>hit</th>\n",
       "      <th>tokenized_lyrics</th>\n",
       "      <th>stemmed_lyrics</th>\n",
       "    </tr>\n",
       "  </thead>\n",
       "  <tbody>\n",
       "    <tr>\n",
       "      <th>0</th>\n",
       "      <td>Yeah they wishin and wishin and wishin and wis...</td>\n",
       "      <td>1</td>\n",
       "      <td>yeah they wishin and wishin and wishin and wis...</td>\n",
       "      <td>yeah they wishin and wishin and wishin and wis...</td>\n",
       "    </tr>\n",
       "    <tr>\n",
       "      <th>1</th>\n",
       "      <td>I found a love for me Oh darling just dive rig...</td>\n",
       "      <td>1</td>\n",
       "      <td>i found a love for me oh darling just dive rig...</td>\n",
       "      <td>i found a love for me oh darl just dive right ...</td>\n",
       "    </tr>\n",
       "    <tr>\n",
       "      <th>2</th>\n",
       "      <td>Baby lay on back and relax Kick your pretty fe...</td>\n",
       "      <td>1</td>\n",
       "      <td>baby lay on back and relax kick your pretty fe...</td>\n",
       "      <td>babi lay on back and relax kick your pretti fe...</td>\n",
       "    </tr>\n",
       "    <tr>\n",
       "      <th>3</th>\n",
       "      <td>Hey  Havana ooh na na (ayy) Half of my heart i...</td>\n",
       "      <td>1</td>\n",
       "      <td>hey havana ooh na na ayy half of my heart is i...</td>\n",
       "      <td>hey havana ooh na na ayi half of my heart is i...</td>\n",
       "    </tr>\n",
       "    <tr>\n",
       "      <th>4</th>\n",
       "      <td>(Award to the Artist and to the Producer(s) Re...</td>\n",
       "      <td>1</td>\n",
       "      <td>award to the artist and to the producer s reco...</td>\n",
       "      <td>award to the artist and to the produc s record...</td>\n",
       "    </tr>\n",
       "  </tbody>\n",
       "</table>\n",
       "</div>"
      ],
      "text/plain": [
       "                                              lyrics  hit  \\\n",
       "0  Yeah they wishin and wishin and wishin and wis...    1   \n",
       "1  I found a love for me Oh darling just dive rig...    1   \n",
       "2  Baby lay on back and relax Kick your pretty fe...    1   \n",
       "3  Hey  Havana ooh na na (ayy) Half of my heart i...    1   \n",
       "4  (Award to the Artist and to the Producer(s) Re...    1   \n",
       "\n",
       "                                    tokenized_lyrics  \\\n",
       "0  yeah they wishin and wishin and wishin and wis...   \n",
       "1  i found a love for me oh darling just dive rig...   \n",
       "2  baby lay on back and relax kick your pretty fe...   \n",
       "3  hey havana ooh na na ayy half of my heart is i...   \n",
       "4  award to the artist and to the producer s reco...   \n",
       "\n",
       "                                      stemmed_lyrics  \n",
       "0  yeah they wishin and wishin and wishin and wis...  \n",
       "1  i found a love for me oh darl just dive right ...  \n",
       "2  babi lay on back and relax kick your pretti fe...  \n",
       "3  hey havana ooh na na ayi half of my heart is i...  \n",
       "4  award to the artist and to the produc s record...  "
      ]
     },
     "execution_count": 287,
     "metadata": {},
     "output_type": "execute_result"
    }
   ],
   "source": [
    "master_18_lyr.head()"
   ]
  },
  {
   "cell_type": "code",
   "execution_count": 288,
   "metadata": {},
   "outputs": [
    {
     "data": {
      "text/plain": [
       "(1471, 4)"
      ]
     },
     "execution_count": 288,
     "metadata": {},
     "output_type": "execute_result"
    }
   ],
   "source": [
    "master_18_lyr.shape"
   ]
  },
  {
   "cell_type": "code",
   "execution_count": 289,
   "metadata": {},
   "outputs": [],
   "source": [
    "# Create master csv file for EDA and modeling\n",
    "master_18_lyr.to_csv('./data/MASTER_2018_lyrics')"
   ]
  },
  {
   "cell_type": "markdown",
   "metadata": {},
   "source": [
    "### 2013 track lyrics"
   ]
  },
  {
   "cell_type": "code",
   "execution_count": 49,
   "metadata": {},
   "outputs": [],
   "source": [
    "bb_13_lyr = pd.read_csv('./data/2013_billboard_lyrics')"
   ]
  },
  {
   "cell_type": "code",
   "execution_count": 291,
   "metadata": {},
   "outputs": [],
   "source": [
    "'''\n",
    "Creating hit column which will be y variable in modeling\n",
    "hit = 1 = hit song\n",
    "hit = 0 = non-hit song\n",
    "'''\n",
    "bb_13_lyr['hit'] = [1 for i in range(bb_13_lyr.shape[0])]"
   ]
  },
  {
   "cell_type": "code",
   "execution_count": 50,
   "metadata": {},
   "outputs": [],
   "source": [
    "sf_13_lyr = pd.read_csv('./data/2013_songfacts_lyrics')"
   ]
  },
  {
   "cell_type": "code",
   "execution_count": 292,
   "metadata": {},
   "outputs": [],
   "source": [
    "'''\n",
    "Creating hit column which will be y variable in modeling\n",
    "hit = 1 = hit song\n",
    "hit = 0 = non-hit song\n",
    "'''\n",
    "sf_13_lyr['hit'] = [0 for i in range(sf_13_lyr.shape[0])]"
   ]
  },
  {
   "cell_type": "code",
   "execution_count": 293,
   "metadata": {},
   "outputs": [],
   "source": [
    "# Concatenate dataframes\n",
    "master_13_lyr = pd.concat([bb_13_lyr, sf_13_lyr])"
   ]
  },
  {
   "cell_type": "code",
   "execution_count": 294,
   "metadata": {},
   "outputs": [],
   "source": [
    "# Run function on 2013 master lyrics dataframe\n",
    "process_master_lyr(master_13_lyr)"
   ]
  },
  {
   "cell_type": "code",
   "execution_count": 295,
   "metadata": {},
   "outputs": [
    {
     "data": {
      "text/html": [
       "<div>\n",
       "<style scoped>\n",
       "    .dataframe tbody tr th:only-of-type {\n",
       "        vertical-align: middle;\n",
       "    }\n",
       "\n",
       "    .dataframe tbody tr th {\n",
       "        vertical-align: top;\n",
       "    }\n",
       "\n",
       "    .dataframe thead th {\n",
       "        text-align: right;\n",
       "    }\n",
       "</style>\n",
       "<table border=\"1\" class=\"dataframe\">\n",
       "  <thead>\n",
       "    <tr style=\"text-align: right;\">\n",
       "      <th></th>\n",
       "      <th>lyrics</th>\n",
       "      <th>hit</th>\n",
       "      <th>tokenized_lyrics</th>\n",
       "      <th>stemmed_lyrics</th>\n",
       "    </tr>\n",
       "  </thead>\n",
       "  <tbody>\n",
       "    <tr>\n",
       "      <th>0</th>\n",
       "      <td>Hey Macklemore can we go thrift shopping What ...</td>\n",
       "      <td>1</td>\n",
       "      <td>hey macklemore can we go thrift shopping what ...</td>\n",
       "      <td>hey macklemor can we go thrift shop what what ...</td>\n",
       "    </tr>\n",
       "    <tr>\n",
       "      <th>1</th>\n",
       "      <td>Everybody get up WOO! Hey hey hey Hey hey hey ...</td>\n",
       "      <td>1</td>\n",
       "      <td>everybody get up woo hey hey hey hey hey hey h...</td>\n",
       "      <td>everybodi get up woo hey hey hey hey hey hey h...</td>\n",
       "    </tr>\n",
       "    <tr>\n",
       "      <th>2</th>\n",
       "      <td>Whoah oh Whoah oh Whoah oh Whoah  Im waking up...</td>\n",
       "      <td>1</td>\n",
       "      <td>whoah oh whoah oh whoah oh whoah im waking up ...</td>\n",
       "      <td>whoah oh whoah oh whoah oh whoah im wake up to...</td>\n",
       "    </tr>\n",
       "    <tr>\n",
       "      <th>3</th>\n",
       "      <td>Con los terroristas  tas  tas  tas  tas  tas  ...</td>\n",
       "      <td>1</td>\n",
       "      <td>con los terroristas tas tas tas tas tas tas ta...</td>\n",
       "      <td>con lo terrorista ta ta ta ta ta ta ta ta ta t...</td>\n",
       "    </tr>\n",
       "    <tr>\n",
       "      <th>4</th>\n",
       "      <td>Arent you somethin to admire Cause your shine ...</td>\n",
       "      <td>1</td>\n",
       "      <td>arent you somethin to admire cause your shine ...</td>\n",
       "      <td>arent you somethin to admir caus your shine is...</td>\n",
       "    </tr>\n",
       "  </tbody>\n",
       "</table>\n",
       "</div>"
      ],
      "text/plain": [
       "                                              lyrics  hit  \\\n",
       "0  Hey Macklemore can we go thrift shopping What ...    1   \n",
       "1  Everybody get up WOO! Hey hey hey Hey hey hey ...    1   \n",
       "2  Whoah oh Whoah oh Whoah oh Whoah  Im waking up...    1   \n",
       "3  Con los terroristas  tas  tas  tas  tas  tas  ...    1   \n",
       "4  Arent you somethin to admire Cause your shine ...    1   \n",
       "\n",
       "                                    tokenized_lyrics  \\\n",
       "0  hey macklemore can we go thrift shopping what ...   \n",
       "1  everybody get up woo hey hey hey hey hey hey h...   \n",
       "2  whoah oh whoah oh whoah oh whoah im waking up ...   \n",
       "3  con los terroristas tas tas tas tas tas tas ta...   \n",
       "4  arent you somethin to admire cause your shine ...   \n",
       "\n",
       "                                      stemmed_lyrics  \n",
       "0  hey macklemor can we go thrift shop what what ...  \n",
       "1  everybodi get up woo hey hey hey hey hey hey h...  \n",
       "2  whoah oh whoah oh whoah oh whoah im wake up to...  \n",
       "3  con lo terrorista ta ta ta ta ta ta ta ta ta t...  \n",
       "4  arent you somethin to admir caus your shine is...  "
      ]
     },
     "execution_count": 295,
     "metadata": {},
     "output_type": "execute_result"
    }
   ],
   "source": [
    "master_13_lyr.head()"
   ]
  },
  {
   "cell_type": "code",
   "execution_count": 296,
   "metadata": {},
   "outputs": [
    {
     "data": {
      "text/plain": [
       "(2791, 4)"
      ]
     },
     "execution_count": 296,
     "metadata": {},
     "output_type": "execute_result"
    }
   ],
   "source": [
    "master_13_lyr.shape"
   ]
  },
  {
   "cell_type": "code",
   "execution_count": 297,
   "metadata": {},
   "outputs": [],
   "source": [
    "# Create master csv file for EDA and modeling\n",
    "master_13_lyr.to_csv('./data/MASTER_2013_lyrics')"
   ]
  },
  {
   "cell_type": "markdown",
   "metadata": {},
   "source": [
    "### 2008 track lyrics"
   ]
  },
  {
   "cell_type": "code",
   "execution_count": 56,
   "metadata": {},
   "outputs": [],
   "source": [
    "bb_08_lyr = pd.read_csv('./data/2008_billboard_lyrics')"
   ]
  },
  {
   "cell_type": "code",
   "execution_count": 298,
   "metadata": {},
   "outputs": [],
   "source": [
    "'''\n",
    "Creating hit column which will be y variable in modeling\n",
    "hit = 1 = hit song\n",
    "hit = 0 = non-hit song\n",
    "'''\n",
    "bb_08_lyr['hit'] = [1 for i in range(bb_08_lyr.shape[0])]"
   ]
  },
  {
   "cell_type": "code",
   "execution_count": 57,
   "metadata": {},
   "outputs": [],
   "source": [
    "sf_08_lyr = pd.read_csv('./data/2008_songfacts_lyrics')"
   ]
  },
  {
   "cell_type": "code",
   "execution_count": 299,
   "metadata": {},
   "outputs": [],
   "source": [
    "'''\n",
    "Creating hit column which will be y variable in modeling\n",
    "hit = 1 = hit song\n",
    "hit = 0 = non-hit song\n",
    "'''\n",
    "sf_08_lyr['hit'] = [0 for i in range(sf_08_lyr.shape[0])]"
   ]
  },
  {
   "cell_type": "code",
   "execution_count": 300,
   "metadata": {},
   "outputs": [],
   "source": [
    "# Concatenate dataframes\n",
    "master_08_lyr = pd.concat([bb_08_lyr, sf_08_lyr])"
   ]
  },
  {
   "cell_type": "code",
   "execution_count": 301,
   "metadata": {},
   "outputs": [],
   "source": [
    "# Run function on 2008 master lyrics list\n",
    "process_master_lyr(master_08_lyr)"
   ]
  },
  {
   "cell_type": "code",
   "execution_count": 302,
   "metadata": {},
   "outputs": [
    {
     "data": {
      "text/html": [
       "<div>\n",
       "<style scoped>\n",
       "    .dataframe tbody tr th:only-of-type {\n",
       "        vertical-align: middle;\n",
       "    }\n",
       "\n",
       "    .dataframe tbody tr th {\n",
       "        vertical-align: top;\n",
       "    }\n",
       "\n",
       "    .dataframe thead th {\n",
       "        text-align: right;\n",
       "    }\n",
       "</style>\n",
       "<table border=\"1\" class=\"dataframe\">\n",
       "  <thead>\n",
       "    <tr style=\"text-align: right;\">\n",
       "      <th></th>\n",
       "      <th>lyrics</th>\n",
       "      <th>hit</th>\n",
       "      <th>tokenized_lyrics</th>\n",
       "      <th>stemmed_lyrics</th>\n",
       "    </tr>\n",
       "  </thead>\n",
       "  <tbody>\n",
       "    <tr>\n",
       "      <th>0</th>\n",
       "      <td>Hmm mmm mmm mmm mmm mmm Let me talk to em let ...</td>\n",
       "      <td>1</td>\n",
       "      <td>hmm mmm mmm mmm mmm mmm let me talk to em let ...</td>\n",
       "      <td>hmm mmm mmm mmm mmm mmm let me talk to em let ...</td>\n",
       "    </tr>\n",
       "    <tr>\n",
       "      <th>1</th>\n",
       "      <td>Closed off from love I didnt need the pain Onc...</td>\n",
       "      <td>1</td>\n",
       "      <td>closed off from love i didnt need the pain onc...</td>\n",
       "      <td>close off from love i didnt need the pain onc ...</td>\n",
       "    </tr>\n",
       "    <tr>\n",
       "      <th>2</th>\n",
       "      <td>I just want you close Where you can stay forev...</td>\n",
       "      <td>1</td>\n",
       "      <td>i just want you close where you can stay forev...</td>\n",
       "      <td>i just want you close where you can stay forev...</td>\n",
       "    </tr>\n",
       "    <tr>\n",
       "      <th>3</th>\n",
       "      <td>Oww! Uh huh No homo Young Mula baby I said hes...</td>\n",
       "      <td>1</td>\n",
       "      <td>oww uh huh no homo young mula baby i said hes ...</td>\n",
       "      <td>oww uh huh no homo young mula babi i said he s...</td>\n",
       "    </tr>\n",
       "    <tr>\n",
       "      <th>4</th>\n",
       "      <td>Im holding on your rope got me ten feet off th...</td>\n",
       "      <td>1</td>\n",
       "      <td>im holding on your rope got me ten feet off th...</td>\n",
       "      <td>im hold on your rope got me ten feet off the g...</td>\n",
       "    </tr>\n",
       "  </tbody>\n",
       "</table>\n",
       "</div>"
      ],
      "text/plain": [
       "                                              lyrics  hit  \\\n",
       "0  Hmm mmm mmm mmm mmm mmm Let me talk to em let ...    1   \n",
       "1  Closed off from love I didnt need the pain Onc...    1   \n",
       "2  I just want you close Where you can stay forev...    1   \n",
       "3  Oww! Uh huh No homo Young Mula baby I said hes...    1   \n",
       "4  Im holding on your rope got me ten feet off th...    1   \n",
       "\n",
       "                                    tokenized_lyrics  \\\n",
       "0  hmm mmm mmm mmm mmm mmm let me talk to em let ...   \n",
       "1  closed off from love i didnt need the pain onc...   \n",
       "2  i just want you close where you can stay forev...   \n",
       "3  oww uh huh no homo young mula baby i said hes ...   \n",
       "4  im holding on your rope got me ten feet off th...   \n",
       "\n",
       "                                      stemmed_lyrics  \n",
       "0  hmm mmm mmm mmm mmm mmm let me talk to em let ...  \n",
       "1  close off from love i didnt need the pain onc ...  \n",
       "2  i just want you close where you can stay forev...  \n",
       "3  oww uh huh no homo young mula babi i said he s...  \n",
       "4  im hold on your rope got me ten feet off the g...  "
      ]
     },
     "execution_count": 302,
     "metadata": {},
     "output_type": "execute_result"
    }
   ],
   "source": [
    "master_08_lyr.head()"
   ]
  },
  {
   "cell_type": "code",
   "execution_count": 303,
   "metadata": {},
   "outputs": [
    {
     "data": {
      "text/plain": [
       "(2033, 4)"
      ]
     },
     "execution_count": 303,
     "metadata": {},
     "output_type": "execute_result"
    }
   ],
   "source": [
    "master_08_lyr.shape"
   ]
  },
  {
   "cell_type": "code",
   "execution_count": 304,
   "metadata": {},
   "outputs": [],
   "source": [
    "# Create master csv file for EDA and modeling\n",
    "master_08_lyr.to_csv('./data/MASTER_2008_lyrics')"
   ]
  },
  {
   "cell_type": "code",
   "execution_count": null,
   "metadata": {},
   "outputs": [],
   "source": []
  }
 ],
 "metadata": {
  "kernelspec": {
   "display_name": "Python 3",
   "language": "python",
   "name": "python3"
  },
  "language_info": {
   "codemirror_mode": {
    "name": "ipython",
    "version": 3
   },
   "file_extension": ".py",
   "mimetype": "text/x-python",
   "name": "python",
   "nbconvert_exporter": "python",
   "pygments_lexer": "ipython3",
   "version": "3.6.8"
  }
 },
 "nbformat": 4,
 "nbformat_minor": 2
}
