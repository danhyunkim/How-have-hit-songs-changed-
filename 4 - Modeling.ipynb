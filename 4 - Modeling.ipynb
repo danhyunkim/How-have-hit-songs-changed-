{
 "cells": [
  {
   "cell_type": "code",
   "execution_count": 1,
   "metadata": {},
   "outputs": [
    {
     "name": "stderr",
     "output_type": "stream",
     "text": [
      "Using TensorFlow backend.\n"
     ]
    }
   ],
   "source": [
    "# Standard packages\n",
    "import pandas as pd\n",
    "import matplotlib.pyplot as plt\n",
    "%matplotlib inline\n",
    "\n",
    "# Standard preprocessing and modeling imports\n",
    "from sklearn.preprocessing import StandardScaler\n",
    "from sklearn.model_selection import train_test_split\n",
    "from sklearn.feature_extraction.text import CountVectorizer, TfidfVectorizer\n",
    "from sklearn.linear_model import LogisticRegression\n",
    "from sklearn.cluster import KMeans, DBSCAN\n",
    "from sklearn.model_selection import GridSearchCV\n",
    "from sklearn.metrics import recall_score, confusion_matrix\n",
    "from sklearn.utils import resample\n",
    "from imblearn.over_sampling import SMOTE\n",
    "from xgboost import XGBClassifier\n",
    "\n",
    "# Neural Network imports\n",
    "from keras.models import Sequential\n",
    "from keras.layers import Dense, Dropout\n",
    "from keras import regularizers\n",
    "from keras.callbacks import EarlyStopping\n",
    "\n",
    "# Disable warning messages\n",
    "import warnings\n",
    "warnings.filterwarnings(\"ignore\")"
   ]
  },
  {
   "cell_type": "markdown",
   "metadata": {},
   "source": [
    "### Clean dataframe for modeling"
   ]
  },
  {
   "cell_type": "code",
   "execution_count": 2,
   "metadata": {},
   "outputs": [],
   "source": [
    "# Read in master csv\n",
    "master = pd.read_csv('./data/all_master_files')\n",
    "# Drop Unnamed:0 column\n",
    "master.drop('Unnamed: 0', axis=1, inplace=True)"
   ]
  },
  {
   "cell_type": "code",
   "execution_count": 3,
   "metadata": {},
   "outputs": [
    {
     "data": {
      "text/plain": [
       "(4427, 15)"
      ]
     },
     "execution_count": 3,
     "metadata": {},
     "output_type": "execute_result"
    }
   ],
   "source": [
    "master.shape"
   ]
  },
  {
   "cell_type": "code",
   "execution_count": 4,
   "metadata": {},
   "outputs": [
    {
     "data": {
      "text/html": [
       "<div>\n",
       "<style scoped>\n",
       "    .dataframe tbody tr th:only-of-type {\n",
       "        vertical-align: middle;\n",
       "    }\n",
       "\n",
       "    .dataframe tbody tr th {\n",
       "        vertical-align: top;\n",
       "    }\n",
       "\n",
       "    .dataframe thead th {\n",
       "        text-align: right;\n",
       "    }\n",
       "</style>\n",
       "<table border=\"1\" class=\"dataframe\">\n",
       "  <thead>\n",
       "    <tr style=\"text-align: right;\">\n",
       "      <th></th>\n",
       "      <th>title</th>\n",
       "      <th>danceability</th>\n",
       "      <th>energy</th>\n",
       "      <th>loudness</th>\n",
       "      <th>mode</th>\n",
       "      <th>speechiness</th>\n",
       "      <th>acousticness</th>\n",
       "      <th>instrumentalness</th>\n",
       "      <th>liveness</th>\n",
       "      <th>valence</th>\n",
       "      <th>tempo</th>\n",
       "      <th>key</th>\n",
       "      <th>time_signature</th>\n",
       "      <th>duration_sec</th>\n",
       "      <th>hit</th>\n",
       "    </tr>\n",
       "  </thead>\n",
       "  <tbody>\n",
       "    <tr>\n",
       "      <th>0</th>\n",
       "      <td>All Time Low</td>\n",
       "      <td>0.584</td>\n",
       "      <td>0.569</td>\n",
       "      <td>-4.259</td>\n",
       "      <td>1.0</td>\n",
       "      <td>0.1660</td>\n",
       "      <td>0.0508</td>\n",
       "      <td>0.000000</td>\n",
       "      <td>0.0924</td>\n",
       "      <td>0.501</td>\n",
       "      <td>89.779</td>\n",
       "      <td>0.0</td>\n",
       "      <td>4.0</td>\n",
       "      <td>217.603</td>\n",
       "      <td>1</td>\n",
       "    </tr>\n",
       "    <tr>\n",
       "      <th>1</th>\n",
       "      <td>Bleeding Love</td>\n",
       "      <td>0.638</td>\n",
       "      <td>0.656</td>\n",
       "      <td>-5.886</td>\n",
       "      <td>1.0</td>\n",
       "      <td>0.0357</td>\n",
       "      <td>0.1880</td>\n",
       "      <td>0.000000</td>\n",
       "      <td>0.1460</td>\n",
       "      <td>0.225</td>\n",
       "      <td>104.036</td>\n",
       "      <td>5.0</td>\n",
       "      <td>4.0</td>\n",
       "      <td>262.467</td>\n",
       "      <td>1</td>\n",
       "    </tr>\n",
       "    <tr>\n",
       "      <th>2</th>\n",
       "      <td>No One Compares To You</td>\n",
       "      <td>0.703</td>\n",
       "      <td>0.748</td>\n",
       "      <td>-6.047</td>\n",
       "      <td>1.0</td>\n",
       "      <td>0.0435</td>\n",
       "      <td>0.1230</td>\n",
       "      <td>0.000000</td>\n",
       "      <td>0.0642</td>\n",
       "      <td>0.625</td>\n",
       "      <td>111.943</td>\n",
       "      <td>1.0</td>\n",
       "      <td>4.0</td>\n",
       "      <td>184.080</td>\n",
       "      <td>1</td>\n",
       "    </tr>\n",
       "    <tr>\n",
       "      <th>3</th>\n",
       "      <td>Lollipop</td>\n",
       "      <td>0.828</td>\n",
       "      <td>0.433</td>\n",
       "      <td>-9.716</td>\n",
       "      <td>1.0</td>\n",
       "      <td>0.1990</td>\n",
       "      <td>0.0656</td>\n",
       "      <td>0.000876</td>\n",
       "      <td>0.1220</td>\n",
       "      <td>0.440</td>\n",
       "      <td>148.073</td>\n",
       "      <td>0.0</td>\n",
       "      <td>4.0</td>\n",
       "      <td>299.333</td>\n",
       "      <td>1</td>\n",
       "    </tr>\n",
       "    <tr>\n",
       "      <th>4</th>\n",
       "      <td>Apologize</td>\n",
       "      <td>0.591</td>\n",
       "      <td>0.718</td>\n",
       "      <td>-6.025</td>\n",
       "      <td>1.0</td>\n",
       "      <td>0.0368</td>\n",
       "      <td>0.3480</td>\n",
       "      <td>0.000118</td>\n",
       "      <td>0.1070</td>\n",
       "      <td>0.468</td>\n",
       "      <td>117.995</td>\n",
       "      <td>8.0</td>\n",
       "      <td>4.0</td>\n",
       "      <td>208.107</td>\n",
       "      <td>1</td>\n",
       "    </tr>\n",
       "  </tbody>\n",
       "</table>\n",
       "</div>"
      ],
      "text/plain": [
       "                    title  danceability  energy  loudness  mode  speechiness  \\\n",
       "0            All Time Low         0.584   0.569    -4.259   1.0       0.1660   \n",
       "1           Bleeding Love         0.638   0.656    -5.886   1.0       0.0357   \n",
       "2  No One Compares To You         0.703   0.748    -6.047   1.0       0.0435   \n",
       "3                Lollipop         0.828   0.433    -9.716   1.0       0.1990   \n",
       "4               Apologize         0.591   0.718    -6.025   1.0       0.0368   \n",
       "\n",
       "   acousticness  instrumentalness  liveness  valence    tempo  key  \\\n",
       "0        0.0508          0.000000    0.0924    0.501   89.779  0.0   \n",
       "1        0.1880          0.000000    0.1460    0.225  104.036  5.0   \n",
       "2        0.1230          0.000000    0.0642    0.625  111.943  1.0   \n",
       "3        0.0656          0.000876    0.1220    0.440  148.073  0.0   \n",
       "4        0.3480          0.000118    0.1070    0.468  117.995  8.0   \n",
       "\n",
       "   time_signature  duration_sec  hit  \n",
       "0             4.0       217.603    1  \n",
       "1             4.0       262.467    1  \n",
       "2             4.0       184.080    1  \n",
       "3             4.0       299.333    1  \n",
       "4             4.0       208.107    1  "
      ]
     },
     "execution_count": 4,
     "metadata": {},
     "output_type": "execute_result"
    }
   ],
   "source": [
    "master.head()"
   ]
  },
  {
   "cell_type": "code",
   "execution_count": 5,
   "metadata": {},
   "outputs": [
    {
     "data": {
      "text/plain": [
       "(3129, 15)"
      ]
     },
     "execution_count": 5,
     "metadata": {},
     "output_type": "execute_result"
    }
   ],
   "source": [
    "# Drop duplicates\n",
    "master.drop_duplicates(inplace=True)\n",
    "master.shape"
   ]
  },
  {
   "cell_type": "markdown",
   "metadata": {},
   "source": [
    "# Building a neural network to predict hit songs"
   ]
  },
  {
   "cell_type": "markdown",
   "metadata": {},
   "source": [
    "**Train Test Split**"
   ]
  },
  {
   "cell_type": "code",
   "execution_count": 6,
   "metadata": {},
   "outputs": [],
   "source": [
    "# Set X features and y variable to predict\n",
    "features = master.columns.drop(['title','hit'])\n",
    "X = master[features]\n",
    "y = master['hit']"
   ]
  },
  {
   "cell_type": "code",
   "execution_count": 7,
   "metadata": {},
   "outputs": [],
   "source": [
    "# Instantiate train test split\n",
    "X_train, X_test, y_train, y_test = train_test_split(X, y, random_state=42)"
   ]
  },
  {
   "cell_type": "code",
   "execution_count": 8,
   "metadata": {},
   "outputs": [
    {
     "data": {
      "text/plain": [
       "0    0.905081\n",
       "1    0.094919\n",
       "Name: hit, dtype: float64"
      ]
     },
     "execution_count": 8,
     "metadata": {},
     "output_type": "execute_result"
    }
   ],
   "source": [
    "# Baseline score\n",
    "y.value_counts(normalize=True)"
   ]
  },
  {
   "cell_type": "markdown",
   "metadata": {},
   "source": [
    "**Alleviate imbalanced classes**"
   ]
  },
  {
   "cell_type": "code",
   "execution_count": 9,
   "metadata": {},
   "outputs": [
    {
     "data": {
      "text/plain": [
       "0    2832\n",
       "1     297\n",
       "Name: hit, dtype: int64"
      ]
     },
     "execution_count": 9,
     "metadata": {},
     "output_type": "execute_result"
    }
   ],
   "source": [
    "# Our y variable is very imbalanced\n",
    "pd.Series(y).value_counts()"
   ]
  },
  {
   "cell_type": "code",
   "execution_count": 10,
   "metadata": {},
   "outputs": [],
   "source": [
    "# Instantiate and fit SMOTE to oversample the minority class\n",
    "sm = SMOTE(sampling_strategy='minority', random_state=42)\n",
    "X_train_smote, y_train_smote = sm.fit_resample(X_train, y_train)"
   ]
  },
  {
   "cell_type": "code",
   "execution_count": 11,
   "metadata": {},
   "outputs": [
    {
     "data": {
      "text/plain": [
       "1    2118\n",
       "0    2118\n",
       "dtype: int64"
      ]
     },
     "execution_count": 11,
     "metadata": {},
     "output_type": "execute_result"
    }
   ],
   "source": [
    "# Classes are now balanced\n",
    "pd.Series(y_train_smote).value_counts()"
   ]
  },
  {
   "cell_type": "markdown",
   "metadata": {},
   "source": [
    "**Standard Scaler**"
   ]
  },
  {
   "cell_type": "code",
   "execution_count": 12,
   "metadata": {},
   "outputs": [],
   "source": [
    "# Instantiate Standard Scaler\n",
    "ss = StandardScaler()\n",
    "# Fit and transform training features\n",
    "X_train_sc = ss.fit_transform(X_train_smote)\n",
    "# Transform test features\n",
    "X_test_sc = ss.transform(X_test)"
   ]
  },
  {
   "cell_type": "markdown",
   "metadata": {},
   "source": [
    "**Build Neural Network**"
   ]
  },
  {
   "cell_type": "code",
   "execution_count": 20,
   "metadata": {},
   "outputs": [],
   "source": [
    "# Instantiate the Sequential Neural Net\n",
    "model = Sequential()\n",
    "# Create the input and first hidden layer\n",
    "model.add(Dense(4236, \n",
    "                activation='relu', \n",
    "                input_dim=X_train_sc.shape[1]))\n",
    "# Add hidden layer\n",
    "model.add(Dense(1900, activation='relu'))\n",
    "# Add hidden layer\n",
    "model.add(Dense(200, activation='relu'))\n",
    "# Add hidden layer\n",
    "# model.add(Dense(50, activation='relu'))\n",
    "# Instantiate a Dropout regularizer\n",
    "model.add(Dropout(0.5))\n",
    "# Create output layer\n",
    "model.add(Dense(1, activation='sigmoid'))"
   ]
  },
  {
   "cell_type": "code",
   "execution_count": 21,
   "metadata": {},
   "outputs": [],
   "source": [
    "# Compile the model \n",
    "model.compile(loss='binary_crossentropy', optimizer='adam', metrics=['accuracy'])"
   ]
  },
  {
   "cell_type": "code",
   "execution_count": 22,
   "metadata": {},
   "outputs": [],
   "source": [
    "# Instantiate EarlyStopping\n",
    "early = EarlyStopping(monitor='val_loss', min_delta=0, patience=2)"
   ]
  },
  {
   "cell_type": "code",
   "execution_count": 23,
   "metadata": {},
   "outputs": [
    {
     "name": "stdout",
     "output_type": "stream",
     "text": [
      "Train on 4236 samples, validate on 783 samples\n",
      "Epoch 1/15\n",
      "4236/4236 [==============================] - 32s 8ms/step - loss: 0.5531 - acc: 0.7198 - val_loss: 0.6667 - val_acc: 0.5964\n",
      "Epoch 2/15\n",
      "4236/4236 [==============================] - 33s 8ms/step - loss: 0.4626 - acc: 0.7847 - val_loss: 0.5189 - val_acc: 0.7190\n",
      "Epoch 3/15\n",
      "4236/4236 [==============================] - 32s 7ms/step - loss: 0.4109 - acc: 0.8102 - val_loss: 0.4998 - val_acc: 0.7880\n",
      "Epoch 4/15\n",
      "4236/4236 [==============================] - 32s 8ms/step - loss: 0.3455 - acc: 0.8428 - val_loss: 0.5878 - val_acc: 0.7778\n",
      "Epoch 5/15\n",
      "4236/4236 [==============================] - 31s 7ms/step - loss: 0.3103 - acc: 0.8647 - val_loss: 0.5615 - val_acc: 0.7497\n"
     ]
    }
   ],
   "source": [
    "# Fit the neural net\n",
    "results = model.fit(X_train_sc, y_train_smote, \n",
    "                    validation_data=(X_test_sc, y_test), \n",
    "                    epochs = 15,\n",
    "                    callbacks=[early])"
   ]
  },
  {
   "cell_type": "code",
   "execution_count": 24,
   "metadata": {},
   "outputs": [],
   "source": [
    "# Generate model predictions \n",
    "preds = model.predict(X_test_sc)"
   ]
  },
  {
   "cell_type": "code",
   "execution_count": 25,
   "metadata": {},
   "outputs": [
    {
     "data": {
      "image/png": "[encoded data removed]",
      "text/plain": [
       "<Figure size 432x288 with 1 Axes>"
      ]
     },
     "metadata": {
      "needs_background": "light"
     },
     "output_type": "display_data"
    }
   ],
   "source": [
    "# Plot the results \n",
    "plt.plot(results.history['loss'], label='Train loss');\n",
    "plt.plot(results.history['val_loss'], label='Test loss');\n",
    "plt.legend();"
   ]
  },
  {
   "cell_type": "markdown",
   "metadata": {},
   "source": [
    "# GridSearch a logistic regression model using audio features for interpretability "
   ]
  },
  {
   "cell_type": "code",
   "execution_count": 26,
   "metadata": {},
   "outputs": [],
   "source": [
    "# Build logistic regression parameters for Gridsearch\n",
    "params = {\n",
    "    'penalty': ['l1', 'l2'],\n",
    "    'C': [1, 5, 10]\n",
    "}"
   ]
  },
  {
   "cell_type": "code",
   "execution_count": 27,
   "metadata": {},
   "outputs": [],
   "source": [
    "# Instantiate Gridsearch for logistic regression\n",
    "gs = GridSearchCV(estimator=LogisticRegression(),\n",
    "                 param_grid=params)"
   ]
  },
  {
   "cell_type": "code",
   "execution_count": 28,
   "metadata": {},
   "outputs": [
    {
     "name": "stdout",
     "output_type": "stream",
     "text": [
      "The best score is:  0.6857884796978282\n",
      "The best parameters to use are:  {'C': 5, 'penalty': 'l2'}\n",
      "The recall score is:  0.6231884057971014\n"
     ]
    }
   ],
   "source": [
    "# Fit the GridSearch model\n",
    "gs.fit(X_train_sc, y_train_smote)\n",
    "# Print the best accuracy score\n",
    "print('The best score is: ', gs.best_score_)\n",
    "# Print the best parameters to use\n",
    "print('The best parameters to use are: ', gs.best_params_)\n",
    "# Generate model predictions\n",
    "gs_preds = gs.predict(X_test_sc)\n",
    "# Print the recall score\n",
    "print('The recall score is: ', recall_score(y_test, gs_preds))"
   ]
  },
  {
   "cell_type": "code",
   "execution_count": 29,
   "metadata": {},
   "outputs": [
    {
     "name": "stdout",
     "output_type": "stream",
     "text": [
      "The accuracy score is:  0.6283524904214559\n"
     ]
    }
   ],
   "source": [
    "# Create a logistic regression model with the best parameters\n",
    "lr = LogisticRegression(C=5)\n",
    "# Fit the model\n",
    "lr.fit(X_train_sc, y_train_smote)\n",
    "# Print accuracy score\n",
    "print('The accuracy score is: ', lr.score(X_test_sc, y_test))\n"
   ]
  },
  {
   "cell_type": "code",
   "execution_count": 30,
   "metadata": {},
   "outputs": [
    {
     "data": {
      "text/html": [
       "<div>\n",
       "<style scoped>\n",
       "    .dataframe tbody tr th:only-of-type {\n",
       "        vertical-align: middle;\n",
       "    }\n",
       "\n",
       "    .dataframe tbody tr th {\n",
       "        vertical-align: top;\n",
       "    }\n",
       "\n",
       "    .dataframe thead th {\n",
       "        text-align: right;\n",
       "    }\n",
       "</style>\n",
       "<table border=\"1\" class=\"dataframe\">\n",
       "  <thead>\n",
       "    <tr style=\"text-align: right;\">\n",
       "      <th></th>\n",
       "      <th>coefficients</th>\n",
       "    </tr>\n",
       "  </thead>\n",
       "  <tbody>\n",
       "    <tr>\n",
       "      <th>energy</th>\n",
       "      <td>-0.627122</td>\n",
       "    </tr>\n",
       "    <tr>\n",
       "      <th>instrumentalness</th>\n",
       "      <td>-0.342719</td>\n",
       "    </tr>\n",
       "    <tr>\n",
       "      <th>acousticness</th>\n",
       "      <td>-0.154411</td>\n",
       "    </tr>\n",
       "    <tr>\n",
       "      <th>valence</th>\n",
       "      <td>-0.071294</td>\n",
       "    </tr>\n",
       "    <tr>\n",
       "      <th>tempo</th>\n",
       "      <td>-0.065701</td>\n",
       "    </tr>\n",
       "    <tr>\n",
       "      <th>duration_sec</th>\n",
       "      <td>-0.033974</td>\n",
       "    </tr>\n",
       "    <tr>\n",
       "      <th>liveness</th>\n",
       "      <td>-0.021042</td>\n",
       "    </tr>\n",
       "    <tr>\n",
       "      <th>time_signature</th>\n",
       "      <td>0.052033</td>\n",
       "    </tr>\n",
       "    <tr>\n",
       "      <th>mode</th>\n",
       "      <td>0.083846</td>\n",
       "    </tr>\n",
       "    <tr>\n",
       "      <th>speechiness</th>\n",
       "      <td>0.101722</td>\n",
       "    </tr>\n",
       "    <tr>\n",
       "      <th>key</th>\n",
       "      <td>0.141994</td>\n",
       "    </tr>\n",
       "    <tr>\n",
       "      <th>danceability</th>\n",
       "      <td>0.681005</td>\n",
       "    </tr>\n",
       "    <tr>\n",
       "      <th>loudness</th>\n",
       "      <td>1.039353</td>\n",
       "    </tr>\n",
       "  </tbody>\n",
       "</table>\n",
       "</div>"
      ],
      "text/plain": [
       "                  coefficients\n",
       "energy               -0.627122\n",
       "instrumentalness     -0.342719\n",
       "acousticness         -0.154411\n",
       "valence              -0.071294\n",
       "tempo                -0.065701\n",
       "duration_sec         -0.033974\n",
       "liveness             -0.021042\n",
       "time_signature        0.052033\n",
       "mode                  0.083846\n",
       "speechiness           0.101722\n",
       "key                   0.141994\n",
       "danceability          0.681005\n",
       "loudness              1.039353"
      ]
     },
     "execution_count": 30,
     "metadata": {},
     "output_type": "execute_result"
    }
   ],
   "source": [
    "# Create a dataframe with feature coefficients to see which features have most influence on a hit song\n",
    "coef_df = pd.DataFrame(lr.coef_, columns=features, index=['coefficients']).T.sort_values('coefficients')\n",
    "coef_df"
   ]
  },
  {
   "cell_type": "code",
   "execution_count": 62,
   "metadata": {},
   "outputs": [
    {
     "data": {
      "image/png": "[encoded data removed]",
      "text/plain": [
       "<Figure size 864x576 with 1 Axes>"
      ]
     },
     "metadata": {
      "needs_background": "light"
     },
     "output_type": "display_data"
    }
   ],
   "source": [
    "# Horizontal bar chart\n",
    "plt.figure(figsize=(12,8))\n",
    "plt.barh(coef_df.index, coef_df['coefficients'], \n",
    "         color=['yellow', 'yellow', 'purple', 'purple', 'purple', 'purple', 'purple', \n",
    "                'blue', 'blue', 'blue', 'blue', 'orange', 'orange']);"
   ]
  },
  {
   "cell_type": "code",
   "execution_count": 32,
   "metadata": {
    "scrolled": true
   },
   "outputs": [
    {
     "data": {
      "text/plain": [
       "0    714\n",
       "1     69\n",
       "Name: hit, dtype: int64"
      ]
     },
     "execution_count": 32,
     "metadata": {},
     "output_type": "execute_result"
    }
   ],
   "source": [
    "y_test.value_counts()"
   ]
  },
  {
   "cell_type": "code",
   "execution_count": 33,
   "metadata": {},
   "outputs": [
    {
     "name": "stdout",
     "output_type": "stream",
     "text": [
      "The recall score is:  0.6231884057971014\n"
     ]
    },
    {
     "data": {
      "text/html": [
       "<div>\n",
       "<style scoped>\n",
       "    .dataframe tbody tr th:only-of-type {\n",
       "        vertical-align: middle;\n",
       "    }\n",
       "\n",
       "    .dataframe tbody tr th {\n",
       "        vertical-align: top;\n",
       "    }\n",
       "\n",
       "    .dataframe thead th {\n",
       "        text-align: right;\n",
       "    }\n",
       "</style>\n",
       "<table border=\"1\" class=\"dataframe\">\n",
       "  <thead>\n",
       "    <tr style=\"text-align: right;\">\n",
       "      <th></th>\n",
       "      <th>predicted not hit</th>\n",
       "      <th>predicted hit</th>\n",
       "    </tr>\n",
       "  </thead>\n",
       "  <tbody>\n",
       "    <tr>\n",
       "      <th>actual not hit</th>\n",
       "      <td>449</td>\n",
       "      <td>265</td>\n",
       "    </tr>\n",
       "    <tr>\n",
       "      <th>actual hit</th>\n",
       "      <td>26</td>\n",
       "      <td>43</td>\n",
       "    </tr>\n",
       "  </tbody>\n",
       "</table>\n",
       "</div>"
      ],
      "text/plain": [
       "                predicted not hit  predicted hit\n",
       "actual not hit                449            265\n",
       "actual hit                     26             43"
      ]
     },
     "execution_count": 33,
     "metadata": {},
     "output_type": "execute_result"
    }
   ],
   "source": [
    "# Generate a confusion matrix\n",
    "cm = pd.DataFrame(confusion_matrix(y_test, gs_preds), \n",
    "                  columns=['predicted not hit', 'predicted hit'],\n",
    "                  index=['actual not hit', 'actual hit'])\n",
    "# Print the recall score\n",
    "print('The recall score is: ', recall_score(y_test, gs_preds))\n",
    "cm"
   ]
  },
  {
   "cell_type": "markdown",
   "metadata": {},
   "source": [
    "# Building a logistic regression model to analyze song lyrics"
   ]
  },
  {
   "cell_type": "code",
   "execution_count": 41,
   "metadata": {},
   "outputs": [],
   "source": [
    "# Read in data\n",
    "master_08 = pd.read_csv('./data/MASTER_2008_lyrics')\n",
    "master_13 = pd.read_csv('./data/MASTER_2013_lyrics')\n",
    "master_18 = pd.read_csv('./data/MASTER_2018_lyrics')\n",
    "\n",
    "# Concatenate all lyrics files\n",
    "master_lyrics = pd.concat([master_08, master_13, master_18])"
   ]
  },
  {
   "cell_type": "code",
   "execution_count": 35,
   "metadata": {},
   "outputs": [],
   "source": [
    "# Drop 'Unnamed: 0' column\n",
    "master_18.drop('Unnamed: 0', axis=1, inplace=True)\n",
    "master_13.drop('Unnamed: 0', axis=1, inplace=True)\n",
    "master_08.drop('Unnamed: 0', axis=1, inplace=True)"
   ]
  },
  {
   "cell_type": "code",
   "execution_count": 36,
   "metadata": {
    "scrolled": true
   },
   "outputs": [
    {
     "name": "stdout",
     "output_type": "stream",
     "text": [
      "0    1373\n",
      "1      98\n",
      "Name: hit, dtype: int64\n",
      "\n",
      "0    2696\n",
      "1      95\n",
      "Name: hit, dtype: int64\n",
      "\n",
      "0    1935\n",
      "1      98\n",
      "Name: hit, dtype: int64\n"
     ]
    }
   ],
   "source": [
    "# Check for imbalanced classes \n",
    "print(master_18['hit'].value_counts())\n",
    "print('')\n",
    "print(master_13['hit'].value_counts())\n",
    "print('')\n",
    "print(master_08['hit'].value_counts())"
   ]
  },
  {
   "cell_type": "code",
   "execution_count": 86,
   "metadata": {},
   "outputs": [],
   "source": [
    "'''\n",
    "Create a function that preprocesses the dataset for modeling, remedies imbalanced classes, models the data\n",
    "and returns a confusion matrix with the printed recall score\n",
    "'''\n",
    "def lyrics_model(df):\n",
    "    # Set X and y and train test split\n",
    "    X = df['tokenized_lyrics']\n",
    "    y= df['hit']\n",
    "    X_train, X_test, y_train, y_test = train_test_split(X, y, random_state=42)\n",
    "    \n",
    "    # Instantiate CountVectorizer\n",
    "    cv = CountVectorizer(lowercase=True, stop_words='english', ngram_range=(1,5))\n",
    "    # Fit and transform features from training data\n",
    "    X_train_cv = cv.fit_transform(X_train)\n",
    "    # Transform features from testing data\n",
    "    X_test_cv = cv.transform(X_test)\n",
    "    \n",
    "    # Instantiate SMOTE to remedy imbalanced classes and resample minority class\n",
    "    sm = SMOTE(sampling_strategy='minority', random_state=42)\n",
    "    X_train_smote, y_train_smote = sm.fit_resample(X_train_cv, y_train)\n",
    "    \n",
    "    # Instantiate logistic regression\n",
    "    lr = LogisticRegression()\n",
    "    # Fit the model\n",
    "    lr.fit(X_train_smote, y_train_smote)\n",
    "    # Print the model's accuracy score \n",
    "    print('The accuracy score is: ', lr.score(X_test_cv, y_test))\n",
    "    # Create predictions\n",
    "    preds = lr.predict(X_test_cv)\n",
    "    # Print the recall score\n",
    "    print('The recall score is: ', recall_score(y_test, preds))\n",
    "    \n",
    "    # Create a confusion matrix\n",
    "    cm = pd.DataFrame(confusion_matrix(y_test, preds), \n",
    "                      columns=['predicted not hit', 'predicted hit'],\n",
    "                      index=['actual not hit', 'actual hit'])\n",
    "    return cm   # Return confusion matrix"
   ]
  },
  {
   "cell_type": "code",
   "execution_count": 83,
   "metadata": {},
   "outputs": [
    {
     "name": "stdout",
     "output_type": "stream",
     "text": [
      "The accuracy score is:  0.9194499017681729\n",
      "The recall score is:  0.0\n"
     ]
    },
    {
     "data": {
      "text/html": [
       "<div>\n",
       "<style scoped>\n",
       "    .dataframe tbody tr th:only-of-type {\n",
       "        vertical-align: middle;\n",
       "    }\n",
       "\n",
       "    .dataframe tbody tr th {\n",
       "        vertical-align: top;\n",
       "    }\n",
       "\n",
       "    .dataframe thead th {\n",
       "        text-align: right;\n",
       "    }\n",
       "</style>\n",
       "<table border=\"1\" class=\"dataframe\">\n",
       "  <thead>\n",
       "    <tr style=\"text-align: right;\">\n",
       "      <th></th>\n",
       "      <th>predicted not hit</th>\n",
       "      <th>predicted hit</th>\n",
       "    </tr>\n",
       "  </thead>\n",
       "  <tbody>\n",
       "    <tr>\n",
       "      <th>actual not hit</th>\n",
       "      <td>468</td>\n",
       "      <td>20</td>\n",
       "    </tr>\n",
       "    <tr>\n",
       "      <th>actual hit</th>\n",
       "      <td>21</td>\n",
       "      <td>0</td>\n",
       "    </tr>\n",
       "  </tbody>\n",
       "</table>\n",
       "</div>"
      ],
      "text/plain": [
       "                predicted not hit  predicted hit\n",
       "actual not hit                468             20\n",
       "actual hit                     21              0"
      ]
     },
     "execution_count": 83,
     "metadata": {},
     "output_type": "execute_result"
    }
   ],
   "source": [
    "lyrics_model(master_08)"
   ]
  },
  {
   "cell_type": "code",
   "execution_count": 84,
   "metadata": {},
   "outputs": [
    {
     "name": "stdout",
     "output_type": "stream",
     "text": [
      "The accuracy score is:  0.9541547277936963\n",
      "The recall score is:  0.047619047619047616\n"
     ]
    },
    {
     "data": {
      "text/html": [
       "<div>\n",
       "<style scoped>\n",
       "    .dataframe tbody tr th:only-of-type {\n",
       "        vertical-align: middle;\n",
       "    }\n",
       "\n",
       "    .dataframe tbody tr th {\n",
       "        vertical-align: top;\n",
       "    }\n",
       "\n",
       "    .dataframe thead th {\n",
       "        text-align: right;\n",
       "    }\n",
       "</style>\n",
       "<table border=\"1\" class=\"dataframe\">\n",
       "  <thead>\n",
       "    <tr style=\"text-align: right;\">\n",
       "      <th></th>\n",
       "      <th>predicted not hit</th>\n",
       "      <th>predicted hit</th>\n",
       "    </tr>\n",
       "  </thead>\n",
       "  <tbody>\n",
       "    <tr>\n",
       "      <th>actual not hit</th>\n",
       "      <td>665</td>\n",
       "      <td>12</td>\n",
       "    </tr>\n",
       "    <tr>\n",
       "      <th>actual hit</th>\n",
       "      <td>20</td>\n",
       "      <td>1</td>\n",
       "    </tr>\n",
       "  </tbody>\n",
       "</table>\n",
       "</div>"
      ],
      "text/plain": [
       "                predicted not hit  predicted hit\n",
       "actual not hit                665             12\n",
       "actual hit                     20              1"
      ]
     },
     "execution_count": 84,
     "metadata": {},
     "output_type": "execute_result"
    }
   ],
   "source": [
    "lyrics_model(master_13)"
   ]
  },
  {
   "cell_type": "code",
   "execution_count": 78,
   "metadata": {
    "scrolled": true
   },
   "outputs": [
    {
     "name": "stdout",
     "output_type": "stream",
     "text": [
      "The accuracy score is:  0.9483695652173914\n",
      "The recall score is:  0.391304347826087\n"
     ]
    },
    {
     "data": {
      "text/html": [
       "<div>\n",
       "<style scoped>\n",
       "    .dataframe tbody tr th:only-of-type {\n",
       "        vertical-align: middle;\n",
       "    }\n",
       "\n",
       "    .dataframe tbody tr th {\n",
       "        vertical-align: top;\n",
       "    }\n",
       "\n",
       "    .dataframe thead th {\n",
       "        text-align: right;\n",
       "    }\n",
       "</style>\n",
       "<table border=\"1\" class=\"dataframe\">\n",
       "  <thead>\n",
       "    <tr style=\"text-align: right;\">\n",
       "      <th></th>\n",
       "      <th>predicted not hit</th>\n",
       "      <th>predicted hit</th>\n",
       "    </tr>\n",
       "  </thead>\n",
       "  <tbody>\n",
       "    <tr>\n",
       "      <th>actual not hit</th>\n",
       "      <td>340</td>\n",
       "      <td>5</td>\n",
       "    </tr>\n",
       "    <tr>\n",
       "      <th>actual hit</th>\n",
       "      <td>14</td>\n",
       "      <td>9</td>\n",
       "    </tr>\n",
       "  </tbody>\n",
       "</table>\n",
       "</div>"
      ],
      "text/plain": [
       "                predicted not hit  predicted hit\n",
       "actual not hit                340              5\n",
       "actual hit                     14              9"
      ]
     },
     "execution_count": 78,
     "metadata": {},
     "output_type": "execute_result"
    }
   ],
   "source": [
    "lyrics_model(master_18)"
   ]
  },
  {
   "cell_type": "code",
   "execution_count": 87,
   "metadata": {},
   "outputs": [
    {
     "name": "stdout",
     "output_type": "stream",
     "text": [
      "The accuracy score is:  0.9390088945362135\n",
      "The recall score is:  0.08\n"
     ]
    },
    {
     "data": {
      "text/html": [
       "<div>\n",
       "<style scoped>\n",
       "    .dataframe tbody tr th:only-of-type {\n",
       "        vertical-align: middle;\n",
       "    }\n",
       "\n",
       "    .dataframe tbody tr th {\n",
       "        vertical-align: top;\n",
       "    }\n",
       "\n",
       "    .dataframe thead th {\n",
       "        text-align: right;\n",
       "    }\n",
       "</style>\n",
       "<table border=\"1\" class=\"dataframe\">\n",
       "  <thead>\n",
       "    <tr style=\"text-align: right;\">\n",
       "      <th></th>\n",
       "      <th>predicted not hit</th>\n",
       "      <th>predicted hit</th>\n",
       "    </tr>\n",
       "  </thead>\n",
       "  <tbody>\n",
       "    <tr>\n",
       "      <th>actual not hit</th>\n",
       "      <td>1472</td>\n",
       "      <td>27</td>\n",
       "    </tr>\n",
       "    <tr>\n",
       "      <th>actual hit</th>\n",
       "      <td>69</td>\n",
       "      <td>6</td>\n",
       "    </tr>\n",
       "  </tbody>\n",
       "</table>\n",
       "</div>"
      ],
      "text/plain": [
       "                predicted not hit  predicted hit\n",
       "actual not hit               1472             27\n",
       "actual hit                     69              6"
      ]
     },
     "execution_count": 87,
     "metadata": {},
     "output_type": "execute_result"
    }
   ],
   "source": [
    "lyrics_model(master_lyrics)"
   ]
  },
  {
   "cell_type": "code",
   "execution_count": 53,
   "metadata": {},
   "outputs": [
    {
     "data": {
      "text/plain": [
       "LogisticRegression(C=1.0, class_weight=None, dual=False, fit_intercept=True,\n",
       "          intercept_scaling=1, max_iter=100, multi_class='warn',\n",
       "          n_jobs=None, penalty='l2', random_state=None, solver='warn',\n",
       "          tol=0.0001, verbose=0, warm_start=False)"
      ]
     },
     "execution_count": 53,
     "metadata": {},
     "output_type": "execute_result"
    }
   ],
   "source": [
    "X2 = master_lyrics['tokenized_lyrics']\n",
    "y2 = master_lyrics['hit']\n",
    "X2_train, X2_test, y2_train, y2_test = train_test_split(X2, y2, random_state=42)\n",
    "\n",
    "# Instantiate CountVectorizer\n",
    "cv = CountVectorizer(lowercase=True, stop_words='english', ngram_range=(1,5))\n",
    "# Fit and transform features from training data\n",
    "X2_train_cv = cv.fit_transform(X2_train)\n",
    "# Transform features from testing data\n",
    "X2_test_cv = cv.transform(X2_test)\n",
    "\n",
    "# Instantiate SMOTE to remedy imbalanced classes and resample minority class\n",
    "sm2 = SMOTE(sampling_strategy='minority', random_state=42)\n",
    "X2_train_smote, y2_train_smote = sm2.fit_resample(X2_train_cv, y2_train)\n",
    "\n",
    "# Instantiate logistic regression\n",
    "lr2 = LogisticRegression()\n",
    "# Fit the model\n",
    "lr2.fit(X2_train_smote, y2_train_smote)"
   ]
  },
  {
   "cell_type": "code",
   "execution_count": 74,
   "metadata": {},
   "outputs": [
    {
     "data": {
      "text/plain": [
       "[array([-0.01335648, -0.00323555, -0.00323555, ..., -0.00081564,\n",
       "        -0.00081564, -0.00081564])]"
      ]
     },
     "execution_count": 74,
     "metadata": {},
     "output_type": "execute_result"
    }
   ],
   "source": [
    "lr2.coef_"
   ]
  },
  {
   "cell_type": "markdown",
   "metadata": {},
   "source": [
    "# Build clustering algorithm for lyrics "
   ]
  },
  {
   "cell_type": "code",
   "execution_count": 49,
   "metadata": {},
   "outputs": [],
   "source": [
    "# Set X and y and train test split\n",
    "X = master_lyrics['tokenized_lyrics']\n",
    "y = master_lyrics['hit']\n",
    "X_train, X_test, y_train, y_test = train_test_split(X, y, random_state=42)\n",
    "\n",
    "# Instantiate CountVectorizer\n",
    "cv = CountVectorizer(lowercase=True, stop_words='english', ngram_range=(1,5))\n",
    "# Fit and transform features from training data\n",
    "X_train_cv = cv.fit_transform(X_train)\n",
    "# Transform features from testing data\n",
    "X_test_cv = cv.transform(X_test)\n",
    "\n",
    "# Instantiate SMOTE to remedy imbalanced classes and resample minority class\n",
    "sm = SMOTE(sampling_strategy='minority', random_state=42)\n",
    "X_train_smote, y_train_smote = sm.fit_resample(X_train_cv, y_train)"
   ]
  },
  {
   "cell_type": "code",
   "execution_count": 50,
   "metadata": {},
   "outputs": [
    {
     "name": "stdout",
     "output_type": "stream",
     "text": [
      "[1 1 1 ... 1 1 1]\n",
      "[[0.08333333 0.         0.         ... 0.         0.         0.        ]\n",
      " [0.00044658 0.00011164 0.00011164 ... 0.00011164 0.00011164 0.00011164]\n",
      " [0.         0.         0.         ... 0.         0.         0.        ]\n",
      " ...\n",
      " [0.         0.         0.         ... 0.         0.         0.        ]\n",
      " [0.         0.         0.         ... 0.         0.         0.        ]\n",
      " [0.         0.         0.         ... 0.         0.         0.        ]]\n"
     ]
    }
   ],
   "source": [
    "# Instantiate KMeans\n",
    "kmeans = KMeans(n_clusters=10)\n",
    "# Fit the model\n",
    "kmeans.fit(X_train_smote)\n",
    "# Create cluster predictions\n",
    "preds = kmeans.predict(X_test_cv)\n",
    "print(preds)\n",
    "# Get centroids\n",
    "centroids = kmeans.cluster_centers_\n",
    "print(centroids)"
   ]
  },
  {
   "cell_type": "code",
   "execution_count": 52,
   "metadata": {},
   "outputs": [
    {
     "data": {
      "text/plain": [
       "(1574,)"
      ]
     },
     "execution_count": 52,
     "metadata": {},
     "output_type": "execute_result"
    }
   ],
   "source": [
    "preds.shape"
   ]
  },
  {
   "cell_type": "code",
   "execution_count": null,
   "metadata": {},
   "outputs": [],
   "source": [
    "plt.figure()"
   ]
  }
 ],
 "metadata": {
  "kernelspec": {
   "display_name": "tensorflow",
   "language": "python",
   "name": "myenv"
  },
  "language_info": {
   "codemirror_mode": {
    "name": "ipython",
    "version": 3
   },
   "file_extension": ".py",
   "mimetype": "text/x-python",
   "name": "python",
   "nbconvert_exporter": "python",
   "pygments_lexer": "ipython3",
   "version": "3.6.8"
  }
 },
 "nbformat": 4,
 "nbformat_minor": 2
}
