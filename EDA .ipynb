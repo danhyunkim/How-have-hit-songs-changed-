{
 "cells": [
  {
   "cell_type": "markdown",
   "metadata": {},
   "source": [
    "# Exploratory Data Analysis"
   ]
  },
  {
   "cell_type": "code",
   "execution_count": null,
   "metadata": {},
   "outputs": [],
   "source": [
    "import pandas as pd\n",
    "import numpy as np\n",
    "import matplotlib.pyplot as plt\n",
    "import seaborn as sns\n",
    "\n",
    "%matplotlib inline"
   ]
  },
  {
   "cell_type": "markdown",
   "metadata": {},
   "source": [
    "### Read in our data"
   ]
  },
  {
   "cell_type": "code",
   "execution_count": null,
   "metadata": {},
   "outputs": [],
   "source": [
    "master_18_ft = pd.read_csv('./data/MASTER_2018_audio_features')"
   ]
  },
  {
   "cell_type": "code",
   "execution_count": null,
   "metadata": {},
   "outputs": [],
   "source": [
    "bb_18_ft = pd.read_csv('./data/REVAMPED_2018_billboard_features')"
   ]
  },
  {
   "cell_type": "code",
   "execution_count": null,
   "metadata": {},
   "outputs": [],
   "source": [
    "sf_18_ft = pd.read_csv('./data/REVAMPED_2018_songfacts_features')"
   ]
  },
  {
   "cell_type": "code",
   "execution_count": null,
   "metadata": {},
   "outputs": [],
   "source": [
    "master_13_ft = pd.read_csv('./data/MASTER_2013_audio_features')"
   ]
  },
  {
   "cell_type": "code",
   "execution_count": null,
   "metadata": {},
   "outputs": [],
   "source": [
    "bb_13_ft = pd.read_csv('./data/REVAMPED_2013_billboard_features')"
   ]
  },
  {
   "cell_type": "code",
   "execution_count": null,
   "metadata": {},
   "outputs": [],
   "source": [
    "sf_13_ft = pd.read_csv('./data/REVAMPED_2013_songfacts_features')"
   ]
  },
  {
   "cell_type": "code",
   "execution_count": null,
   "metadata": {},
   "outputs": [],
   "source": [
    "master_08_ft = pd.read_csv('./data/MASTER_2018_audio_features')"
   ]
  },
  {
   "cell_type": "code",
   "execution_count": null,
   "metadata": {},
   "outputs": [],
   "source": [
    "bb_08_ft = pd.read_csv('./data/REVAMPED_2008_billboard_features')"
   ]
  },
  {
   "cell_type": "code",
   "execution_count": null,
   "metadata": {},
   "outputs": [],
   "source": [
    "sf_08_ft = pd.read_csv('./data/REVAMPED_2008_songfacts_features')"
   ]
  },
  {
   "cell_type": "code",
   "execution_count": null,
   "metadata": {},
   "outputs": [],
   "source": [
    "master_18_lyr = pd.read_csv('./data/MASTER_2018_lyrics')"
   ]
  },
  {
   "cell_type": "code",
   "execution_count": null,
   "metadata": {},
   "outputs": [],
   "source": [
    "master_13_lyr = pd.read_csv('./data/MASTER_2013_lyrics')"
   ]
  },
  {
   "cell_type": "code",
   "execution_count": null,
   "metadata": {},
   "outputs": [],
   "source": [
    "master_08_lyr = pd.read_csv('./data/MASTER_2008_lyrics')"
   ]
  },
  {
   "cell_type": "markdown",
   "metadata": {},
   "source": [
    "### Data Dictionary\n",
    "\n",
    "|Key|Value Type|Value Description|\n",
    "|---|---|---|\n",
    "|danceability|float|Danceability describes how suitable a track is for dancing based on a combination of musical elements including tempo, rhythm stability, beat strength, and overall regularity. A value of 0.0 is least danceable and 1.0 is most danceable.|\n",
    "|energy|float|Energy is a measure from 0.0 to 1.0 and represents a perceptual measure of intensity and activity. Typically, energetic tracks feel fast, loud, and noisy. For example, death metal has high energy, while a Bach prelude scores low on the scale. Perceptual features contributing to this attribute include dynamic range, perceived loudness, timbre, onset rate, and general entropy.|\n",
    "|key|int|The estimated overall key of the track. Integers map to pitches using standard Pitch Class notation. E.g. 0 = C, 1 = C♯/D♭, 2 = D, and so on. If no key was detected, the value is -1.|\n",
    "|loudness|float|The overall loudness of a track in decibels (dB). Loudness values are averaged across the entire track and are useful for comparing relative loudness of tracks. Loudness is the quality of a sound that is the primary psychological correlate of physical strength (amplitude). Values typically range between -60 and 0 db.|\n",
    "|mode|int|Mode indicates the modality (major or minor) of a track, the type of scale from which its melodic content is derived. Major is represented by 1 and minor is 0.|\n",
    "|speechiness|float|Speechiness detects the presence of spoken words in a track. The more exclusively speech-like the recording (e.g. talk show, audio book, poetry), the closer to 1.0 the attribute value. Values above 0.66 describe tracks that are probably made entirely of spoken words. Values between 0.33 and 0.66 describe tracks that may contain both music and speech, either in sections or layered, including such cases as rap music. Values below 0.33 most likely represent music and other non-speech-like tracks.|\n",
    "|acousticness|float|A confidence measure from 0.0 to 1.0 of whether the track is acoustic. 1.0 represents high confidence the track is acoustic.|\n",
    "|instrumentalness|float|Predicts whether a track contains no vocals. “Ooh” and “aah” sounds are treated as instrumental in this context. Rap or spoken word tracks are clearly “vocal”. The closer the instrumentalness value is to 1.0, the greater likelihood the track contains no vocal content. Values above 0.5 are intended to represent instrumental tracks, but confidence is higher as the value approaches 1.0.|\n",
    "|liveness|float|Detects the presence of an audience in the recording. Higher liveness values represent an increased probability that the track was performed live. A value above 0.8 provides strong likelihood that the track is live.|\n",
    "|valence|float|A measure from 0.0 to 1.0 describing the musical positiveness conveyed by a track. Tracks with high valence sound more positive (e.g. happy, cheerful, euphoric), while tracks with low valence sound more negative (e.g. sad, depressed, angry).|\n",
    "|tempo|float|The overall estimated tempo of a track in beats per minute (BPM).|\n",
    "|duration_sec|float|The duration of the track in seconds.|\n",
    "|time_signature|int|An estimated overall time signature of a track. The time signature (meter) is a notational convention to specify how many beats are in each bar (or measure).|"
   ]
  },
  {
   "cell_type": "markdown",
   "metadata": {},
   "source": [
    "|---|---|---|\n",
    "|---|---|---|"
   ]
  },
  {
   "cell_type": "code",
   "execution_count": null,
   "metadata": {},
   "outputs": [],
   "source": [
    "# Create a function to perform preliminary cleaning of dataframe\n",
    "def eda(df):\n",
    "    df.drop('Unnamed: 0', axis=1, inplace=True)        # Drop 'Unnamed: 0' column\n",
    "    df.drop_duplicates(inplace=True)                   # Drop duplicates\n",
    "    print(df.shape)                                    # Print shape of dataframe\n",
    "    print(df.isna().sum().sum())                       # Print total number or null values in dataframe"
   ]
  },
  {
   "cell_type": "code",
   "execution_count": null,
   "metadata": {},
   "outputs": [],
   "source": [
    "eda(master_18_ft)"
   ]
  },
  {
   "cell_type": "code",
   "execution_count": null,
   "metadata": {},
   "outputs": [],
   "source": [
    "master_18_ft.describe().T"
   ]
  },
  {
   "cell_type": "code",
   "execution_count": null,
   "metadata": {
    "scrolled": true
   },
   "outputs": [],
   "source": [
    "master_18_ft.head()"
   ]
  },
  {
   "cell_type": "code",
   "execution_count": null,
   "metadata": {},
   "outputs": [],
   "source": [
    "eda(master_13_ft)"
   ]
  },
  {
   "cell_type": "code",
   "execution_count": null,
   "metadata": {},
   "outputs": [],
   "source": [
    "master_13_ft.head()"
   ]
  },
  {
   "cell_type": "code",
   "execution_count": null,
   "metadata": {},
   "outputs": [],
   "source": [
    "eda(master_08_ft)"
   ]
  },
  {
   "cell_type": "code",
   "execution_count": null,
   "metadata": {},
   "outputs": [],
   "source": [
    "master_08_ft.head()"
   ]
  },
  {
   "cell_type": "code",
   "execution_count": null,
   "metadata": {},
   "outputs": [],
   "source": [
    "eda(bb_18_ft)"
   ]
  },
  {
   "cell_type": "code",
   "execution_count": null,
   "metadata": {},
   "outputs": [],
   "source": [
    "eda(sf_18_ft)"
   ]
  },
  {
   "cell_type": "code",
   "execution_count": null,
   "metadata": {},
   "outputs": [],
   "source": [
    "eda(bb_13_ft)"
   ]
  },
  {
   "cell_type": "code",
   "execution_count": null,
   "metadata": {},
   "outputs": [],
   "source": [
    "eda(sf_13_ft)"
   ]
  },
  {
   "cell_type": "code",
   "execution_count": null,
   "metadata": {},
   "outputs": [],
   "source": [
    "eda(bb_08_ft)"
   ]
  },
  {
   "cell_type": "code",
   "execution_count": null,
   "metadata": {},
   "outputs": [],
   "source": [
    "eda(sf_08_ft)"
   ]
  },
  {
   "cell_type": "code",
   "execution_count": null,
   "metadata": {},
   "outputs": [],
   "source": [
    "# Create a function to create subplots of histograms to visualize distributions\n",
    "# Input are 3 dataframes and a given column name\n",
    "def histograms(df1, df2, df3, column):\n",
    "    fig, ax = plt.subplots(nrows=1, ncols=3, sharey=True, figsize=(20,8));         # Initiate subplots\n",
    "    \n",
    "    ax[0].hist(df1[column], color='navy', bins=20);                                # First histogram\n",
    "    ax[0].set_title('{} {}'.format(\"2018 song's\", column), fontsize=18)            # Title for first histogram\n",
    "    \n",
    "    ax[1].hist(df2[column], color='pink', bins=20);                                # Second histogram\n",
    "    ax[1].set_title('{} {}'.format(\"2013 song's\", column), fontsize=18)            # Title for second histogram\n",
    "    \n",
    "    ax[2].hist(df3[column], color='darkred', bins=20);                             # Third histogram\n",
    "    ax[2].set_title('{} {}'.format(\"2008 song's\", column), fontsize=18)            # Title for third histogram"
   ]
  },
  {
   "cell_type": "code",
   "execution_count": null,
   "metadata": {},
   "outputs": [],
   "source": [
    "histograms(df1 = bb_18_ft, df2 = bb_13_ft, df3 = bb_08_ft, column = 'danceability')"
   ]
  },
  {
   "cell_type": "code",
   "execution_count": null,
   "metadata": {},
   "outputs": [],
   "source": [
    "histograms(df1 = sf_18_ft, df2 = sf_13_ft, df3 = sf_08_ft, column = 'danceability')"
   ]
  },
  {
   "cell_type": "code",
   "execution_count": null,
   "metadata": {},
   "outputs": [],
   "source": [
    "histograms(df1 = bb_18_ft, df2 = bb_13_ft, df3 = bb_08_ft, column = 'energy')"
   ]
  },
  {
   "cell_type": "code",
   "execution_count": null,
   "metadata": {},
   "outputs": [],
   "source": [
    "histograms(df1 = sf_18_ft, df2 = sf_13_ft, df3 = sf_08_ft, column = 'energy')"
   ]
  },
  {
   "cell_type": "code",
   "execution_count": null,
   "metadata": {},
   "outputs": [],
   "source": [
    "histograms(df1 = bb_18_ft, df2 = bb_13_ft, df3 = bb_08_ft, column = 'loudness')"
   ]
  },
  {
   "cell_type": "code",
   "execution_count": null,
   "metadata": {},
   "outputs": [],
   "source": [
    "histograms(df1 = sf_18_ft, df2 = sf_13_ft, df3 = sf_08_ft, column = 'loudness')"
   ]
  },
  {
   "cell_type": "code",
   "execution_count": null,
   "metadata": {},
   "outputs": [],
   "source": [
    "histograms(df1 = bb_18_ft, df2 = bb_13_ft, df3 = bb_08_ft, column = 'mode')"
   ]
  },
  {
   "cell_type": "code",
   "execution_count": null,
   "metadata": {},
   "outputs": [],
   "source": [
    "histograms(df1 = sf_18_ft, df2 = sf_13_ft, df3 = sf_08_ft, column = 'mode')"
   ]
  },
  {
   "cell_type": "code",
   "execution_count": null,
   "metadata": {},
   "outputs": [],
   "source": [
    "histograms(df1 = bb_18_ft, df2 = bb_13_ft, df3 = bb_08_ft, column = 'speechiness')"
   ]
  },
  {
   "cell_type": "code",
   "execution_count": null,
   "metadata": {},
   "outputs": [],
   "source": [
    "histograms(df1 = sf_18_ft, df2 = sf_13_ft, df3 = sf_08_ft, column = 'speechiness')"
   ]
  },
  {
   "cell_type": "code",
   "execution_count": null,
   "metadata": {},
   "outputs": [],
   "source": [
    "histograms(df1 = bb_18_ft, df2 = bb_13_ft, df3 = bb_08_ft, column = 'acousticness')"
   ]
  },
  {
   "cell_type": "code",
   "execution_count": null,
   "metadata": {},
   "outputs": [],
   "source": [
    "histograms(df1 = sf_18_ft, df2 = sf_13_ft, df3 = sf_08_ft, column = 'acousticness')"
   ]
  },
  {
   "cell_type": "code",
   "execution_count": null,
   "metadata": {},
   "outputs": [],
   "source": [
    "histograms(df1 = bb_18_ft, df2 = bb_13_ft, df3 = bb_08_ft, column = 'instrumentalness')"
   ]
  },
  {
   "cell_type": "code",
   "execution_count": null,
   "metadata": {},
   "outputs": [],
   "source": [
    "histograms(df1 = sf_18_ft, df2 = sf_13_ft, df3 = sf_08_ft, column = 'instrumentalness')"
   ]
  },
  {
   "cell_type": "code",
   "execution_count": null,
   "metadata": {},
   "outputs": [],
   "source": [
    "histograms(df1 = bb_18_ft, df2 = bb_13_ft, df3 = bb_08_ft, column = 'liveness')"
   ]
  },
  {
   "cell_type": "code",
   "execution_count": null,
   "metadata": {},
   "outputs": [],
   "source": [
    "histograms(df1 = sf_18_ft, df2 = sf_13_ft, df3 = sf_08_ft, column = 'liveness')"
   ]
  },
  {
   "cell_type": "code",
   "execution_count": null,
   "metadata": {},
   "outputs": [],
   "source": [
    "histograms(df1 = bb_18_ft, df2 = bb_13_ft, df3 = bb_08_ft, column = 'valence')"
   ]
  },
  {
   "cell_type": "code",
   "execution_count": null,
   "metadata": {},
   "outputs": [],
   "source": [
    "histograms(df1 = sf_18_ft, df2 = sf_13_ft, df3 = sf_08_ft, column = 'valence')"
   ]
  },
  {
   "cell_type": "code",
   "execution_count": null,
   "metadata": {},
   "outputs": [],
   "source": [
    "histograms(df1 = bb_18_ft, df2 = bb_13_ft, df3 = bb_08_ft, column = 'tempo')"
   ]
  },
  {
   "cell_type": "code",
   "execution_count": null,
   "metadata": {},
   "outputs": [],
   "source": [
    "histograms(df1 = sf_18_ft, df2 = sf_13_ft, df3 = sf_08_ft, column = 'tempo')"
   ]
  },
  {
   "cell_type": "code",
   "execution_count": null,
   "metadata": {},
   "outputs": [],
   "source": [
    "histograms(df1 = bb_18_ft, df2 = bb_13_ft, df3 = bb_08_ft, column = 'duration_ms')"
   ]
  },
  {
   "cell_type": "code",
   "execution_count": null,
   "metadata": {},
   "outputs": [],
   "source": [
    "histograms(df1 = sf_18_ft, df2 = sf_13_ft, df3 = sf_08_ft, column = 'duration_ms')"
   ]
  },
  {
   "cell_type": "code",
   "execution_count": null,
   "metadata": {},
   "outputs": [],
   "source": []
  },
  {
   "cell_type": "code",
   "execution_count": null,
   "metadata": {},
   "outputs": [],
   "source": []
  },
  {
   "cell_type": "code",
   "execution_count": null,
   "metadata": {},
   "outputs": [],
   "source": []
  },
  {
   "cell_type": "code",
   "execution_count": null,
   "metadata": {},
   "outputs": [],
   "source": []
  },
  {
   "cell_type": "code",
   "execution_count": null,
   "metadata": {},
   "outputs": [],
   "source": []
  },
  {
   "cell_type": "markdown",
   "metadata": {},
   "source": [
    "### Master csv files "
   ]
  },
  {
   "cell_type": "code",
   "execution_count": null,
   "metadata": {},
   "outputs": [],
   "source": [
    "histograms(df1 = master_18_ft, \n",
    "           df2 = master_13_ft,\n",
    "           df3 = master_08_ft,\n",
    "           column = 'danceability')"
   ]
  },
  {
   "cell_type": "code",
   "execution_count": null,
   "metadata": {},
   "outputs": [],
   "source": [
    "histograms(df1 = master_18_ft, \n",
    "           df2 = master_13_ft,\n",
    "           df3 = master_08_ft,\n",
    "           column = 'energy')"
   ]
  },
  {
   "cell_type": "code",
   "execution_count": null,
   "metadata": {},
   "outputs": [],
   "source": [
    "histograms(df1 = master_18_ft, \n",
    "           df2 = master_13_ft,\n",
    "           df3 = master_08_ft,\n",
    "           column = 'key')"
   ]
  },
  {
   "cell_type": "code",
   "execution_count": null,
   "metadata": {},
   "outputs": [],
   "source": [
    "histograms(df1 = master_18_ft, \n",
    "           df2 = master_13_ft,\n",
    "           df3 = master_08_ft,\n",
    "           column = 'loudness')"
   ]
  },
  {
   "cell_type": "code",
   "execution_count": null,
   "metadata": {},
   "outputs": [],
   "source": [
    "histograms(df1 = master_18_ft, \n",
    "           df2 = master_13_ft,\n",
    "           df3 = master_08_ft,\n",
    "           column = 'mode')"
   ]
  },
  {
   "cell_type": "code",
   "execution_count": null,
   "metadata": {},
   "outputs": [],
   "source": [
    "histograms(df1 = master_18_ft, \n",
    "           df2 = master_13_ft,\n",
    "           df3 = master_08_ft,\n",
    "           column = 'speechiness')"
   ]
  },
  {
   "cell_type": "code",
   "execution_count": null,
   "metadata": {},
   "outputs": [],
   "source": [
    "histograms(df1 = master_18_ft, \n",
    "           df2 = master_13_ft,\n",
    "           df3 = master_08_ft,\n",
    "           column = 'acousticness')"
   ]
  },
  {
   "cell_type": "code",
   "execution_count": null,
   "metadata": {},
   "outputs": [],
   "source": [
    "histograms(df1 = master_18_ft, \n",
    "           df2 = master_13_ft,\n",
    "           df3 = master_08_ft,\n",
    "           column = 'instrumentalness')"
   ]
  },
  {
   "cell_type": "code",
   "execution_count": null,
   "metadata": {},
   "outputs": [],
   "source": [
    "histograms(df1 = master_18_ft, \n",
    "           df2 = master_13_ft,\n",
    "           df3 = master_08_ft,\n",
    "           column = 'liveness')"
   ]
  },
  {
   "cell_type": "code",
   "execution_count": null,
   "metadata": {},
   "outputs": [],
   "source": [
    "histograms(df1 = master_18_ft, \n",
    "           df2 = master_13_ft,\n",
    "           df3 = master_08_ft,\n",
    "           column = 'valence')"
   ]
  },
  {
   "cell_type": "code",
   "execution_count": null,
   "metadata": {},
   "outputs": [],
   "source": [
    "histograms(df1 = master_18_ft, \n",
    "           df2 = master_13_ft,\n",
    "           df3 = master_08_ft,\n",
    "           column = 'tempo')"
   ]
  },
  {
   "cell_type": "code",
   "execution_count": null,
   "metadata": {},
   "outputs": [],
   "source": [
    "histograms(df1 = master_18_ft, \n",
    "           df2 = master_13_ft,\n",
    "           df3 = master_08_ft,\n",
    "           column = 'time_signature')"
   ]
  },
  {
   "cell_type": "code",
   "execution_count": null,
   "metadata": {},
   "outputs": [],
   "source": [
    "histograms(df1 = master_18_ft, \n",
    "           df2 = master_13_ft,\n",
    "           df3 = master_08_ft,\n",
    "           column = 'duration_sec')"
   ]
  },
  {
   "cell_type": "code",
   "execution_count": null,
   "metadata": {},
   "outputs": [],
   "source": []
  }
 ],
 "metadata": {
  "kernelspec": {
   "display_name": "Python 3",
   "language": "python",
   "name": "python3"
  },
  "language_info": {
   "codemirror_mode": {
    "name": "ipython",
    "version": 3
   },
   "file_extension": ".py",
   "mimetype": "text/x-python",
   "name": "python",
   "nbconvert_exporter": "python",
   "pygments_lexer": "ipython3",
   "version": "3.6.8"
  }
 },
 "nbformat": 4,
 "nbformat_minor": 2
}
